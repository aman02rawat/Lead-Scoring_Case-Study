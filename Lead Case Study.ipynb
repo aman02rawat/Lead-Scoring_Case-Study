{
 "cells": [
  {
   "cell_type": "markdown",
   "id": "b5da7ed8",
   "metadata": {},
   "source": [
    "# Lead Case Study"
   ]
  },
  {
   "cell_type": "markdown",
   "id": "2cee826d",
   "metadata": {},
   "source": [
    "### Step 1 : Importing Libraries and Data"
   ]
  },
  {
   "cell_type": "code",
   "execution_count": 1,
   "id": "f17278c6",
   "metadata": {},
   "outputs": [],
   "source": [
    "import pandas as pd\n",
    "import numpy as np\n",
    "\n",
    "# Visualisation\n",
    "import matplotlib.pyplot as plt\n",
    "import seaborn as sns\n",
    "\n",
    "import warnings\n",
    "warnings.filterwarnings(\"ignore\")"
   ]
  },
  {
   "cell_type": "code",
   "execution_count": 3,
   "id": "5fb1be74",
   "metadata": {},
   "outputs": [],
   "source": [
    "# import the dataset\n",
    "lead=pd.read_csv(\"Leads.csv\")"
   ]
  },
  {
   "cell_type": "code",
   "execution_count": 4,
   "id": "b7e6c9a0",
   "metadata": {},
   "outputs": [
    {
     "data": {
      "text/html": [
       "<div>\n",
       "<style scoped>\n",
       "    .dataframe tbody tr th:only-of-type {\n",
       "        vertical-align: middle;\n",
       "    }\n",
       "\n",
       "    .dataframe tbody tr th {\n",
       "        vertical-align: top;\n",
       "    }\n",
       "\n",
       "    .dataframe thead th {\n",
       "        text-align: right;\n",
       "    }\n",
       "</style>\n",
       "<table border=\"1\" class=\"dataframe\">\n",
       "  <thead>\n",
       "    <tr style=\"text-align: right;\">\n",
       "      <th></th>\n",
       "      <th>Prospect ID</th>\n",
       "      <th>Lead Number</th>\n",
       "      <th>Lead Origin</th>\n",
       "      <th>Lead Source</th>\n",
       "      <th>Do Not Email</th>\n",
       "      <th>Do Not Call</th>\n",
       "      <th>Converted</th>\n",
       "      <th>TotalVisits</th>\n",
       "      <th>Total Time Spent on Website</th>\n",
       "      <th>Page Views Per Visit</th>\n",
       "      <th>...</th>\n",
       "      <th>Get updates on DM Content</th>\n",
       "      <th>Lead Profile</th>\n",
       "      <th>City</th>\n",
       "      <th>Asymmetrique Activity Index</th>\n",
       "      <th>Asymmetrique Profile Index</th>\n",
       "      <th>Asymmetrique Activity Score</th>\n",
       "      <th>Asymmetrique Profile Score</th>\n",
       "      <th>I agree to pay the amount through cheque</th>\n",
       "      <th>A free copy of Mastering The Interview</th>\n",
       "      <th>Last Notable Activity</th>\n",
       "    </tr>\n",
       "  </thead>\n",
       "  <tbody>\n",
       "    <tr>\n",
       "      <th>0</th>\n",
       "      <td>7927b2df-8bba-4d29-b9a2-b6e0beafe620</td>\n",
       "      <td>660737</td>\n",
       "      <td>API</td>\n",
       "      <td>Olark Chat</td>\n",
       "      <td>No</td>\n",
       "      <td>No</td>\n",
       "      <td>0</td>\n",
       "      <td>0.0</td>\n",
       "      <td>0</td>\n",
       "      <td>0.0</td>\n",
       "      <td>...</td>\n",
       "      <td>No</td>\n",
       "      <td>Select</td>\n",
       "      <td>Select</td>\n",
       "      <td>02.Medium</td>\n",
       "      <td>02.Medium</td>\n",
       "      <td>15.0</td>\n",
       "      <td>15.0</td>\n",
       "      <td>No</td>\n",
       "      <td>No</td>\n",
       "      <td>Modified</td>\n",
       "    </tr>\n",
       "    <tr>\n",
       "      <th>1</th>\n",
       "      <td>2a272436-5132-4136-86fa-dcc88c88f482</td>\n",
       "      <td>660728</td>\n",
       "      <td>API</td>\n",
       "      <td>Organic Search</td>\n",
       "      <td>No</td>\n",
       "      <td>No</td>\n",
       "      <td>0</td>\n",
       "      <td>5.0</td>\n",
       "      <td>674</td>\n",
       "      <td>2.5</td>\n",
       "      <td>...</td>\n",
       "      <td>No</td>\n",
       "      <td>Select</td>\n",
       "      <td>Select</td>\n",
       "      <td>02.Medium</td>\n",
       "      <td>02.Medium</td>\n",
       "      <td>15.0</td>\n",
       "      <td>15.0</td>\n",
       "      <td>No</td>\n",
       "      <td>No</td>\n",
       "      <td>Email Opened</td>\n",
       "    </tr>\n",
       "    <tr>\n",
       "      <th>2</th>\n",
       "      <td>8cc8c611-a219-4f35-ad23-fdfd2656bd8a</td>\n",
       "      <td>660727</td>\n",
       "      <td>Landing Page Submission</td>\n",
       "      <td>Direct Traffic</td>\n",
       "      <td>No</td>\n",
       "      <td>No</td>\n",
       "      <td>1</td>\n",
       "      <td>2.0</td>\n",
       "      <td>1532</td>\n",
       "      <td>2.0</td>\n",
       "      <td>...</td>\n",
       "      <td>No</td>\n",
       "      <td>Potential Lead</td>\n",
       "      <td>Mumbai</td>\n",
       "      <td>02.Medium</td>\n",
       "      <td>01.High</td>\n",
       "      <td>14.0</td>\n",
       "      <td>20.0</td>\n",
       "      <td>No</td>\n",
       "      <td>Yes</td>\n",
       "      <td>Email Opened</td>\n",
       "    </tr>\n",
       "  </tbody>\n",
       "</table>\n",
       "<p>3 rows × 37 columns</p>\n",
       "</div>"
      ],
      "text/plain": [
       "                            Prospect ID  Lead Number              Lead Origin  \\\n",
       "0  7927b2df-8bba-4d29-b9a2-b6e0beafe620       660737                      API   \n",
       "1  2a272436-5132-4136-86fa-dcc88c88f482       660728                      API   \n",
       "2  8cc8c611-a219-4f35-ad23-fdfd2656bd8a       660727  Landing Page Submission   \n",
       "\n",
       "      Lead Source Do Not Email Do Not Call  Converted  TotalVisits  \\\n",
       "0      Olark Chat           No          No          0          0.0   \n",
       "1  Organic Search           No          No          0          5.0   \n",
       "2  Direct Traffic           No          No          1          2.0   \n",
       "\n",
       "   Total Time Spent on Website  Page Views Per Visit  ...  \\\n",
       "0                            0                   0.0  ...   \n",
       "1                          674                   2.5  ...   \n",
       "2                         1532                   2.0  ...   \n",
       "\n",
       "  Get updates on DM Content    Lead Profile    City  \\\n",
       "0                        No          Select  Select   \n",
       "1                        No          Select  Select   \n",
       "2                        No  Potential Lead  Mumbai   \n",
       "\n",
       "  Asymmetrique Activity Index Asymmetrique Profile Index  \\\n",
       "0                   02.Medium                  02.Medium   \n",
       "1                   02.Medium                  02.Medium   \n",
       "2                   02.Medium                    01.High   \n",
       "\n",
       "  Asymmetrique Activity Score Asymmetrique Profile Score  \\\n",
       "0                        15.0                       15.0   \n",
       "1                        15.0                       15.0   \n",
       "2                        14.0                       20.0   \n",
       "\n",
       "  I agree to pay the amount through cheque  \\\n",
       "0                                       No   \n",
       "1                                       No   \n",
       "2                                       No   \n",
       "\n",
       "  A free copy of Mastering The Interview Last Notable Activity  \n",
       "0                                     No              Modified  \n",
       "1                                     No          Email Opened  \n",
       "2                                    Yes          Email Opened  \n",
       "\n",
       "[3 rows x 37 columns]"
      ]
     },
     "execution_count": 4,
     "metadata": {},
     "output_type": "execute_result"
    }
   ],
   "source": [
    "lead.head(3)"
   ]
  },
  {
   "cell_type": "markdown",
   "id": "f1aef6a5",
   "metadata": {},
   "source": [
    "## Step 2: Inspecting the data and Sanity Checks"
   ]
  },
  {
   "cell_type": "code",
   "execution_count": 5,
   "id": "12f1841d",
   "metadata": {},
   "outputs": [
    {
     "data": {
      "text/plain": [
       "(9240, 37)"
      ]
     },
     "execution_count": 5,
     "metadata": {},
     "output_type": "execute_result"
    }
   ],
   "source": [
    "lead.shape"
   ]
  },
  {
   "cell_type": "code",
   "execution_count": 6,
   "id": "44a27804",
   "metadata": {},
   "outputs": [
    {
     "name": "stdout",
     "output_type": "stream",
     "text": [
      "<class 'pandas.core.frame.DataFrame'>\n",
      "RangeIndex: 9240 entries, 0 to 9239\n",
      "Data columns (total 37 columns):\n",
      " #   Column                                         Non-Null Count  Dtype  \n",
      "---  ------                                         --------------  -----  \n",
      " 0   Prospect ID                                    9240 non-null   object \n",
      " 1   Lead Number                                    9240 non-null   int64  \n",
      " 2   Lead Origin                                    9240 non-null   object \n",
      " 3   Lead Source                                    9204 non-null   object \n",
      " 4   Do Not Email                                   9240 non-null   object \n",
      " 5   Do Not Call                                    9240 non-null   object \n",
      " 6   Converted                                      9240 non-null   int64  \n",
      " 7   TotalVisits                                    9103 non-null   float64\n",
      " 8   Total Time Spent on Website                    9240 non-null   int64  \n",
      " 9   Page Views Per Visit                           9103 non-null   float64\n",
      " 10  Last Activity                                  9137 non-null   object \n",
      " 11  Country                                        6779 non-null   object \n",
      " 12  Specialization                                 7802 non-null   object \n",
      " 13  How did you hear about X Education             7033 non-null   object \n",
      " 14  What is your current occupation                6550 non-null   object \n",
      " 15  What matters most to you in choosing a course  6531 non-null   object \n",
      " 16  Search                                         9240 non-null   object \n",
      " 17  Magazine                                       9240 non-null   object \n",
      " 18  Newspaper Article                              9240 non-null   object \n",
      " 19  X Education Forums                             9240 non-null   object \n",
      " 20  Newspaper                                      9240 non-null   object \n",
      " 21  Digital Advertisement                          9240 non-null   object \n",
      " 22  Through Recommendations                        9240 non-null   object \n",
      " 23  Receive More Updates About Our Courses         9240 non-null   object \n",
      " 24  Tags                                           5887 non-null   object \n",
      " 25  Lead Quality                                   4473 non-null   object \n",
      " 26  Update me on Supply Chain Content              9240 non-null   object \n",
      " 27  Get updates on DM Content                      9240 non-null   object \n",
      " 28  Lead Profile                                   6531 non-null   object \n",
      " 29  City                                           7820 non-null   object \n",
      " 30  Asymmetrique Activity Index                    5022 non-null   object \n",
      " 31  Asymmetrique Profile Index                     5022 non-null   object \n",
      " 32  Asymmetrique Activity Score                    5022 non-null   float64\n",
      " 33  Asymmetrique Profile Score                     5022 non-null   float64\n",
      " 34  I agree to pay the amount through cheque       9240 non-null   object \n",
      " 35  A free copy of Mastering The Interview         9240 non-null   object \n",
      " 36  Last Notable Activity                          9240 non-null   object \n",
      "dtypes: float64(4), int64(3), object(30)\n",
      "memory usage: 2.6+ MB\n"
     ]
    }
   ],
   "source": [
    "lead.info()"
   ]
  },
  {
   "cell_type": "code",
   "execution_count": 7,
   "id": "30f39a4a",
   "metadata": {},
   "outputs": [
    {
     "data": {
      "text/plain": [
       "Prospect ID                                       0.00\n",
       "Lead Number                                       0.00\n",
       "Lead Origin                                       0.00\n",
       "Lead Source                                       0.39\n",
       "Do Not Email                                      0.00\n",
       "Do Not Call                                       0.00\n",
       "Converted                                         0.00\n",
       "TotalVisits                                       1.48\n",
       "Total Time Spent on Website                       0.00\n",
       "Page Views Per Visit                              1.48\n",
       "Last Activity                                     1.11\n",
       "Country                                          26.63\n",
       "Specialization                                   15.56\n",
       "How did you hear about X Education               23.89\n",
       "What is your current occupation                  29.11\n",
       "What matters most to you in choosing a course    29.32\n",
       "Search                                            0.00\n",
       "Magazine                                          0.00\n",
       "Newspaper Article                                 0.00\n",
       "X Education Forums                                0.00\n",
       "Newspaper                                         0.00\n",
       "Digital Advertisement                             0.00\n",
       "Through Recommendations                           0.00\n",
       "Receive More Updates About Our Courses            0.00\n",
       "Tags                                             36.29\n",
       "Lead Quality                                     51.59\n",
       "Update me on Supply Chain Content                 0.00\n",
       "Get updates on DM Content                         0.00\n",
       "Lead Profile                                     29.32\n",
       "City                                             15.37\n",
       "Asymmetrique Activity Index                      45.65\n",
       "Asymmetrique Profile Index                       45.65\n",
       "Asymmetrique Activity Score                      45.65\n",
       "Asymmetrique Profile Score                       45.65\n",
       "I agree to pay the amount through cheque          0.00\n",
       "A free copy of Mastering The Interview            0.00\n",
       "Last Notable Activity                             0.00\n",
       "dtype: float64"
      ]
     },
     "execution_count": 7,
     "metadata": {},
     "output_type": "execute_result"
    }
   ],
   "source": [
    "round(lead.isnull().sum()/len(lead.index)*100,2)"
   ]
  },
  {
   "cell_type": "code",
   "execution_count": 8,
   "id": "40594841",
   "metadata": {},
   "outputs": [],
   "source": [
    "# convert 'select' to null value\n",
    "\n",
    "lead=lead.replace('Select',np.nan)"
   ]
  },
  {
   "cell_type": "markdown",
   "id": "e5572b10",
   "metadata": {},
   "source": [
    "### Check Missing value and drop the columns"
   ]
  },
  {
   "cell_type": "code",
   "execution_count": 9,
   "id": "f12602a2",
   "metadata": {},
   "outputs": [],
   "source": [
    "# Drop the column which has >=45% of null values\n",
    "lead.drop([\"Asymmetrique Profile Score\",\"Asymmetrique Activity Score\",\"Asymmetrique Profile Index\",\"Asymmetrique Activity Index\",\"Lead Quality\"],axis=1,inplace=True)"
   ]
  },
  {
   "cell_type": "code",
   "execution_count": 10,
   "id": "a3fba24c",
   "metadata": {},
   "outputs": [
    {
     "data": {
      "text/plain": [
       "Mumbai                         34.870130\n",
       "Thane & Outskirts               8.138528\n",
       "Other Cities                    7.424242\n",
       "Other Cities of Maharashtra     4.945887\n",
       "Other Metro Cities              4.112554\n",
       "Tier II Cities                  0.800866\n",
       "Name: City, dtype: float64"
      ]
     },
     "execution_count": 10,
     "metadata": {},
     "output_type": "execute_result"
    }
   ],
   "source": [
    "lead['City'].value_counts()/len(lead.index)*100"
   ]
  },
  {
   "cell_type": "code",
   "execution_count": 11,
   "id": "51f2b344",
   "metadata": {},
   "outputs": [],
   "source": [
    "extracol = [\"How did you hear about X Education\",\"Search\",\"Magazine\",\"Newspaper Article\",\"X Education Forums\",\"Lead Profile\",\"Newspaper\",\"Through Recommendations\", \"Receive More Updates About Our Courses\",\"I agree to pay the amount through cheque\",\"Get updates on DM Content\",\"Update me on Supply Chain Content\",\"Digital Advertisement\"]"
   ]
  },
  {
   "cell_type": "code",
   "execution_count": 12,
   "id": "85fa4272",
   "metadata": {},
   "outputs": [],
   "source": [
    "lead.drop(extracol,axis=1,inplace=True)"
   ]
  },
  {
   "cell_type": "code",
   "execution_count": 13,
   "id": "99fe344f",
   "metadata": {},
   "outputs": [
    {
     "data": {
      "text/html": [
       "<div>\n",
       "<style scoped>\n",
       "    .dataframe tbody tr th:only-of-type {\n",
       "        vertical-align: middle;\n",
       "    }\n",
       "\n",
       "    .dataframe tbody tr th {\n",
       "        vertical-align: top;\n",
       "    }\n",
       "\n",
       "    .dataframe thead th {\n",
       "        text-align: right;\n",
       "    }\n",
       "</style>\n",
       "<table border=\"1\" class=\"dataframe\">\n",
       "  <thead>\n",
       "    <tr style=\"text-align: right;\">\n",
       "      <th></th>\n",
       "      <th>Prospect ID</th>\n",
       "      <th>Lead Number</th>\n",
       "      <th>Lead Origin</th>\n",
       "      <th>Lead Source</th>\n",
       "      <th>Do Not Email</th>\n",
       "      <th>Do Not Call</th>\n",
       "      <th>Converted</th>\n",
       "      <th>TotalVisits</th>\n",
       "      <th>Total Time Spent on Website</th>\n",
       "      <th>Page Views Per Visit</th>\n",
       "      <th>Last Activity</th>\n",
       "      <th>Country</th>\n",
       "      <th>Specialization</th>\n",
       "      <th>What is your current occupation</th>\n",
       "      <th>What matters most to you in choosing a course</th>\n",
       "      <th>Tags</th>\n",
       "      <th>City</th>\n",
       "      <th>A free copy of Mastering The Interview</th>\n",
       "      <th>Last Notable Activity</th>\n",
       "    </tr>\n",
       "  </thead>\n",
       "  <tbody>\n",
       "    <tr>\n",
       "      <th>0</th>\n",
       "      <td>7927b2df-8bba-4d29-b9a2-b6e0beafe620</td>\n",
       "      <td>660737</td>\n",
       "      <td>API</td>\n",
       "      <td>Olark Chat</td>\n",
       "      <td>No</td>\n",
       "      <td>No</td>\n",
       "      <td>0</td>\n",
       "      <td>0.0</td>\n",
       "      <td>0</td>\n",
       "      <td>0.0</td>\n",
       "      <td>Page Visited on Website</td>\n",
       "      <td>NaN</td>\n",
       "      <td>NaN</td>\n",
       "      <td>Unemployed</td>\n",
       "      <td>Better Career Prospects</td>\n",
       "      <td>Interested in other courses</td>\n",
       "      <td>NaN</td>\n",
       "      <td>No</td>\n",
       "      <td>Modified</td>\n",
       "    </tr>\n",
       "    <tr>\n",
       "      <th>1</th>\n",
       "      <td>2a272436-5132-4136-86fa-dcc88c88f482</td>\n",
       "      <td>660728</td>\n",
       "      <td>API</td>\n",
       "      <td>Organic Search</td>\n",
       "      <td>No</td>\n",
       "      <td>No</td>\n",
       "      <td>0</td>\n",
       "      <td>5.0</td>\n",
       "      <td>674</td>\n",
       "      <td>2.5</td>\n",
       "      <td>Email Opened</td>\n",
       "      <td>India</td>\n",
       "      <td>NaN</td>\n",
       "      <td>Unemployed</td>\n",
       "      <td>Better Career Prospects</td>\n",
       "      <td>Ringing</td>\n",
       "      <td>NaN</td>\n",
       "      <td>No</td>\n",
       "      <td>Email Opened</td>\n",
       "    </tr>\n",
       "    <tr>\n",
       "      <th>2</th>\n",
       "      <td>8cc8c611-a219-4f35-ad23-fdfd2656bd8a</td>\n",
       "      <td>660727</td>\n",
       "      <td>Landing Page Submission</td>\n",
       "      <td>Direct Traffic</td>\n",
       "      <td>No</td>\n",
       "      <td>No</td>\n",
       "      <td>1</td>\n",
       "      <td>2.0</td>\n",
       "      <td>1532</td>\n",
       "      <td>2.0</td>\n",
       "      <td>Email Opened</td>\n",
       "      <td>India</td>\n",
       "      <td>Business Administration</td>\n",
       "      <td>Student</td>\n",
       "      <td>Better Career Prospects</td>\n",
       "      <td>Will revert after reading the email</td>\n",
       "      <td>Mumbai</td>\n",
       "      <td>Yes</td>\n",
       "      <td>Email Opened</td>\n",
       "    </tr>\n",
       "  </tbody>\n",
       "</table>\n",
       "</div>"
      ],
      "text/plain": [
       "                            Prospect ID  Lead Number              Lead Origin  \\\n",
       "0  7927b2df-8bba-4d29-b9a2-b6e0beafe620       660737                      API   \n",
       "1  2a272436-5132-4136-86fa-dcc88c88f482       660728                      API   \n",
       "2  8cc8c611-a219-4f35-ad23-fdfd2656bd8a       660727  Landing Page Submission   \n",
       "\n",
       "      Lead Source Do Not Email Do Not Call  Converted  TotalVisits  \\\n",
       "0      Olark Chat           No          No          0          0.0   \n",
       "1  Organic Search           No          No          0          5.0   \n",
       "2  Direct Traffic           No          No          1          2.0   \n",
       "\n",
       "   Total Time Spent on Website  Page Views Per Visit            Last Activity  \\\n",
       "0                            0                   0.0  Page Visited on Website   \n",
       "1                          674                   2.5             Email Opened   \n",
       "2                         1532                   2.0             Email Opened   \n",
       "\n",
       "  Country           Specialization What is your current occupation  \\\n",
       "0     NaN                      NaN                      Unemployed   \n",
       "1   India                      NaN                      Unemployed   \n",
       "2   India  Business Administration                         Student   \n",
       "\n",
       "  What matters most to you in choosing a course  \\\n",
       "0                       Better Career Prospects   \n",
       "1                       Better Career Prospects   \n",
       "2                       Better Career Prospects   \n",
       "\n",
       "                                  Tags    City  \\\n",
       "0          Interested in other courses     NaN   \n",
       "1                              Ringing     NaN   \n",
       "2  Will revert after reading the email  Mumbai   \n",
       "\n",
       "  A free copy of Mastering The Interview Last Notable Activity  \n",
       "0                                     No              Modified  \n",
       "1                                     No          Email Opened  \n",
       "2                                    Yes          Email Opened  "
      ]
     },
     "execution_count": 13,
     "metadata": {},
     "output_type": "execute_result"
    }
   ],
   "source": [
    "lead.head(3)"
   ]
  },
  {
   "cell_type": "code",
   "execution_count": 14,
   "id": "ff39e3a4",
   "metadata": {},
   "outputs": [
    {
     "data": {
      "text/plain": [
       "Index(['Prospect ID', 'Lead Number', 'Lead Origin', 'Lead Source',\n",
       "       'Do Not Email', 'Do Not Call', 'Converted', 'TotalVisits',\n",
       "       'Total Time Spent on Website', 'Page Views Per Visit', 'Last Activity',\n",
       "       'Country', 'Specialization', 'What is your current occupation',\n",
       "       'What matters most to you in choosing a course', 'Tags', 'City',\n",
       "       'A free copy of Mastering The Interview', 'Last Notable Activity'],\n",
       "      dtype='object')"
      ]
     },
     "execution_count": 14,
     "metadata": {},
     "output_type": "execute_result"
    }
   ],
   "source": [
    "lead.columns"
   ]
  },
  {
   "cell_type": "code",
   "execution_count": 15,
   "id": "52eb8f84",
   "metadata": {},
   "outputs": [
    {
     "data": {
      "text/plain": [
       "Finance Management                   10.562771\n",
       "Human Resource Management             9.177489\n",
       "Marketing Management                  9.069264\n",
       "Operations Management                 5.443723\n",
       "Business Administration               4.361472\n",
       "IT Projects Management                3.961039\n",
       "Supply Chain Management               3.777056\n",
       "Banking, Investment And Insurance     3.658009\n",
       "Travel and Tourism                    2.196970\n",
       "Media and Advertising                 2.196970\n",
       "International Business                1.926407\n",
       "Healthcare Management                 1.720779\n",
       "Hospitality Management                1.233766\n",
       "E-COMMERCE                            1.212121\n",
       "Retail Management                     1.082251\n",
       "Rural and Agribusiness                0.790043\n",
       "E-Business                            0.616883\n",
       "Services Excellence                   0.432900\n",
       "Name: Specialization, dtype: float64"
      ]
     },
     "execution_count": 15,
     "metadata": {},
     "output_type": "execute_result"
    }
   ],
   "source": [
    "lead['Specialization'].value_counts()/len(lead.index)*100"
   ]
  },
  {
   "cell_type": "code",
   "execution_count": 16,
   "id": "a5f66d8a",
   "metadata": {},
   "outputs": [
    {
     "data": {
      "text/plain": [
       "Prospect ID                                       0.000000\n",
       "Lead Number                                       0.000000\n",
       "Lead Origin                                       0.000000\n",
       "Lead Source                                       0.389610\n",
       "Do Not Email                                      0.000000\n",
       "Do Not Call                                       0.000000\n",
       "Converted                                         0.000000\n",
       "TotalVisits                                       1.482684\n",
       "Total Time Spent on Website                       0.000000\n",
       "Page Views Per Visit                              1.482684\n",
       "Last Activity                                     1.114719\n",
       "Country                                          26.634199\n",
       "Specialization                                   36.580087\n",
       "What is your current occupation                  29.112554\n",
       "What matters most to you in choosing a course    29.318182\n",
       "Tags                                             36.287879\n",
       "City                                             39.707792\n",
       "A free copy of Mastering The Interview            0.000000\n",
       "Last Notable Activity                             0.000000\n",
       "dtype: float64"
      ]
     },
     "execution_count": 16,
     "metadata": {},
     "output_type": "execute_result"
    }
   ],
   "source": [
    "lead.isnull().sum()/len(lead.index)*100"
   ]
  },
  {
   "cell_type": "code",
   "execution_count": 17,
   "id": "9f1bb5f7",
   "metadata": {},
   "outputs": [
    {
     "data": {
      "text/plain": [
       "Finance Management                   10.562771\n",
       "Human Resource Management             9.177489\n",
       "Marketing Management                  9.069264\n",
       "Operations Management                 5.443723\n",
       "Business Administration               4.361472\n",
       "IT Projects Management                3.961039\n",
       "Supply Chain Management               3.777056\n",
       "Banking, Investment And Insurance     3.658009\n",
       "Travel and Tourism                    2.196970\n",
       "Media and Advertising                 2.196970\n",
       "International Business                1.926407\n",
       "Healthcare Management                 1.720779\n",
       "Hospitality Management                1.233766\n",
       "E-COMMERCE                            1.212121\n",
       "Retail Management                     1.082251\n",
       "Rural and Agribusiness                0.790043\n",
       "E-Business                            0.616883\n",
       "Services Excellence                   0.432900\n",
       "Name: Specialization, dtype: float64"
      ]
     },
     "execution_count": 17,
     "metadata": {},
     "output_type": "execute_result"
    }
   ],
   "source": [
    "lead[\"Specialization\"].value_counts()/len(lead.index)*100"
   ]
  },
  {
   "cell_type": "markdown",
   "id": "da5de6cf",
   "metadata": {},
   "source": [
    "### Impute the null value with median of each column"
   ]
  },
  {
   "cell_type": "code",
   "execution_count": 18,
   "id": "45371740",
   "metadata": {},
   "outputs": [],
   "source": [
    "# We can impute the MUMBAI into all the NULLs as most of the values belong to MUMBAI\n",
    "lead['City'] = lead['City'].replace(np.nan, 'Mumbai')\n",
    "\n",
    "# Since there is no significant difference among top 3 specialisation , hence it will be safer to impute NaN with Others\n",
    "lead['Specialization'] = lead['Specialization'].replace(np.nan, 'Other_Specialization')\n",
    "\n",
    "# For Tags column, more than 22% data is for \"Will revert after reading the email\" and hence we can impute NULLS with Will revert after reading the email\n",
    "lead['Tags'] = lead['Tags'].replace(np.nan, 'Will revert after reading the email')\n",
    "\n",
    "# More than 70% data is of \"Better Career Prospects\" and hence it is safer to impute NULLS with this value\n",
    "lead['What matters most to you in choosing a course'] = lead['What matters most to you in choosing a course'].replace(np.nan, 'Better Career Prospects')\n",
    "\n",
    "# More than 70% data is of \"Unemployed\" and hence it is safer to impute NULLS with this value\n",
    "lead['What is your current occupation'] = lead['What is your current occupation'].replace(np.nan, 'Unemployed')\n",
    "\n",
    "# More than 70% data is of \"India\" and hence it is safer to impute NULLS with this value\n",
    "lead['Country'] = lead['Country'].replace(np.nan, 'India')"
   ]
  },
  {
   "cell_type": "code",
   "execution_count": 19,
   "id": "4140bf47",
   "metadata": {},
   "outputs": [
    {
     "data": {
      "text/html": [
       "<div>\n",
       "<style scoped>\n",
       "    .dataframe tbody tr th:only-of-type {\n",
       "        vertical-align: middle;\n",
       "    }\n",
       "\n",
       "    .dataframe tbody tr th {\n",
       "        vertical-align: top;\n",
       "    }\n",
       "\n",
       "    .dataframe thead th {\n",
       "        text-align: right;\n",
       "    }\n",
       "</style>\n",
       "<table border=\"1\" class=\"dataframe\">\n",
       "  <thead>\n",
       "    <tr style=\"text-align: right;\">\n",
       "      <th></th>\n",
       "      <th>Prospect ID</th>\n",
       "      <th>Lead Number</th>\n",
       "      <th>Lead Origin</th>\n",
       "      <th>Lead Source</th>\n",
       "      <th>Do Not Email</th>\n",
       "      <th>Do Not Call</th>\n",
       "      <th>Converted</th>\n",
       "      <th>TotalVisits</th>\n",
       "      <th>Total Time Spent on Website</th>\n",
       "      <th>Page Views Per Visit</th>\n",
       "      <th>Last Activity</th>\n",
       "      <th>Country</th>\n",
       "      <th>Specialization</th>\n",
       "      <th>What is your current occupation</th>\n",
       "      <th>What matters most to you in choosing a course</th>\n",
       "      <th>Tags</th>\n",
       "      <th>City</th>\n",
       "      <th>A free copy of Mastering The Interview</th>\n",
       "      <th>Last Notable Activity</th>\n",
       "    </tr>\n",
       "  </thead>\n",
       "  <tbody>\n",
       "    <tr>\n",
       "      <th>0</th>\n",
       "      <td>7927b2df-8bba-4d29-b9a2-b6e0beafe620</td>\n",
       "      <td>660737</td>\n",
       "      <td>API</td>\n",
       "      <td>Olark Chat</td>\n",
       "      <td>No</td>\n",
       "      <td>No</td>\n",
       "      <td>0</td>\n",
       "      <td>0.0</td>\n",
       "      <td>0</td>\n",
       "      <td>0.0</td>\n",
       "      <td>Page Visited on Website</td>\n",
       "      <td>India</td>\n",
       "      <td>Other_Specialization</td>\n",
       "      <td>Unemployed</td>\n",
       "      <td>Better Career Prospects</td>\n",
       "      <td>Interested in other courses</td>\n",
       "      <td>Mumbai</td>\n",
       "      <td>No</td>\n",
       "      <td>Modified</td>\n",
       "    </tr>\n",
       "    <tr>\n",
       "      <th>1</th>\n",
       "      <td>2a272436-5132-4136-86fa-dcc88c88f482</td>\n",
       "      <td>660728</td>\n",
       "      <td>API</td>\n",
       "      <td>Organic Search</td>\n",
       "      <td>No</td>\n",
       "      <td>No</td>\n",
       "      <td>0</td>\n",
       "      <td>5.0</td>\n",
       "      <td>674</td>\n",
       "      <td>2.5</td>\n",
       "      <td>Email Opened</td>\n",
       "      <td>India</td>\n",
       "      <td>Other_Specialization</td>\n",
       "      <td>Unemployed</td>\n",
       "      <td>Better Career Prospects</td>\n",
       "      <td>Ringing</td>\n",
       "      <td>Mumbai</td>\n",
       "      <td>No</td>\n",
       "      <td>Email Opened</td>\n",
       "    </tr>\n",
       "    <tr>\n",
       "      <th>2</th>\n",
       "      <td>8cc8c611-a219-4f35-ad23-fdfd2656bd8a</td>\n",
       "      <td>660727</td>\n",
       "      <td>Landing Page Submission</td>\n",
       "      <td>Direct Traffic</td>\n",
       "      <td>No</td>\n",
       "      <td>No</td>\n",
       "      <td>1</td>\n",
       "      <td>2.0</td>\n",
       "      <td>1532</td>\n",
       "      <td>2.0</td>\n",
       "      <td>Email Opened</td>\n",
       "      <td>India</td>\n",
       "      <td>Business Administration</td>\n",
       "      <td>Student</td>\n",
       "      <td>Better Career Prospects</td>\n",
       "      <td>Will revert after reading the email</td>\n",
       "      <td>Mumbai</td>\n",
       "      <td>Yes</td>\n",
       "      <td>Email Opened</td>\n",
       "    </tr>\n",
       "  </tbody>\n",
       "</table>\n",
       "</div>"
      ],
      "text/plain": [
       "                            Prospect ID  Lead Number              Lead Origin  \\\n",
       "0  7927b2df-8bba-4d29-b9a2-b6e0beafe620       660737                      API   \n",
       "1  2a272436-5132-4136-86fa-dcc88c88f482       660728                      API   \n",
       "2  8cc8c611-a219-4f35-ad23-fdfd2656bd8a       660727  Landing Page Submission   \n",
       "\n",
       "      Lead Source Do Not Email Do Not Call  Converted  TotalVisits  \\\n",
       "0      Olark Chat           No          No          0          0.0   \n",
       "1  Organic Search           No          No          0          5.0   \n",
       "2  Direct Traffic           No          No          1          2.0   \n",
       "\n",
       "   Total Time Spent on Website  Page Views Per Visit            Last Activity  \\\n",
       "0                            0                   0.0  Page Visited on Website   \n",
       "1                          674                   2.5             Email Opened   \n",
       "2                         1532                   2.0             Email Opened   \n",
       "\n",
       "  Country           Specialization What is your current occupation  \\\n",
       "0   India     Other_Specialization                      Unemployed   \n",
       "1   India     Other_Specialization                      Unemployed   \n",
       "2   India  Business Administration                         Student   \n",
       "\n",
       "  What matters most to you in choosing a course  \\\n",
       "0                       Better Career Prospects   \n",
       "1                       Better Career Prospects   \n",
       "2                       Better Career Prospects   \n",
       "\n",
       "                                  Tags    City  \\\n",
       "0          Interested in other courses  Mumbai   \n",
       "1                              Ringing  Mumbai   \n",
       "2  Will revert after reading the email  Mumbai   \n",
       "\n",
       "  A free copy of Mastering The Interview Last Notable Activity  \n",
       "0                                     No              Modified  \n",
       "1                                     No          Email Opened  \n",
       "2                                    Yes          Email Opened  "
      ]
     },
     "execution_count": 19,
     "metadata": {},
     "output_type": "execute_result"
    }
   ],
   "source": [
    "lead.dropna(inplace=True)\n",
    "\n",
    "lead.head(3)"
   ]
  },
  {
   "cell_type": "code",
   "execution_count": 20,
   "id": "0ec39ad9",
   "metadata": {},
   "outputs": [
    {
     "name": "stdout",
     "output_type": "stream",
     "text": [
      "<class 'pandas.core.frame.DataFrame'>\n",
      "Int64Index: 9074 entries, 0 to 9239\n",
      "Data columns (total 19 columns):\n",
      " #   Column                                         Non-Null Count  Dtype  \n",
      "---  ------                                         --------------  -----  \n",
      " 0   Prospect ID                                    9074 non-null   object \n",
      " 1   Lead Number                                    9074 non-null   int64  \n",
      " 2   Lead Origin                                    9074 non-null   object \n",
      " 3   Lead Source                                    9074 non-null   object \n",
      " 4   Do Not Email                                   9074 non-null   object \n",
      " 5   Do Not Call                                    9074 non-null   object \n",
      " 6   Converted                                      9074 non-null   int64  \n",
      " 7   TotalVisits                                    9074 non-null   float64\n",
      " 8   Total Time Spent on Website                    9074 non-null   int64  \n",
      " 9   Page Views Per Visit                           9074 non-null   float64\n",
      " 10  Last Activity                                  9074 non-null   object \n",
      " 11  Country                                        9074 non-null   object \n",
      " 12  Specialization                                 9074 non-null   object \n",
      " 13  What is your current occupation                9074 non-null   object \n",
      " 14  What matters most to you in choosing a course  9074 non-null   object \n",
      " 15  Tags                                           9074 non-null   object \n",
      " 16  City                                           9074 non-null   object \n",
      " 17  A free copy of Mastering The Interview         9074 non-null   object \n",
      " 18  Last Notable Activity                          9074 non-null   object \n",
      "dtypes: float64(2), int64(3), object(14)\n",
      "memory usage: 1.4+ MB\n"
     ]
    }
   ],
   "source": [
    "lead.info()"
   ]
  },
  {
   "cell_type": "code",
   "execution_count": 21,
   "id": "8550efd5",
   "metadata": {},
   "outputs": [
    {
     "data": {
      "text/plain": [
       "array(['Page Visited on Website', 'Email Opened', 'Unreachable',\n",
       "       'Converted to Lead', 'Olark Chat Conversation', 'Email Bounced',\n",
       "       'Email Link Clicked', 'Form Submitted on Website', 'Unsubscribed',\n",
       "       'Had a Phone Conversation', 'View in browser link Clicked',\n",
       "       'SMS Sent', 'Visited Booth in Tradeshow', 'Approached upfront',\n",
       "       'Resubscribed to emails', 'Email Received', 'Email Marked Spam'],\n",
       "      dtype=object)"
      ]
     },
     "execution_count": 21,
     "metadata": {},
     "output_type": "execute_result"
    }
   ],
   "source": [
    "lead[\"Last Activity\"].unique()"
   ]
  },
  {
   "cell_type": "code",
   "execution_count": 22,
   "id": "f10a212f",
   "metadata": {},
   "outputs": [
    {
     "data": {
      "text/plain": [
       "Unemployed              89.916244\n",
       "Working Professional     7.460877\n",
       "Student                  2.270223\n",
       "Other                    0.165307\n",
       "Housewife                0.099184\n",
       "Businessman              0.088164\n",
       "Name: What is your current occupation, dtype: float64"
      ]
     },
     "execution_count": 22,
     "metadata": {},
     "output_type": "execute_result"
    }
   ],
   "source": [
    "lead[\"What is your current occupation\"].value_counts()/len(lead.index)*100"
   ]
  },
  {
   "cell_type": "markdown",
   "id": "3fe7dfc5",
   "metadata": {},
   "source": [
    "#### Bucketing for < 2% of values in categorical columns"
   ]
  },
  {
   "cell_type": "code",
   "execution_count": 23,
   "id": "7e4c3184",
   "metadata": {},
   "outputs": [],
   "source": [
    "\n",
    "lead['Tags'] = lead['Tags'].replace(['Interested  in full time MBA','In confusion whether part time or DLP', 'in touch with EINS','Diploma holder (Not Eligible)',\n",
    "                                     'Graduation in progress','number not provided', 'opp hangup','Still Thinking','invalid number','wrong number given',\n",
    "                                    'Lost to Others','Shall take in the next coming month','Lateral student','Interested in Next batch',\n",
    "                                    'Recognition issue (DEC approval)','Want to take admission but has financial problems',\n",
    "                                    'University not recognized','Not doing further education','Lost to EINS'], 'Other_Tags')"
   ]
  },
  {
   "cell_type": "code",
   "execution_count": 24,
   "id": "455f755c",
   "metadata": {},
   "outputs": [],
   "source": [
    "lead['Last Activity'] = lead['Last Activity'].replace([\"Form Submitted on Website\",'Unreachable','Unsubscribed','Had a Phone Conversation', 'View in browser link Clicked',\n",
    "                   'Visited Booth in Tradeshow', 'Approached upfront','Resubscribed to emails', 'Email Received', 'Email Marked Spam'],'Other Activity')"
   ]
  },
  {
   "cell_type": "code",
   "execution_count": 25,
   "id": "0e89dbeb",
   "metadata": {},
   "outputs": [],
   "source": [
    "lead['Lead Source'] = lead['Lead Source'].replace(['Referral Sites', 'Reference', 'google', 'Welingak Website',\n",
    "       'Facebook', 'blog', 'Pay per Click Ads', 'bing', 'Social Media',\n",
    "       'WeLearn', 'Click2call', 'Live Chat', 'welearnblog_Home',\n",
    "       'youtubechannel', 'testone', 'Press_Release', 'NC_EDM'],'Other Lead Source')"
   ]
  },
  {
   "cell_type": "code",
   "execution_count": 26,
   "id": "4c41c577",
   "metadata": {},
   "outputs": [],
   "source": [
    "lead[\"Specialization\"]=lead[\"Specialization\"].replace(['International Business', 'E-COMMERCE','Retail Management', 'Services Excellence',\n",
    "       'Hospitality Management', 'Rural and Agribusiness','Healthcare Management', 'E-Business'], 'Extra Specialization')"
   ]
  },
  {
   "cell_type": "code",
   "execution_count": 27,
   "id": "adb40453",
   "metadata": {},
   "outputs": [],
   "source": [
    "lead[\"What is your current occupation\"]=lead[\"What is your current occupation\"].replace(['Students','Businessman', 'Other', 'Housewife'], 'Other Occupation')"
   ]
  },
  {
   "cell_type": "code",
   "execution_count": 28,
   "id": "001eac89",
   "metadata": {},
   "outputs": [
    {
     "data": {
      "text/html": [
       "<div>\n",
       "<style scoped>\n",
       "    .dataframe tbody tr th:only-of-type {\n",
       "        vertical-align: middle;\n",
       "    }\n",
       "\n",
       "    .dataframe tbody tr th {\n",
       "        vertical-align: top;\n",
       "    }\n",
       "\n",
       "    .dataframe thead th {\n",
       "        text-align: right;\n",
       "    }\n",
       "</style>\n",
       "<table border=\"1\" class=\"dataframe\">\n",
       "  <thead>\n",
       "    <tr style=\"text-align: right;\">\n",
       "      <th></th>\n",
       "      <th>Prospect ID</th>\n",
       "      <th>Lead Number</th>\n",
       "      <th>Lead Origin</th>\n",
       "      <th>Lead Source</th>\n",
       "      <th>Do Not Email</th>\n",
       "      <th>Do Not Call</th>\n",
       "      <th>Converted</th>\n",
       "      <th>TotalVisits</th>\n",
       "      <th>Total Time Spent on Website</th>\n",
       "      <th>Page Views Per Visit</th>\n",
       "      <th>Last Activity</th>\n",
       "      <th>Country</th>\n",
       "      <th>Specialization</th>\n",
       "      <th>What is your current occupation</th>\n",
       "      <th>What matters most to you in choosing a course</th>\n",
       "      <th>Tags</th>\n",
       "      <th>City</th>\n",
       "      <th>A free copy of Mastering The Interview</th>\n",
       "      <th>Last Notable Activity</th>\n",
       "    </tr>\n",
       "  </thead>\n",
       "  <tbody>\n",
       "    <tr>\n",
       "      <th>0</th>\n",
       "      <td>7927b2df-8bba-4d29-b9a2-b6e0beafe620</td>\n",
       "      <td>660737</td>\n",
       "      <td>API</td>\n",
       "      <td>Olark Chat</td>\n",
       "      <td>No</td>\n",
       "      <td>No</td>\n",
       "      <td>0</td>\n",
       "      <td>0.0</td>\n",
       "      <td>0</td>\n",
       "      <td>0.0</td>\n",
       "      <td>Page Visited on Website</td>\n",
       "      <td>India</td>\n",
       "      <td>Other_Specialization</td>\n",
       "      <td>Unemployed</td>\n",
       "      <td>Better Career Prospects</td>\n",
       "      <td>Interested in other courses</td>\n",
       "      <td>Mumbai</td>\n",
       "      <td>No</td>\n",
       "      <td>Modified</td>\n",
       "    </tr>\n",
       "    <tr>\n",
       "      <th>1</th>\n",
       "      <td>2a272436-5132-4136-86fa-dcc88c88f482</td>\n",
       "      <td>660728</td>\n",
       "      <td>API</td>\n",
       "      <td>Organic Search</td>\n",
       "      <td>No</td>\n",
       "      <td>No</td>\n",
       "      <td>0</td>\n",
       "      <td>5.0</td>\n",
       "      <td>674</td>\n",
       "      <td>2.5</td>\n",
       "      <td>Email Opened</td>\n",
       "      <td>India</td>\n",
       "      <td>Other_Specialization</td>\n",
       "      <td>Unemployed</td>\n",
       "      <td>Better Career Prospects</td>\n",
       "      <td>Ringing</td>\n",
       "      <td>Mumbai</td>\n",
       "      <td>No</td>\n",
       "      <td>Email Opened</td>\n",
       "    </tr>\n",
       "    <tr>\n",
       "      <th>2</th>\n",
       "      <td>8cc8c611-a219-4f35-ad23-fdfd2656bd8a</td>\n",
       "      <td>660727</td>\n",
       "      <td>Landing Page Submission</td>\n",
       "      <td>Direct Traffic</td>\n",
       "      <td>No</td>\n",
       "      <td>No</td>\n",
       "      <td>1</td>\n",
       "      <td>2.0</td>\n",
       "      <td>1532</td>\n",
       "      <td>2.0</td>\n",
       "      <td>Email Opened</td>\n",
       "      <td>India</td>\n",
       "      <td>Business Administration</td>\n",
       "      <td>Student</td>\n",
       "      <td>Better Career Prospects</td>\n",
       "      <td>Will revert after reading the email</td>\n",
       "      <td>Mumbai</td>\n",
       "      <td>Yes</td>\n",
       "      <td>Email Opened</td>\n",
       "    </tr>\n",
       "  </tbody>\n",
       "</table>\n",
       "</div>"
      ],
      "text/plain": [
       "                            Prospect ID  Lead Number              Lead Origin  \\\n",
       "0  7927b2df-8bba-4d29-b9a2-b6e0beafe620       660737                      API   \n",
       "1  2a272436-5132-4136-86fa-dcc88c88f482       660728                      API   \n",
       "2  8cc8c611-a219-4f35-ad23-fdfd2656bd8a       660727  Landing Page Submission   \n",
       "\n",
       "      Lead Source Do Not Email Do Not Call  Converted  TotalVisits  \\\n",
       "0      Olark Chat           No          No          0          0.0   \n",
       "1  Organic Search           No          No          0          5.0   \n",
       "2  Direct Traffic           No          No          1          2.0   \n",
       "\n",
       "   Total Time Spent on Website  Page Views Per Visit            Last Activity  \\\n",
       "0                            0                   0.0  Page Visited on Website   \n",
       "1                          674                   2.5             Email Opened   \n",
       "2                         1532                   2.0             Email Opened   \n",
       "\n",
       "  Country           Specialization What is your current occupation  \\\n",
       "0   India     Other_Specialization                      Unemployed   \n",
       "1   India     Other_Specialization                      Unemployed   \n",
       "2   India  Business Administration                         Student   \n",
       "\n",
       "  What matters most to you in choosing a course  \\\n",
       "0                       Better Career Prospects   \n",
       "1                       Better Career Prospects   \n",
       "2                       Better Career Prospects   \n",
       "\n",
       "                                  Tags    City  \\\n",
       "0          Interested in other courses  Mumbai   \n",
       "1                              Ringing  Mumbai   \n",
       "2  Will revert after reading the email  Mumbai   \n",
       "\n",
       "  A free copy of Mastering The Interview Last Notable Activity  \n",
       "0                                     No              Modified  \n",
       "1                                     No          Email Opened  \n",
       "2                                    Yes          Email Opened  "
      ]
     },
     "execution_count": 28,
     "metadata": {},
     "output_type": "execute_result"
    }
   ],
   "source": [
    "lead.head(3)"
   ]
  },
  {
   "cell_type": "code",
   "execution_count": 29,
   "id": "9c0071e0",
   "metadata": {},
   "outputs": [],
   "source": [
    "numerical=lead.select_dtypes(exclude=[\"object\"])\n",
    "categorical=lead.select_dtypes(include=[\"object\"])"
   ]
  },
  {
   "cell_type": "code",
   "execution_count": 30,
   "id": "39e79247",
   "metadata": {},
   "outputs": [
    {
     "data": {
      "text/html": [
       "<div>\n",
       "<style scoped>\n",
       "    .dataframe tbody tr th:only-of-type {\n",
       "        vertical-align: middle;\n",
       "    }\n",
       "\n",
       "    .dataframe tbody tr th {\n",
       "        vertical-align: top;\n",
       "    }\n",
       "\n",
       "    .dataframe thead th {\n",
       "        text-align: right;\n",
       "    }\n",
       "</style>\n",
       "<table border=\"1\" class=\"dataframe\">\n",
       "  <thead>\n",
       "    <tr style=\"text-align: right;\">\n",
       "      <th></th>\n",
       "      <th>Lead Number</th>\n",
       "      <th>Converted</th>\n",
       "      <th>TotalVisits</th>\n",
       "      <th>Total Time Spent on Website</th>\n",
       "      <th>Page Views Per Visit</th>\n",
       "    </tr>\n",
       "  </thead>\n",
       "  <tbody>\n",
       "    <tr>\n",
       "      <th>0</th>\n",
       "      <td>660737</td>\n",
       "      <td>0</td>\n",
       "      <td>0.0</td>\n",
       "      <td>0</td>\n",
       "      <td>0.0</td>\n",
       "    </tr>\n",
       "    <tr>\n",
       "      <th>1</th>\n",
       "      <td>660728</td>\n",
       "      <td>0</td>\n",
       "      <td>5.0</td>\n",
       "      <td>674</td>\n",
       "      <td>2.5</td>\n",
       "    </tr>\n",
       "    <tr>\n",
       "      <th>2</th>\n",
       "      <td>660727</td>\n",
       "      <td>1</td>\n",
       "      <td>2.0</td>\n",
       "      <td>1532</td>\n",
       "      <td>2.0</td>\n",
       "    </tr>\n",
       "    <tr>\n",
       "      <th>3</th>\n",
       "      <td>660719</td>\n",
       "      <td>0</td>\n",
       "      <td>1.0</td>\n",
       "      <td>305</td>\n",
       "      <td>1.0</td>\n",
       "    </tr>\n",
       "    <tr>\n",
       "      <th>4</th>\n",
       "      <td>660681</td>\n",
       "      <td>1</td>\n",
       "      <td>2.0</td>\n",
       "      <td>1428</td>\n",
       "      <td>1.0</td>\n",
       "    </tr>\n",
       "  </tbody>\n",
       "</table>\n",
       "</div>"
      ],
      "text/plain": [
       "   Lead Number  Converted  TotalVisits  Total Time Spent on Website  \\\n",
       "0       660737          0          0.0                            0   \n",
       "1       660728          0          5.0                          674   \n",
       "2       660727          1          2.0                         1532   \n",
       "3       660719          0          1.0                          305   \n",
       "4       660681          1          2.0                         1428   \n",
       "\n",
       "   Page Views Per Visit  \n",
       "0                   0.0  \n",
       "1                   2.5  \n",
       "2                   2.0  \n",
       "3                   1.0  \n",
       "4                   1.0  "
      ]
     },
     "execution_count": 30,
     "metadata": {},
     "output_type": "execute_result"
    }
   ],
   "source": [
    "numerical.head()"
   ]
  },
  {
   "cell_type": "code",
   "execution_count": 31,
   "id": "f8f624d1",
   "metadata": {},
   "outputs": [
    {
     "data": {
      "text/html": [
       "<div>\n",
       "<style scoped>\n",
       "    .dataframe tbody tr th:only-of-type {\n",
       "        vertical-align: middle;\n",
       "    }\n",
       "\n",
       "    .dataframe tbody tr th {\n",
       "        vertical-align: top;\n",
       "    }\n",
       "\n",
       "    .dataframe thead th {\n",
       "        text-align: right;\n",
       "    }\n",
       "</style>\n",
       "<table border=\"1\" class=\"dataframe\">\n",
       "  <thead>\n",
       "    <tr style=\"text-align: right;\">\n",
       "      <th></th>\n",
       "      <th>Prospect ID</th>\n",
       "      <th>Lead Origin</th>\n",
       "      <th>Lead Source</th>\n",
       "      <th>Do Not Email</th>\n",
       "      <th>Do Not Call</th>\n",
       "      <th>Last Activity</th>\n",
       "      <th>Country</th>\n",
       "      <th>Specialization</th>\n",
       "      <th>What is your current occupation</th>\n",
       "      <th>What matters most to you in choosing a course</th>\n",
       "      <th>Tags</th>\n",
       "      <th>City</th>\n",
       "      <th>A free copy of Mastering The Interview</th>\n",
       "      <th>Last Notable Activity</th>\n",
       "    </tr>\n",
       "  </thead>\n",
       "  <tbody>\n",
       "    <tr>\n",
       "      <th>0</th>\n",
       "      <td>7927b2df-8bba-4d29-b9a2-b6e0beafe620</td>\n",
       "      <td>API</td>\n",
       "      <td>Olark Chat</td>\n",
       "      <td>No</td>\n",
       "      <td>No</td>\n",
       "      <td>Page Visited on Website</td>\n",
       "      <td>India</td>\n",
       "      <td>Other_Specialization</td>\n",
       "      <td>Unemployed</td>\n",
       "      <td>Better Career Prospects</td>\n",
       "      <td>Interested in other courses</td>\n",
       "      <td>Mumbai</td>\n",
       "      <td>No</td>\n",
       "      <td>Modified</td>\n",
       "    </tr>\n",
       "    <tr>\n",
       "      <th>1</th>\n",
       "      <td>2a272436-5132-4136-86fa-dcc88c88f482</td>\n",
       "      <td>API</td>\n",
       "      <td>Organic Search</td>\n",
       "      <td>No</td>\n",
       "      <td>No</td>\n",
       "      <td>Email Opened</td>\n",
       "      <td>India</td>\n",
       "      <td>Other_Specialization</td>\n",
       "      <td>Unemployed</td>\n",
       "      <td>Better Career Prospects</td>\n",
       "      <td>Ringing</td>\n",
       "      <td>Mumbai</td>\n",
       "      <td>No</td>\n",
       "      <td>Email Opened</td>\n",
       "    </tr>\n",
       "    <tr>\n",
       "      <th>2</th>\n",
       "      <td>8cc8c611-a219-4f35-ad23-fdfd2656bd8a</td>\n",
       "      <td>Landing Page Submission</td>\n",
       "      <td>Direct Traffic</td>\n",
       "      <td>No</td>\n",
       "      <td>No</td>\n",
       "      <td>Email Opened</td>\n",
       "      <td>India</td>\n",
       "      <td>Business Administration</td>\n",
       "      <td>Student</td>\n",
       "      <td>Better Career Prospects</td>\n",
       "      <td>Will revert after reading the email</td>\n",
       "      <td>Mumbai</td>\n",
       "      <td>Yes</td>\n",
       "      <td>Email Opened</td>\n",
       "    </tr>\n",
       "    <tr>\n",
       "      <th>3</th>\n",
       "      <td>0cc2df48-7cf4-4e39-9de9-19797f9b38cc</td>\n",
       "      <td>Landing Page Submission</td>\n",
       "      <td>Direct Traffic</td>\n",
       "      <td>No</td>\n",
       "      <td>No</td>\n",
       "      <td>Other Activity</td>\n",
       "      <td>India</td>\n",
       "      <td>Media and Advertising</td>\n",
       "      <td>Unemployed</td>\n",
       "      <td>Better Career Prospects</td>\n",
       "      <td>Ringing</td>\n",
       "      <td>Mumbai</td>\n",
       "      <td>No</td>\n",
       "      <td>Modified</td>\n",
       "    </tr>\n",
       "    <tr>\n",
       "      <th>4</th>\n",
       "      <td>3256f628-e534-4826-9d63-4a8b88782852</td>\n",
       "      <td>Landing Page Submission</td>\n",
       "      <td>Google</td>\n",
       "      <td>No</td>\n",
       "      <td>No</td>\n",
       "      <td>Converted to Lead</td>\n",
       "      <td>India</td>\n",
       "      <td>Other_Specialization</td>\n",
       "      <td>Unemployed</td>\n",
       "      <td>Better Career Prospects</td>\n",
       "      <td>Will revert after reading the email</td>\n",
       "      <td>Mumbai</td>\n",
       "      <td>No</td>\n",
       "      <td>Modified</td>\n",
       "    </tr>\n",
       "  </tbody>\n",
       "</table>\n",
       "</div>"
      ],
      "text/plain": [
       "                            Prospect ID              Lead Origin  \\\n",
       "0  7927b2df-8bba-4d29-b9a2-b6e0beafe620                      API   \n",
       "1  2a272436-5132-4136-86fa-dcc88c88f482                      API   \n",
       "2  8cc8c611-a219-4f35-ad23-fdfd2656bd8a  Landing Page Submission   \n",
       "3  0cc2df48-7cf4-4e39-9de9-19797f9b38cc  Landing Page Submission   \n",
       "4  3256f628-e534-4826-9d63-4a8b88782852  Landing Page Submission   \n",
       "\n",
       "      Lead Source Do Not Email Do Not Call            Last Activity Country  \\\n",
       "0      Olark Chat           No          No  Page Visited on Website   India   \n",
       "1  Organic Search           No          No             Email Opened   India   \n",
       "2  Direct Traffic           No          No             Email Opened   India   \n",
       "3  Direct Traffic           No          No           Other Activity   India   \n",
       "4          Google           No          No        Converted to Lead   India   \n",
       "\n",
       "            Specialization What is your current occupation  \\\n",
       "0     Other_Specialization                      Unemployed   \n",
       "1     Other_Specialization                      Unemployed   \n",
       "2  Business Administration                         Student   \n",
       "3    Media and Advertising                      Unemployed   \n",
       "4     Other_Specialization                      Unemployed   \n",
       "\n",
       "  What matters most to you in choosing a course  \\\n",
       "0                       Better Career Prospects   \n",
       "1                       Better Career Prospects   \n",
       "2                       Better Career Prospects   \n",
       "3                       Better Career Prospects   \n",
       "4                       Better Career Prospects   \n",
       "\n",
       "                                  Tags    City  \\\n",
       "0          Interested in other courses  Mumbai   \n",
       "1                              Ringing  Mumbai   \n",
       "2  Will revert after reading the email  Mumbai   \n",
       "3                              Ringing  Mumbai   \n",
       "4  Will revert after reading the email  Mumbai   \n",
       "\n",
       "  A free copy of Mastering The Interview Last Notable Activity  \n",
       "0                                     No              Modified  \n",
       "1                                     No          Email Opened  \n",
       "2                                    Yes          Email Opened  \n",
       "3                                     No              Modified  \n",
       "4                                     No              Modified  "
      ]
     },
     "execution_count": 31,
     "metadata": {},
     "output_type": "execute_result"
    }
   ],
   "source": [
    "categorical.head()"
   ]
  },
  {
   "cell_type": "markdown",
   "id": "a038d582",
   "metadata": {},
   "source": [
    "## EDA and Data cleaning"
   ]
  },
  {
   "cell_type": "markdown",
   "id": "0295fe65",
   "metadata": {},
   "source": [
    "### Univariant Analysis"
   ]
  },
  {
   "cell_type": "code",
   "execution_count": 32,
   "id": "49967f41",
   "metadata": {},
   "outputs": [
    {
     "data": {
      "image/png": "[encoded data removed]",
      "text/plain": [
       "<Figure size 576x360 with 1 Axes>"
      ]
     },
     "metadata": {
      "needs_background": "light"
     },
     "output_type": "display_data"
    }
   ],
   "source": [
    "plt.figure(figsize=(8,5))\n",
    "sns.countplot(\"Converted\",hue=\"What is your current occupation\",data=lead)\n",
    "plt.show()\n"
   ]
  },
  {
   "cell_type": "code",
   "execution_count": 33,
   "id": "90e0051e",
   "metadata": {},
   "outputs": [
    {
     "data": {
      "image/png": "[encoded data removed]",
      "text/plain": [
       "<Figure size 432x288 with 1 Axes>"
      ]
     },
     "metadata": {
      "needs_background": "light"
     },
     "output_type": "display_data"
    }
   ],
   "source": [
    "sns.countplot(x = \"A free copy of Mastering The Interview\", hue = \"Converted\", data = lead,)\n",
    "plt.show()"
   ]
  },
  {
   "cell_type": "markdown",
   "id": "2a90f512",
   "metadata": {},
   "source": [
    "Observation:\n",
    "\n",
    "    \"A free copy of Mastering The Interview\" is a redundant variable so we will include this also in list of dropping columns."
   ]
  },
  {
   "cell_type": "code",
   "execution_count": 34,
   "id": "aed3c79a",
   "metadata": {},
   "outputs": [],
   "source": [
    "dropcol=[\"Lead Number\",\"A free copy of Mastering The Interview\"]"
   ]
  },
  {
   "cell_type": "code",
   "execution_count": 35,
   "id": "0f7cf288",
   "metadata": {},
   "outputs": [
    {
     "data": {
      "image/png": "[encoded data removed]",
      "text/plain": [
       "<Figure size 720x360 with 1 Axes>"
      ]
     },
     "metadata": {
      "needs_background": "light"
     },
     "output_type": "display_data"
    }
   ],
   "source": [
    "plt.figure(figsize=(10,5))\n",
    "sns.countplot(\"Lead Source\",hue=\"Converted\",data=lead)\n",
    "plt.xticks(rotation=45)\n",
    "plt.show()"
   ]
  },
  {
   "cell_type": "markdown",
   "id": "b3e99a08",
   "metadata": {},
   "source": [
    "OBSERVATION:\n",
    "    \n",
    "1. The count of leads from the Google and Direct Traffic is maximum\n",
    "2. The conversion rate of the leads from Reference and Welingak Website is maximum"
   ]
  },
  {
   "cell_type": "code",
   "execution_count": 36,
   "id": "203e5d23",
   "metadata": {},
   "outputs": [
    {
     "data": {
      "text/plain": [
       "India                   96.837117\n",
       "United States            0.760414\n",
       "United Arab Emirates     0.584086\n",
       "Singapore                0.264492\n",
       "Saudi Arabia             0.231430\n",
       "United Kingdom           0.165307\n",
       "Australia                0.143266\n",
       "Qatar                    0.110205\n",
       "Hong Kong                0.077143\n",
       "Bahrain                  0.077143\n",
       "Oman                     0.066123\n",
       "France                   0.066123\n",
       "unknown                  0.055102\n",
       "South Africa             0.044082\n",
       "Nigeria                  0.044082\n",
       "Germany                  0.044082\n",
       "Kuwait                   0.044082\n",
       "Canada                   0.044082\n",
       "Sweden                   0.033061\n",
       "China                    0.022041\n",
       "Asia/Pacific Region      0.022041\n",
       "Uganda                   0.022041\n",
       "Bangladesh               0.022041\n",
       "Italy                    0.022041\n",
       "Belgium                  0.022041\n",
       "Netherlands              0.022041\n",
       "Ghana                    0.022041\n",
       "Philippines              0.022041\n",
       "Russia                   0.011020\n",
       "Switzerland              0.011020\n",
       "Vietnam                  0.011020\n",
       "Denmark                  0.011020\n",
       "Tanzania                 0.011020\n",
       "Liberia                  0.011020\n",
       "Malaysia                 0.011020\n",
       "Kenya                    0.011020\n",
       "Sri Lanka                0.011020\n",
       "Indonesia                0.011020\n",
       "Name: Country, dtype: float64"
      ]
     },
     "execution_count": 36,
     "metadata": {},
     "output_type": "execute_result"
    }
   ],
   "source": [
    "lead['Country'].value_counts()/len(lead.index)*100"
   ]
  },
  {
   "cell_type": "markdown",
   "id": "b67ed813",
   "metadata": {},
   "source": [
    "###### As we can see that most of the data consists of value 'India', no inference can be drawn from this parameter.Hence, we can drop this column"
   ]
  },
  {
   "cell_type": "code",
   "execution_count": 37,
   "id": "170262b4",
   "metadata": {},
   "outputs": [],
   "source": [
    "dropcol.append(\"Country\")"
   ]
  },
  {
   "cell_type": "code",
   "execution_count": 38,
   "id": "794a7322",
   "metadata": {},
   "outputs": [
    {
     "data": {
      "image/png": "[encoded data removed]",
      "text/plain": [
       "<Figure size 432x288 with 1 Axes>"
      ]
     },
     "metadata": {
      "needs_background": "light"
     },
     "output_type": "display_data"
    }
   ],
   "source": [
    "sns.countplot(x='What matters most to you in choosing a course', hue='Converted', data=lead)\n",
    "plt.show()"
   ]
  },
  {
   "cell_type": "markdown",
   "id": "fd00d101",
   "metadata": {},
   "source": [
    "###### 99% of of data is belongs to 'Better career Prospecties', so no inference can be drawn from this parameter.Hence, we can drop this column"
   ]
  },
  {
   "cell_type": "code",
   "execution_count": 39,
   "id": "c10fc701",
   "metadata": {},
   "outputs": [],
   "source": [
    "dropcol.append(\"What matters most to you in choosing a course\")"
   ]
  },
  {
   "cell_type": "code",
   "execution_count": 40,
   "id": "c9ea6210",
   "metadata": {},
   "outputs": [
    {
     "data": {
      "image/png": "[encoded data removed]",
      "text/plain": [
       "<Figure size 720x540 with 2 Axes>"
      ]
     },
     "metadata": {
      "needs_background": "light"
     },
     "output_type": "display_data"
    }
   ],
   "source": [
    "fig, axs = plt.subplots(1,2,figsize = (10,7.5))\n",
    "sns.countplot(x = \"Do Not Email\", hue = \"Converted\", data = lead, ax = axs[0])\n",
    "sns.countplot(x = \"Do Not Call\", hue = \"Converted\", data = lead, ax = axs[1])\n",
    "plt.show()"
   ]
  },
  {
   "cell_type": "markdown",
   "id": "c1317428",
   "metadata": {},
   "source": [
    "##### We Can drop the \"Do Not Call\" Column from the data set which is higtly skewed"
   ]
  },
  {
   "cell_type": "code",
   "execution_count": 41,
   "id": "6d655c3b",
   "metadata": {},
   "outputs": [],
   "source": [
    "dropcol.append(\"Do Not Call\")"
   ]
  },
  {
   "cell_type": "markdown",
   "id": "d1bc32a9",
   "metadata": {},
   "source": [
    "### Bivariant Analysis"
   ]
  },
  {
   "cell_type": "code",
   "execution_count": 42,
   "id": "5a8659cc",
   "metadata": {},
   "outputs": [
    {
     "data": {
      "text/plain": [
       "<AxesSubplot:xlabel='Converted', ylabel='Page Views Per Visit'>"
      ]
     },
     "execution_count": 42,
     "metadata": {},
     "output_type": "execute_result"
    },
    {
     "data": {
      "image/png": "[encoded data removed]",
      "text/plain": [
       "<Figure size 432x288 with 1 Axes>"
      ]
     },
     "metadata": {
      "needs_background": "light"
     },
     "output_type": "display_data"
    }
   ],
   "source": [
    "sns.boxplot(x=\"Converted\",y=\"Page Views Per Visit\",data=lead)"
   ]
  },
  {
   "cell_type": "code",
   "execution_count": 43,
   "id": "12b33a55",
   "metadata": {},
   "outputs": [
    {
     "data": {
      "image/png": "[encoded data removed]",
      "text/plain": [
       "<Figure size 504x360 with 2 Axes>"
      ]
     },
     "metadata": {
      "needs_background": "light"
     },
     "output_type": "display_data"
    }
   ],
   "source": [
    "#Checking correlations of numeric values using heatmap\n",
    "\n",
    "# Size of the figure\n",
    "plt.figure(figsize=(7,5))\n",
    "\n",
    "# heatmap\n",
    "sns.heatmap(lead.corr(), cmap=\"YlGnBu\", annot=True)\n",
    "plt.show()"
   ]
  },
  {
   "cell_type": "code",
   "execution_count": 44,
   "id": "57812723",
   "metadata": {},
   "outputs": [],
   "source": [
    "dropcol.append('Last Notable Activity')"
   ]
  },
  {
   "cell_type": "code",
   "execution_count": 45,
   "id": "5ec08dc2",
   "metadata": {},
   "outputs": [],
   "source": [
    "lead.drop(dropcol,axis=1,inplace=True)"
   ]
  },
  {
   "cell_type": "code",
   "execution_count": 46,
   "id": "5423ff07",
   "metadata": {},
   "outputs": [
    {
     "name": "stdout",
     "output_type": "stream",
     "text": [
      "<class 'pandas.core.frame.DataFrame'>\n",
      "Int64Index: 9074 entries, 0 to 9239\n",
      "Data columns (total 13 columns):\n",
      " #   Column                           Non-Null Count  Dtype  \n",
      "---  ------                           --------------  -----  \n",
      " 0   Prospect ID                      9074 non-null   object \n",
      " 1   Lead Origin                      9074 non-null   object \n",
      " 2   Lead Source                      9074 non-null   object \n",
      " 3   Do Not Email                     9074 non-null   object \n",
      " 4   Converted                        9074 non-null   int64  \n",
      " 5   TotalVisits                      9074 non-null   float64\n",
      " 6   Total Time Spent on Website      9074 non-null   int64  \n",
      " 7   Page Views Per Visit             9074 non-null   float64\n",
      " 8   Last Activity                    9074 non-null   object \n",
      " 9   Specialization                   9074 non-null   object \n",
      " 10  What is your current occupation  9074 non-null   object \n",
      " 11  Tags                             9074 non-null   object \n",
      " 12  City                             9074 non-null   object \n",
      "dtypes: float64(2), int64(2), object(9)\n",
      "memory usage: 1.2+ MB\n"
     ]
    }
   ],
   "source": [
    "lead.info()"
   ]
  },
  {
   "cell_type": "code",
   "execution_count": 47,
   "id": "beb6b759",
   "metadata": {},
   "outputs": [
    {
     "data": {
      "image/png": "[encoded data removed]",
      "text/plain": [
       "<Figure size 576x432 with 2 Axes>"
      ]
     },
     "metadata": {
      "needs_background": "light"
     },
     "output_type": "display_data"
    }
   ],
   "source": [
    "fig=plt.subplots(figsize=(8, 6))\n",
    "\n",
    "for i, feature in enumerate([\"TotalVisits\", \"Total Time Spent on Website\"]):\n",
    "    plt.subplot(2, 2, i+1)\n",
    "    plt.subplots_adjust(hspace = 2.0)\n",
    "    sns.boxplot(y = feature, x = 'Converted', data = lead)\n",
    "    plt.tight_layout()"
   ]
  },
  {
   "cell_type": "code",
   "execution_count": 48,
   "id": "2f0403a7",
   "metadata": {},
   "outputs": [
    {
     "data": {
      "text/plain": [
       "Index(['Prospect ID', 'Lead Origin', 'Lead Source', 'Do Not Email',\n",
       "       'Converted', 'TotalVisits', 'Total Time Spent on Website',\n",
       "       'Page Views Per Visit', 'Last Activity', 'Specialization',\n",
       "       'What is your current occupation', 'Tags', 'City'],\n",
       "      dtype='object')"
      ]
     },
     "execution_count": 48,
     "metadata": {},
     "output_type": "execute_result"
    }
   ],
   "source": [
    "lead.columns"
   ]
  },
  {
   "cell_type": "markdown",
   "id": "c77b3843",
   "metadata": {},
   "source": [
    "### Outlier Treatments on Continuous Variables"
   ]
  },
  {
   "cell_type": "code",
   "execution_count": 49,
   "id": "4eccbd0f",
   "metadata": {},
   "outputs": [
    {
     "data": {
      "image/png": "[encoded data removed]",
      "text/plain": [
       "<Figure size 432x288 with 1 Axes>"
      ]
     },
     "metadata": {
      "needs_background": "light"
     },
     "output_type": "display_data"
    }
   ],
   "source": [
    "#visualizing spread of variable Total Visits\n",
    "\n",
    "sns.boxplot(y=lead['TotalVisits'])\n",
    "plt.show()"
   ]
  },
  {
   "cell_type": "markdown",
   "id": "ed42ac64",
   "metadata": {},
   "source": [
    "###### Presence of outliers can be seen clearly"
   ]
  },
  {
   "cell_type": "code",
   "execution_count": 50,
   "id": "2aae534f",
   "metadata": {},
   "outputs": [
    {
     "data": {
      "text/plain": [
       "count    9074.000000\n",
       "mean        3.456028\n",
       "std         4.858802\n",
       "min         0.000000\n",
       "5%          0.000000\n",
       "25%         1.000000\n",
       "50%         3.000000\n",
       "75%         5.000000\n",
       "90%         7.000000\n",
       "95%        10.000000\n",
       "99%        17.000000\n",
       "max       251.000000\n",
       "Name: TotalVisits, dtype: float64"
      ]
     },
     "execution_count": 50,
     "metadata": {},
     "output_type": "execute_result"
    }
   ],
   "source": [
    "#checking percentile values for \"Total Visits\"\n",
    "\n",
    "lead['TotalVisits'].describe(percentiles=[0.05,.25, .5, .75, .90, .95, .99])"
   ]
  },
  {
   "cell_type": "code",
   "execution_count": 51,
   "id": "7ed090eb",
   "metadata": {},
   "outputs": [
    {
     "data": {
      "image/png": "[encoded data removed]",
      "text/plain": [
       "<Figure size 432x288 with 1 Axes>"
      ]
     },
     "metadata": {
      "needs_background": "light"
     },
     "output_type": "display_data"
    }
   ],
   "source": [
    "#Outlier Treatment: capping the outliers to 95% value for analysis\n",
    "\n",
    "percentiles = lead['TotalVisits'].quantile([0.05,0.95]).values\n",
    "lead['TotalVisits'][lead['TotalVisits'] <= percentiles[0]] = percentiles[0]\n",
    "lead['TotalVisits'][lead['TotalVisits'] >= percentiles[1]] = percentiles[1]\n",
    "\n",
    "#visualizing variable after outlier treatment\n",
    "sns.boxplot(y=lead['TotalVisits'])\n",
    "plt.show()"
   ]
  },
  {
   "cell_type": "code",
   "execution_count": 52,
   "id": "8e929d77",
   "metadata": {},
   "outputs": [
    {
     "data": {
      "image/png": "[encoded data removed]",
      "text/plain": [
       "<Figure size 432x288 with 1 Axes>"
      ]
     },
     "metadata": {
      "needs_background": "light"
     },
     "output_type": "display_data"
    }
   ],
   "source": [
    "# Visualizing TotalVisits w.r.t Target Variable 'Converted'\n",
    "sns.boxplot(y = 'TotalVisits', x = 'Converted', data = lead)\n",
    "plt.show()"
   ]
  },
  {
   "cell_type": "code",
   "execution_count": 53,
   "id": "74e56de8",
   "metadata": {},
   "outputs": [
    {
     "data": {
      "text/plain": [
       "count    9074.000000\n",
       "mean      482.887481\n",
       "std       545.256560\n",
       "min         0.000000\n",
       "5%          0.000000\n",
       "25%        11.000000\n",
       "50%       246.000000\n",
       "75%       922.750000\n",
       "90%      1373.000000\n",
       "95%      1557.000000\n",
       "99%      1839.000000\n",
       "max      2272.000000\n",
       "Name: Total Time Spent on Website, dtype: float64"
      ]
     },
     "execution_count": 53,
     "metadata": {},
     "output_type": "execute_result"
    }
   ],
   "source": [
    "#checking percentiles for \"Total Time Spent on Website\"\n",
    "\n",
    "lead['Total Time Spent on Website'].describe(percentiles=[0.05,.25, .5, .75, .90, .95, .99])"
   ]
  },
  {
   "cell_type": "code",
   "execution_count": 54,
   "id": "d35f9361",
   "metadata": {},
   "outputs": [
    {
     "data": {
      "image/png": "[encoded data removed]",
      "text/plain": [
       "<Figure size 432x288 with 1 Axes>"
      ]
     },
     "metadata": {
      "needs_background": "light"
     },
     "output_type": "display_data"
    }
   ],
   "source": [
    "#visualizing spread of variable 'Total Time Spent on Website'\n",
    "sns.boxplot(y = lead['Total Time Spent on Website'])\n",
    "plt.show()"
   ]
  },
  {
   "cell_type": "markdown",
   "id": "93a31219",
   "metadata": {},
   "source": [
    "###### Since there are no major outliers for the above variable, outlier treatment is not required for it"
   ]
  },
  {
   "cell_type": "code",
   "execution_count": 55,
   "id": "54679eec",
   "metadata": {},
   "outputs": [
    {
     "data": {
      "text/plain": [
       "count    9074.000000\n",
       "mean        2.370151\n",
       "std         2.160871\n",
       "min         0.000000\n",
       "25%         1.000000\n",
       "50%         2.000000\n",
       "75%         3.200000\n",
       "max        55.000000\n",
       "Name: Page Views Per Visit, dtype: float64"
      ]
     },
     "execution_count": 55,
     "metadata": {},
     "output_type": "execute_result"
    }
   ],
   "source": [
    "lead['Page Views Per Visit'].describe()"
   ]
  },
  {
   "cell_type": "code",
   "execution_count": 56,
   "id": "087750c2",
   "metadata": {},
   "outputs": [
    {
     "data": {
      "image/png": "[encoded data removed]",
      "text/plain": [
       "<Figure size 432x288 with 1 Axes>"
      ]
     },
     "metadata": {
      "needs_background": "light"
     },
     "output_type": "display_data"
    }
   ],
   "source": [
    "#visualizing spread of variable 'Page Views Per Visit'\n",
    "sns.boxplot(y =lead['Page Views Per Visit'])\n",
    "plt.show()"
   ]
  },
  {
   "cell_type": "code",
   "execution_count": 57,
   "id": "b854a2d9",
   "metadata": {},
   "outputs": [
    {
     "data": {
      "image/png": "[encoded data removed]",
      "text/plain": [
       "<Figure size 432x288 with 1 Axes>"
      ]
     },
     "metadata": {
      "needs_background": "light"
     },
     "output_type": "display_data"
    }
   ],
   "source": [
    "#Outlier Treatment: capping the outliers to 95% value for analysis\n",
    "percentiles = lead['Page Views Per Visit'].quantile([0.05,0.95]).values\n",
    "lead['Page Views Per Visit'][lead['Page Views Per Visit'] <= percentiles[0]] = percentiles[0]\n",
    "lead['Page Views Per Visit'][lead['Page Views Per Visit'] >= percentiles[1]] = percentiles[1]\n",
    "\n",
    "#visualizing variable after outlier treatment\n",
    "sns.boxplot(y=lead['Page Views Per Visit'])\n",
    "plt.show()"
   ]
  },
  {
   "cell_type": "code",
   "execution_count": 58,
   "id": "c9d12478",
   "metadata": {},
   "outputs": [
    {
     "data": {
      "image/png": "[encoded data removed]",
      "text/plain": [
       "<Figure size 432x288 with 1 Axes>"
      ]
     },
     "metadata": {
      "needs_background": "light"
     },
     "output_type": "display_data"
    }
   ],
   "source": [
    "#visualizing 'Page Views Per Visit' w.r.t Target variable 'Converted'\n",
    "sns.boxplot(y = 'Page Views Per Visit', x = 'Converted', data = lead)\n",
    "plt.show()"
   ]
  },
  {
   "cell_type": "code",
   "execution_count": 59,
   "id": "ac667123",
   "metadata": {},
   "outputs": [
    {
     "name": "stdout",
     "output_type": "stream",
     "text": [
      "<class 'pandas.core.frame.DataFrame'>\n",
      "Int64Index: 9074 entries, 0 to 9239\n",
      "Data columns (total 13 columns):\n",
      " #   Column                           Non-Null Count  Dtype  \n",
      "---  ------                           --------------  -----  \n",
      " 0   Prospect ID                      9074 non-null   object \n",
      " 1   Lead Origin                      9074 non-null   object \n",
      " 2   Lead Source                      9074 non-null   object \n",
      " 3   Do Not Email                     9074 non-null   object \n",
      " 4   Converted                        9074 non-null   int64  \n",
      " 5   TotalVisits                      9074 non-null   float64\n",
      " 6   Total Time Spent on Website      9074 non-null   int64  \n",
      " 7   Page Views Per Visit             9074 non-null   float64\n",
      " 8   Last Activity                    9074 non-null   object \n",
      " 9   Specialization                   9074 non-null   object \n",
      " 10  What is your current occupation  9074 non-null   object \n",
      " 11  Tags                             9074 non-null   object \n",
      " 12  City                             9074 non-null   object \n",
      "dtypes: float64(2), int64(2), object(9)\n",
      "memory usage: 1.2+ MB\n"
     ]
    }
   ],
   "source": [
    "lead.info()"
   ]
  },
  {
   "cell_type": "code",
   "execution_count": 60,
   "id": "27eda49a",
   "metadata": {
    "scrolled": true
   },
   "outputs": [
    {
     "data": {
      "text/plain": [
       "array(['No', 'Yes'], dtype=object)"
      ]
     },
     "execution_count": 60,
     "metadata": {},
     "output_type": "execute_result"
    }
   ],
   "source": [
    "lead[\"Do Not Email\"].unique()"
   ]
  },
  {
   "cell_type": "markdown",
   "id": "29b4204b",
   "metadata": {},
   "source": [
    "### PreProcessing"
   ]
  },
  {
   "cell_type": "markdown",
   "id": "1f3ea39c",
   "metadata": {},
   "source": [
    "#### Dummy variable creation"
   ]
  },
  {
   "cell_type": "code",
   "execution_count": 61,
   "id": "229475f6",
   "metadata": {},
   "outputs": [
    {
     "data": {
      "text/html": [
       "<div>\n",
       "<style scoped>\n",
       "    .dataframe tbody tr th:only-of-type {\n",
       "        vertical-align: middle;\n",
       "    }\n",
       "\n",
       "    .dataframe tbody tr th {\n",
       "        vertical-align: top;\n",
       "    }\n",
       "\n",
       "    .dataframe thead th {\n",
       "        text-align: right;\n",
       "    }\n",
       "</style>\n",
       "<table border=\"1\" class=\"dataframe\">\n",
       "  <thead>\n",
       "    <tr style=\"text-align: right;\">\n",
       "      <th></th>\n",
       "      <th>Lead Origin_Landing Page Submission</th>\n",
       "      <th>Lead Origin_Lead Add Form</th>\n",
       "      <th>Lead Origin_Lead Import</th>\n",
       "      <th>Lead Source_Google</th>\n",
       "      <th>Lead Source_Olark Chat</th>\n",
       "      <th>Lead Source_Organic Search</th>\n",
       "      <th>Lead Source_Other Lead Source</th>\n",
       "      <th>Last Activity_Email Bounced</th>\n",
       "      <th>Last Activity_Email Link Clicked</th>\n",
       "      <th>Last Activity_Email Opened</th>\n",
       "      <th>...</th>\n",
       "      <th>Tags_Interested in other courses</th>\n",
       "      <th>Tags_Other_Tags</th>\n",
       "      <th>Tags_Ringing</th>\n",
       "      <th>Tags_Will revert after reading the email</th>\n",
       "      <th>Tags_switched off</th>\n",
       "      <th>City_Other Cities</th>\n",
       "      <th>City_Other Cities of Maharashtra</th>\n",
       "      <th>City_Other Metro Cities</th>\n",
       "      <th>City_Thane &amp; Outskirts</th>\n",
       "      <th>City_Tier II Cities</th>\n",
       "    </tr>\n",
       "  </thead>\n",
       "  <tbody>\n",
       "    <tr>\n",
       "      <th>0</th>\n",
       "      <td>0</td>\n",
       "      <td>0</td>\n",
       "      <td>0</td>\n",
       "      <td>0</td>\n",
       "      <td>1</td>\n",
       "      <td>0</td>\n",
       "      <td>0</td>\n",
       "      <td>0</td>\n",
       "      <td>0</td>\n",
       "      <td>0</td>\n",
       "      <td>...</td>\n",
       "      <td>1</td>\n",
       "      <td>0</td>\n",
       "      <td>0</td>\n",
       "      <td>0</td>\n",
       "      <td>0</td>\n",
       "      <td>0</td>\n",
       "      <td>0</td>\n",
       "      <td>0</td>\n",
       "      <td>0</td>\n",
       "      <td>0</td>\n",
       "    </tr>\n",
       "    <tr>\n",
       "      <th>1</th>\n",
       "      <td>0</td>\n",
       "      <td>0</td>\n",
       "      <td>0</td>\n",
       "      <td>0</td>\n",
       "      <td>0</td>\n",
       "      <td>1</td>\n",
       "      <td>0</td>\n",
       "      <td>0</td>\n",
       "      <td>0</td>\n",
       "      <td>1</td>\n",
       "      <td>...</td>\n",
       "      <td>0</td>\n",
       "      <td>0</td>\n",
       "      <td>1</td>\n",
       "      <td>0</td>\n",
       "      <td>0</td>\n",
       "      <td>0</td>\n",
       "      <td>0</td>\n",
       "      <td>0</td>\n",
       "      <td>0</td>\n",
       "      <td>0</td>\n",
       "    </tr>\n",
       "    <tr>\n",
       "      <th>2</th>\n",
       "      <td>1</td>\n",
       "      <td>0</td>\n",
       "      <td>0</td>\n",
       "      <td>0</td>\n",
       "      <td>0</td>\n",
       "      <td>0</td>\n",
       "      <td>0</td>\n",
       "      <td>0</td>\n",
       "      <td>0</td>\n",
       "      <td>1</td>\n",
       "      <td>...</td>\n",
       "      <td>0</td>\n",
       "      <td>0</td>\n",
       "      <td>0</td>\n",
       "      <td>1</td>\n",
       "      <td>0</td>\n",
       "      <td>0</td>\n",
       "      <td>0</td>\n",
       "      <td>0</td>\n",
       "      <td>0</td>\n",
       "      <td>0</td>\n",
       "    </tr>\n",
       "    <tr>\n",
       "      <th>3</th>\n",
       "      <td>1</td>\n",
       "      <td>0</td>\n",
       "      <td>0</td>\n",
       "      <td>0</td>\n",
       "      <td>0</td>\n",
       "      <td>0</td>\n",
       "      <td>0</td>\n",
       "      <td>0</td>\n",
       "      <td>0</td>\n",
       "      <td>0</td>\n",
       "      <td>...</td>\n",
       "      <td>0</td>\n",
       "      <td>0</td>\n",
       "      <td>1</td>\n",
       "      <td>0</td>\n",
       "      <td>0</td>\n",
       "      <td>0</td>\n",
       "      <td>0</td>\n",
       "      <td>0</td>\n",
       "      <td>0</td>\n",
       "      <td>0</td>\n",
       "    </tr>\n",
       "    <tr>\n",
       "      <th>4</th>\n",
       "      <td>1</td>\n",
       "      <td>0</td>\n",
       "      <td>0</td>\n",
       "      <td>1</td>\n",
       "      <td>0</td>\n",
       "      <td>0</td>\n",
       "      <td>0</td>\n",
       "      <td>0</td>\n",
       "      <td>0</td>\n",
       "      <td>0</td>\n",
       "      <td>...</td>\n",
       "      <td>0</td>\n",
       "      <td>0</td>\n",
       "      <td>0</td>\n",
       "      <td>1</td>\n",
       "      <td>0</td>\n",
       "      <td>0</td>\n",
       "      <td>0</td>\n",
       "      <td>0</td>\n",
       "      <td>0</td>\n",
       "      <td>0</td>\n",
       "    </tr>\n",
       "  </tbody>\n",
       "</table>\n",
       "<p>5 rows × 41 columns</p>\n",
       "</div>"
      ],
      "text/plain": [
       "   Lead Origin_Landing Page Submission  Lead Origin_Lead Add Form  \\\n",
       "0                                    0                          0   \n",
       "1                                    0                          0   \n",
       "2                                    1                          0   \n",
       "3                                    1                          0   \n",
       "4                                    1                          0   \n",
       "\n",
       "   Lead Origin_Lead Import  Lead Source_Google  Lead Source_Olark Chat  \\\n",
       "0                        0                   0                       1   \n",
       "1                        0                   0                       0   \n",
       "2                        0                   0                       0   \n",
       "3                        0                   0                       0   \n",
       "4                        0                   1                       0   \n",
       "\n",
       "   Lead Source_Organic Search  Lead Source_Other Lead Source  \\\n",
       "0                           0                              0   \n",
       "1                           1                              0   \n",
       "2                           0                              0   \n",
       "3                           0                              0   \n",
       "4                           0                              0   \n",
       "\n",
       "   Last Activity_Email Bounced  Last Activity_Email Link Clicked  \\\n",
       "0                            0                                 0   \n",
       "1                            0                                 0   \n",
       "2                            0                                 0   \n",
       "3                            0                                 0   \n",
       "4                            0                                 0   \n",
       "\n",
       "   Last Activity_Email Opened  ...  Tags_Interested in other courses  \\\n",
       "0                           0  ...                                 1   \n",
       "1                           1  ...                                 0   \n",
       "2                           1  ...                                 0   \n",
       "3                           0  ...                                 0   \n",
       "4                           0  ...                                 0   \n",
       "\n",
       "   Tags_Other_Tags  Tags_Ringing  Tags_Will revert after reading the email  \\\n",
       "0                0             0                                         0   \n",
       "1                0             1                                         0   \n",
       "2                0             0                                         1   \n",
       "3                0             1                                         0   \n",
       "4                0             0                                         1   \n",
       "\n",
       "   Tags_switched off  City_Other Cities  City_Other Cities of Maharashtra  \\\n",
       "0                  0                  0                                 0   \n",
       "1                  0                  0                                 0   \n",
       "2                  0                  0                                 0   \n",
       "3                  0                  0                                 0   \n",
       "4                  0                  0                                 0   \n",
       "\n",
       "   City_Other Metro Cities  City_Thane & Outskirts  City_Tier II Cities  \n",
       "0                        0                       0                    0  \n",
       "1                        0                       0                    0  \n",
       "2                        0                       0                    0  \n",
       "3                        0                       0                    0  \n",
       "4                        0                       0                    0  \n",
       "\n",
       "[5 rows x 41 columns]"
      ]
     },
     "execution_count": 61,
     "metadata": {},
     "output_type": "execute_result"
    }
   ],
   "source": [
    "dummy = pd.get_dummies(lead[['Lead Origin', 'Lead Source', 'Last Activity', 'Specialization','What is your current occupation','Do Not Email',\n",
    "                              'Tags','City']], drop_first=True)\n",
    "dummy.head()"
   ]
  },
  {
   "cell_type": "code",
   "execution_count": 62,
   "id": "24c93aa3",
   "metadata": {},
   "outputs": [
    {
     "data": {
      "text/html": [
       "<div>\n",
       "<style scoped>\n",
       "    .dataframe tbody tr th:only-of-type {\n",
       "        vertical-align: middle;\n",
       "    }\n",
       "\n",
       "    .dataframe tbody tr th {\n",
       "        vertical-align: top;\n",
       "    }\n",
       "\n",
       "    .dataframe thead th {\n",
       "        text-align: right;\n",
       "    }\n",
       "</style>\n",
       "<table border=\"1\" class=\"dataframe\">\n",
       "  <thead>\n",
       "    <tr style=\"text-align: right;\">\n",
       "      <th></th>\n",
       "      <th>Prospect ID</th>\n",
       "      <th>Lead Origin</th>\n",
       "      <th>Lead Source</th>\n",
       "      <th>Do Not Email</th>\n",
       "      <th>Converted</th>\n",
       "      <th>TotalVisits</th>\n",
       "      <th>Total Time Spent on Website</th>\n",
       "      <th>Page Views Per Visit</th>\n",
       "      <th>Last Activity</th>\n",
       "      <th>Specialization</th>\n",
       "      <th>...</th>\n",
       "      <th>Tags_Interested in other courses</th>\n",
       "      <th>Tags_Other_Tags</th>\n",
       "      <th>Tags_Ringing</th>\n",
       "      <th>Tags_Will revert after reading the email</th>\n",
       "      <th>Tags_switched off</th>\n",
       "      <th>City_Other Cities</th>\n",
       "      <th>City_Other Cities of Maharashtra</th>\n",
       "      <th>City_Other Metro Cities</th>\n",
       "      <th>City_Thane &amp; Outskirts</th>\n",
       "      <th>City_Tier II Cities</th>\n",
       "    </tr>\n",
       "  </thead>\n",
       "  <tbody>\n",
       "    <tr>\n",
       "      <th>0</th>\n",
       "      <td>7927b2df-8bba-4d29-b9a2-b6e0beafe620</td>\n",
       "      <td>API</td>\n",
       "      <td>Olark Chat</td>\n",
       "      <td>No</td>\n",
       "      <td>0</td>\n",
       "      <td>0.0</td>\n",
       "      <td>0</td>\n",
       "      <td>0.0</td>\n",
       "      <td>Page Visited on Website</td>\n",
       "      <td>Other_Specialization</td>\n",
       "      <td>...</td>\n",
       "      <td>1</td>\n",
       "      <td>0</td>\n",
       "      <td>0</td>\n",
       "      <td>0</td>\n",
       "      <td>0</td>\n",
       "      <td>0</td>\n",
       "      <td>0</td>\n",
       "      <td>0</td>\n",
       "      <td>0</td>\n",
       "      <td>0</td>\n",
       "    </tr>\n",
       "    <tr>\n",
       "      <th>1</th>\n",
       "      <td>2a272436-5132-4136-86fa-dcc88c88f482</td>\n",
       "      <td>API</td>\n",
       "      <td>Organic Search</td>\n",
       "      <td>No</td>\n",
       "      <td>0</td>\n",
       "      <td>5.0</td>\n",
       "      <td>674</td>\n",
       "      <td>2.5</td>\n",
       "      <td>Email Opened</td>\n",
       "      <td>Other_Specialization</td>\n",
       "      <td>...</td>\n",
       "      <td>0</td>\n",
       "      <td>0</td>\n",
       "      <td>1</td>\n",
       "      <td>0</td>\n",
       "      <td>0</td>\n",
       "      <td>0</td>\n",
       "      <td>0</td>\n",
       "      <td>0</td>\n",
       "      <td>0</td>\n",
       "      <td>0</td>\n",
       "    </tr>\n",
       "    <tr>\n",
       "      <th>2</th>\n",
       "      <td>8cc8c611-a219-4f35-ad23-fdfd2656bd8a</td>\n",
       "      <td>Landing Page Submission</td>\n",
       "      <td>Direct Traffic</td>\n",
       "      <td>No</td>\n",
       "      <td>1</td>\n",
       "      <td>2.0</td>\n",
       "      <td>1532</td>\n",
       "      <td>2.0</td>\n",
       "      <td>Email Opened</td>\n",
       "      <td>Business Administration</td>\n",
       "      <td>...</td>\n",
       "      <td>0</td>\n",
       "      <td>0</td>\n",
       "      <td>0</td>\n",
       "      <td>1</td>\n",
       "      <td>0</td>\n",
       "      <td>0</td>\n",
       "      <td>0</td>\n",
       "      <td>0</td>\n",
       "      <td>0</td>\n",
       "      <td>0</td>\n",
       "    </tr>\n",
       "  </tbody>\n",
       "</table>\n",
       "<p>3 rows × 54 columns</p>\n",
       "</div>"
      ],
      "text/plain": [
       "                            Prospect ID              Lead Origin  \\\n",
       "0  7927b2df-8bba-4d29-b9a2-b6e0beafe620                      API   \n",
       "1  2a272436-5132-4136-86fa-dcc88c88f482                      API   \n",
       "2  8cc8c611-a219-4f35-ad23-fdfd2656bd8a  Landing Page Submission   \n",
       "\n",
       "      Lead Source Do Not Email  Converted  TotalVisits  \\\n",
       "0      Olark Chat           No          0          0.0   \n",
       "1  Organic Search           No          0          5.0   \n",
       "2  Direct Traffic           No          1          2.0   \n",
       "\n",
       "   Total Time Spent on Website  Page Views Per Visit            Last Activity  \\\n",
       "0                            0                   0.0  Page Visited on Website   \n",
       "1                          674                   2.5             Email Opened   \n",
       "2                         1532                   2.0             Email Opened   \n",
       "\n",
       "            Specialization  ... Tags_Interested in other courses  \\\n",
       "0     Other_Specialization  ...                                1   \n",
       "1     Other_Specialization  ...                                0   \n",
       "2  Business Administration  ...                                0   \n",
       "\n",
       "  Tags_Other_Tags Tags_Ringing  Tags_Will revert after reading the email  \\\n",
       "0               0            0                                         0   \n",
       "1               0            1                                         0   \n",
       "2               0            0                                         1   \n",
       "\n",
       "   Tags_switched off  City_Other Cities  City_Other Cities of Maharashtra  \\\n",
       "0                  0                  0                                 0   \n",
       "1                  0                  0                                 0   \n",
       "2                  0                  0                                 0   \n",
       "\n",
       "   City_Other Metro Cities  City_Thane & Outskirts  City_Tier II Cities  \n",
       "0                        0                       0                    0  \n",
       "1                        0                       0                    0  \n",
       "2                        0                       0                    0  \n",
       "\n",
       "[3 rows x 54 columns]"
      ]
     },
     "execution_count": 62,
     "metadata": {},
     "output_type": "execute_result"
    }
   ],
   "source": [
    "lead_df=pd.concat([lead,dummy], axis=1)\n",
    "lead_df.head(3)"
   ]
  },
  {
   "cell_type": "code",
   "execution_count": 63,
   "id": "56d3c406",
   "metadata": {},
   "outputs": [],
   "source": [
    "lead_df.drop(['Lead Origin', 'Lead Source', 'Last Activity', 'Specialization','What is your current occupation',\n",
    "                              'Tags','City',\"Do Not Email\"], axis=1, inplace=True)"
   ]
  },
  {
   "cell_type": "code",
   "execution_count": 64,
   "id": "3e8dad95",
   "metadata": {},
   "outputs": [
    {
     "name": "stdout",
     "output_type": "stream",
     "text": [
      "<class 'pandas.core.frame.DataFrame'>\n",
      "Int64Index: 9074 entries, 0 to 9239\n",
      "Data columns (total 46 columns):\n",
      " #   Column                                                Non-Null Count  Dtype  \n",
      "---  ------                                                --------------  -----  \n",
      " 0   Prospect ID                                           9074 non-null   object \n",
      " 1   Converted                                             9074 non-null   int64  \n",
      " 2   TotalVisits                                           9074 non-null   float64\n",
      " 3   Total Time Spent on Website                           9074 non-null   int64  \n",
      " 4   Page Views Per Visit                                  9074 non-null   float64\n",
      " 5   Lead Origin_Landing Page Submission                   9074 non-null   uint8  \n",
      " 6   Lead Origin_Lead Add Form                             9074 non-null   uint8  \n",
      " 7   Lead Origin_Lead Import                               9074 non-null   uint8  \n",
      " 8   Lead Source_Google                                    9074 non-null   uint8  \n",
      " 9   Lead Source_Olark Chat                                9074 non-null   uint8  \n",
      " 10  Lead Source_Organic Search                            9074 non-null   uint8  \n",
      " 11  Lead Source_Other Lead Source                         9074 non-null   uint8  \n",
      " 12  Last Activity_Email Bounced                           9074 non-null   uint8  \n",
      " 13  Last Activity_Email Link Clicked                      9074 non-null   uint8  \n",
      " 14  Last Activity_Email Opened                            9074 non-null   uint8  \n",
      " 15  Last Activity_Olark Chat Conversation                 9074 non-null   uint8  \n",
      " 16  Last Activity_Other Activity                          9074 non-null   uint8  \n",
      " 17  Last Activity_Page Visited on Website                 9074 non-null   uint8  \n",
      " 18  Last Activity_SMS Sent                                9074 non-null   uint8  \n",
      " 19  Specialization_Business Administration                9074 non-null   uint8  \n",
      " 20  Specialization_Extra Specialization                   9074 non-null   uint8  \n",
      " 21  Specialization_Finance Management                     9074 non-null   uint8  \n",
      " 22  Specialization_Human Resource Management              9074 non-null   uint8  \n",
      " 23  Specialization_IT Projects Management                 9074 non-null   uint8  \n",
      " 24  Specialization_Marketing Management                   9074 non-null   uint8  \n",
      " 25  Specialization_Media and Advertising                  9074 non-null   uint8  \n",
      " 26  Specialization_Operations Management                  9074 non-null   uint8  \n",
      " 27  Specialization_Other_Specialization                   9074 non-null   uint8  \n",
      " 28  Specialization_Supply Chain Management                9074 non-null   uint8  \n",
      " 29  Specialization_Travel and Tourism                     9074 non-null   uint8  \n",
      " 30  What is your current occupation_Student               9074 non-null   uint8  \n",
      " 31  What is your current occupation_Unemployed            9074 non-null   uint8  \n",
      " 32  What is your current occupation_Working Professional  9074 non-null   uint8  \n",
      " 33  Do Not Email_Yes                                      9074 non-null   uint8  \n",
      " 34  Tags_Busy                                             9074 non-null   uint8  \n",
      " 35  Tags_Closed by Horizzon                               9074 non-null   uint8  \n",
      " 36  Tags_Interested in other courses                      9074 non-null   uint8  \n",
      " 37  Tags_Other_Tags                                       9074 non-null   uint8  \n",
      " 38  Tags_Ringing                                          9074 non-null   uint8  \n",
      " 39  Tags_Will revert after reading the email              9074 non-null   uint8  \n",
      " 40  Tags_switched off                                     9074 non-null   uint8  \n",
      " 41  City_Other Cities                                     9074 non-null   uint8  \n",
      " 42  City_Other Cities of Maharashtra                      9074 non-null   uint8  \n",
      " 43  City_Other Metro Cities                               9074 non-null   uint8  \n",
      " 44  City_Thane & Outskirts                                9074 non-null   uint8  \n",
      " 45  City_Tier II Cities                                   9074 non-null   uint8  \n",
      "dtypes: float64(2), int64(2), object(1), uint8(41)\n",
      "memory usage: 1.0+ MB\n"
     ]
    }
   ],
   "source": [
    "lead_df.info()"
   ]
  },
  {
   "cell_type": "markdown",
   "id": "c550c7d4",
   "metadata": {},
   "source": [
    "### Test-Train Split"
   ]
  },
  {
   "cell_type": "code",
   "execution_count": 65,
   "id": "c9a454cf",
   "metadata": {},
   "outputs": [],
   "source": [
    "from sklearn.model_selection import train_test_split \n",
    "from sklearn.preprocessing import StandardScaler \n",
    "import statsmodels.api as sm\n",
    "from statsmodels.stats.outliers_influence import variance_inflation_factor \n",
    "from sklearn.linear_model import LogisticRegression\n",
    "from sklearn.feature_selection import RFE"
   ]
  },
  {
   "cell_type": "code",
   "execution_count": 66,
   "id": "e0ab9b32",
   "metadata": {},
   "outputs": [],
   "source": [
    "x=lead_df.drop([\"Prospect ID\",\"Converted\"],axis=1)\n",
    "y=lead_df[\"Converted\"]"
   ]
  },
  {
   "cell_type": "code",
   "execution_count": 67,
   "id": "92ae532e",
   "metadata": {},
   "outputs": [],
   "source": [
    "x_train,x_test,y_train,y_test=train_test_split(x,y, train_size=0.7,random_state=100, stratify=y)"
   ]
  },
  {
   "cell_type": "markdown",
   "id": "bf21b5ae",
   "metadata": {},
   "source": [
    "### Feature Selection"
   ]
  },
  {
   "cell_type": "code",
   "execution_count": 68,
   "id": "6436505e",
   "metadata": {},
   "outputs": [
    {
     "data": {
      "text/html": [
       "<div>\n",
       "<style scoped>\n",
       "    .dataframe tbody tr th:only-of-type {\n",
       "        vertical-align: middle;\n",
       "    }\n",
       "\n",
       "    .dataframe tbody tr th {\n",
       "        vertical-align: top;\n",
       "    }\n",
       "\n",
       "    .dataframe thead th {\n",
       "        text-align: right;\n",
       "    }\n",
       "</style>\n",
       "<table border=\"1\" class=\"dataframe\">\n",
       "  <thead>\n",
       "    <tr style=\"text-align: right;\">\n",
       "      <th></th>\n",
       "      <th>TotalVisits</th>\n",
       "      <th>Total Time Spent on Website</th>\n",
       "      <th>Page Views Per Visit</th>\n",
       "      <th>Lead Origin_Landing Page Submission</th>\n",
       "      <th>Lead Origin_Lead Add Form</th>\n",
       "      <th>Lead Origin_Lead Import</th>\n",
       "      <th>Lead Source_Google</th>\n",
       "      <th>Lead Source_Olark Chat</th>\n",
       "      <th>Lead Source_Organic Search</th>\n",
       "      <th>Lead Source_Other Lead Source</th>\n",
       "      <th>...</th>\n",
       "      <th>Tags_Interested in other courses</th>\n",
       "      <th>Tags_Other_Tags</th>\n",
       "      <th>Tags_Ringing</th>\n",
       "      <th>Tags_Will revert after reading the email</th>\n",
       "      <th>Tags_switched off</th>\n",
       "      <th>City_Other Cities</th>\n",
       "      <th>City_Other Cities of Maharashtra</th>\n",
       "      <th>City_Other Metro Cities</th>\n",
       "      <th>City_Thane &amp; Outskirts</th>\n",
       "      <th>City_Tier II Cities</th>\n",
       "    </tr>\n",
       "  </thead>\n",
       "  <tbody>\n",
       "    <tr>\n",
       "      <th>5191</th>\n",
       "      <td>-1.150107</td>\n",
       "      <td>-0.884115</td>\n",
       "      <td>-1.263078</td>\n",
       "      <td>0</td>\n",
       "      <td>0</td>\n",
       "      <td>0</td>\n",
       "      <td>0</td>\n",
       "      <td>1</td>\n",
       "      <td>0</td>\n",
       "      <td>0</td>\n",
       "      <td>...</td>\n",
       "      <td>0</td>\n",
       "      <td>0</td>\n",
       "      <td>0</td>\n",
       "      <td>1</td>\n",
       "      <td>0</td>\n",
       "      <td>0</td>\n",
       "      <td>0</td>\n",
       "      <td>0</td>\n",
       "      <td>0</td>\n",
       "      <td>0</td>\n",
       "    </tr>\n",
       "    <tr>\n",
       "      <th>6400</th>\n",
       "      <td>1.378218</td>\n",
       "      <td>-0.864051</td>\n",
       "      <td>0.038697</td>\n",
       "      <td>0</td>\n",
       "      <td>0</td>\n",
       "      <td>0</td>\n",
       "      <td>1</td>\n",
       "      <td>0</td>\n",
       "      <td>0</td>\n",
       "      <td>0</td>\n",
       "      <td>...</td>\n",
       "      <td>0</td>\n",
       "      <td>0</td>\n",
       "      <td>0</td>\n",
       "      <td>1</td>\n",
       "      <td>0</td>\n",
       "      <td>0</td>\n",
       "      <td>0</td>\n",
       "      <td>0</td>\n",
       "      <td>0</td>\n",
       "      <td>0</td>\n",
       "    </tr>\n",
       "    <tr>\n",
       "      <th>6058</th>\n",
       "      <td>-0.427729</td>\n",
       "      <td>-0.426296</td>\n",
       "      <td>-0.145674</td>\n",
       "      <td>1</td>\n",
       "      <td>0</td>\n",
       "      <td>0</td>\n",
       "      <td>0</td>\n",
       "      <td>0</td>\n",
       "      <td>0</td>\n",
       "      <td>0</td>\n",
       "      <td>...</td>\n",
       "      <td>0</td>\n",
       "      <td>0</td>\n",
       "      <td>1</td>\n",
       "      <td>0</td>\n",
       "      <td>0</td>\n",
       "      <td>0</td>\n",
       "      <td>0</td>\n",
       "      <td>0</td>\n",
       "      <td>0</td>\n",
       "      <td>0</td>\n",
       "    </tr>\n",
       "    <tr>\n",
       "      <th>2988</th>\n",
       "      <td>1.017028</td>\n",
       "      <td>1.363025</td>\n",
       "      <td>0.413028</td>\n",
       "      <td>0</td>\n",
       "      <td>0</td>\n",
       "      <td>0</td>\n",
       "      <td>1</td>\n",
       "      <td>0</td>\n",
       "      <td>0</td>\n",
       "      <td>0</td>\n",
       "      <td>...</td>\n",
       "      <td>0</td>\n",
       "      <td>0</td>\n",
       "      <td>0</td>\n",
       "      <td>1</td>\n",
       "      <td>0</td>\n",
       "      <td>0</td>\n",
       "      <td>0</td>\n",
       "      <td>0</td>\n",
       "      <td>0</td>\n",
       "      <td>0</td>\n",
       "    </tr>\n",
       "    <tr>\n",
       "      <th>6352</th>\n",
       "      <td>0.294650</td>\n",
       "      <td>1.291890</td>\n",
       "      <td>0.971729</td>\n",
       "      <td>1</td>\n",
       "      <td>0</td>\n",
       "      <td>0</td>\n",
       "      <td>0</td>\n",
       "      <td>0</td>\n",
       "      <td>1</td>\n",
       "      <td>0</td>\n",
       "      <td>...</td>\n",
       "      <td>0</td>\n",
       "      <td>0</td>\n",
       "      <td>0</td>\n",
       "      <td>0</td>\n",
       "      <td>0</td>\n",
       "      <td>0</td>\n",
       "      <td>0</td>\n",
       "      <td>0</td>\n",
       "      <td>0</td>\n",
       "      <td>0</td>\n",
       "    </tr>\n",
       "  </tbody>\n",
       "</table>\n",
       "<p>5 rows × 44 columns</p>\n",
       "</div>"
      ],
      "text/plain": [
       "      TotalVisits  Total Time Spent on Website  Page Views Per Visit  \\\n",
       "5191    -1.150107                    -0.884115             -1.263078   \n",
       "6400     1.378218                    -0.864051              0.038697   \n",
       "6058    -0.427729                    -0.426296             -0.145674   \n",
       "2988     1.017028                     1.363025              0.413028   \n",
       "6352     0.294650                     1.291890              0.971729   \n",
       "\n",
       "      Lead Origin_Landing Page Submission  Lead Origin_Lead Add Form  \\\n",
       "5191                                    0                          0   \n",
       "6400                                    0                          0   \n",
       "6058                                    1                          0   \n",
       "2988                                    0                          0   \n",
       "6352                                    1                          0   \n",
       "\n",
       "      Lead Origin_Lead Import  Lead Source_Google  Lead Source_Olark Chat  \\\n",
       "5191                        0                   0                       1   \n",
       "6400                        0                   1                       0   \n",
       "6058                        0                   0                       0   \n",
       "2988                        0                   1                       0   \n",
       "6352                        0                   0                       0   \n",
       "\n",
       "      Lead Source_Organic Search  Lead Source_Other Lead Source  ...  \\\n",
       "5191                           0                              0  ...   \n",
       "6400                           0                              0  ...   \n",
       "6058                           0                              0  ...   \n",
       "2988                           0                              0  ...   \n",
       "6352                           1                              0  ...   \n",
       "\n",
       "      Tags_Interested in other courses  Tags_Other_Tags  Tags_Ringing  \\\n",
       "5191                                 0                0             0   \n",
       "6400                                 0                0             0   \n",
       "6058                                 0                0             1   \n",
       "2988                                 0                0             0   \n",
       "6352                                 0                0             0   \n",
       "\n",
       "      Tags_Will revert after reading the email  Tags_switched off  \\\n",
       "5191                                         1                  0   \n",
       "6400                                         1                  0   \n",
       "6058                                         0                  0   \n",
       "2988                                         1                  0   \n",
       "6352                                         0                  0   \n",
       "\n",
       "      City_Other Cities  City_Other Cities of Maharashtra  \\\n",
       "5191                  0                                 0   \n",
       "6400                  0                                 0   \n",
       "6058                  0                                 0   \n",
       "2988                  0                                 0   \n",
       "6352                  0                                 0   \n",
       "\n",
       "      City_Other Metro Cities  City_Thane & Outskirts  City_Tier II Cities  \n",
       "5191                        0                       0                    0  \n",
       "6400                        0                       0                    0  \n",
       "6058                        0                       0                    0  \n",
       "2988                        0                       0                    0  \n",
       "6352                        0                       0                    0  \n",
       "\n",
       "[5 rows x 44 columns]"
      ]
     },
     "execution_count": 68,
     "metadata": {},
     "output_type": "execute_result"
    }
   ],
   "source": [
    "scaler = StandardScaler()\n",
    "\n",
    "x_train[['TotalVisits','Total Time Spent on Website','Page Views Per Visit']] = scaler.fit_transform(x_train[['TotalVisits','Total Time Spent on Website','Page Views Per Visit']])\n",
    "\n",
    "x_train.head()"
   ]
  },
  {
   "cell_type": "code",
   "execution_count": 69,
   "id": "ebfc5b35",
   "metadata": {},
   "outputs": [
    {
     "name": "stdout",
     "output_type": "stream",
     "text": [
      "Conversion rate is  37.85541106458012\n"
     ]
    }
   ],
   "source": [
    "print(\"Conversion rate is \", (sum(lead_df['Converted'])/len(lead_df['Converted'].index))*100)"
   ]
  },
  {
   "cell_type": "code",
   "execution_count": 70,
   "id": "50b44b9e",
   "metadata": {},
   "outputs": [
    {
     "data": {
      "text/plain": [
       "Lead Origin_Lead Add Form    Lead Source_Other Lead Source            0.862686\n",
       "TotalVisits                  Page Views Per Visit                     0.766567\n",
       "Last Activity_Email Bounced  Do Not Email_Yes                         0.620041\n",
       "Page Views Per Visit         Lead Origin_Landing Page Submission      0.554142\n",
       "Lead Source_Olark Chat       Specialization_Other_Specialization      0.509466\n",
       "TotalVisits                  Lead Origin_Landing Page Submission      0.454350\n",
       "Lead Source_Olark Chat       Last Activity_Olark Chat Conversation    0.424419\n",
       "Total Time Spent on Website  Page Views Per Visit                     0.364735\n",
       "TotalVisits                  Total Time Spent on Website              0.361207\n",
       "Converted                    Total Time Spent on Website              0.359261\n",
       "dtype: float64"
      ]
     },
     "execution_count": 70,
     "metadata": {},
     "output_type": "execute_result"
    }
   ],
   "source": [
    "# Correlation between different numerical variables for both the Converted and not-converted cases\n",
    "conv_corr = lead_df.corr()\n",
    "\n",
    "# Unstacking the correlation matrix to find out top correlations\n",
    "conv_corr_unstacked = conv_corr.unstack().sort_values(kind=\"quicksort\")\n",
    "conv_corr.where(np.triu(np.ones(conv_corr.shape), k=1).astype(np.bool)).stack().sort_values(ascending=False).head(10)"
   ]
  },
  {
   "cell_type": "code",
   "execution_count": 71,
   "id": "17463397",
   "metadata": {},
   "outputs": [],
   "source": [
    "x_test = x_test.drop(['Lead Source_Other Lead Source'], axis=1)\n",
    "x_train = x_train.drop(['Lead Source_Other Lead Source'], axis=1)"
   ]
  },
  {
   "cell_type": "code",
   "execution_count": 72,
   "id": "344b25e0",
   "metadata": {},
   "outputs": [],
   "source": [
    "conv_corr = x_train.corr()"
   ]
  },
  {
   "cell_type": "code",
   "execution_count": 73,
   "id": "8938ec55",
   "metadata": {},
   "outputs": [
    {
     "data": {
      "text/plain": [
       "TotalVisits                            Page Views Per Visit                     0.769404\n",
       "Last Activity_Email Bounced            Do Not Email_Yes                         0.625465\n",
       "Page Views Per Visit                   Lead Origin_Landing Page Submission      0.556771\n",
       "Lead Source_Olark Chat                 Specialization_Other_Specialization      0.509728\n",
       "TotalVisits                            Lead Origin_Landing Page Submission      0.456559\n",
       "Lead Source_Olark Chat                 Last Activity_Olark Chat Conversation    0.438043\n",
       "Total Time Spent on Website            Page Views Per Visit                     0.376224\n",
       "TotalVisits                            Total Time Spent on Website              0.364812\n",
       "Last Activity_Olark Chat Conversation  Specialization_Other_Specialization      0.349996\n",
       "Page Views Per Visit                   Lead Source_Organic Search               0.320573\n",
       "dtype: float64"
      ]
     },
     "execution_count": 73,
     "metadata": {},
     "output_type": "execute_result"
    }
   ],
   "source": [
    "conv_corr.where(np.triu(np.ones(conv_corr.shape), k=1).astype(np.bool)).stack().sort_values(ascending=False).head(10)"
   ]
  },
  {
   "cell_type": "markdown",
   "id": "c6f5f887",
   "metadata": {},
   "source": [
    "## Model Building"
   ]
  },
  {
   "cell_type": "code",
   "execution_count": 74,
   "id": "b9f6c33c",
   "metadata": {},
   "outputs": [],
   "source": [
    "from sklearn import metrics\n",
    "from sklearn.metrics import confusion_matrix\n",
    "from sklearn.metrics import precision_score\n",
    "from sklearn.metrics import precision_recall_curve"
   ]
  },
  {
   "cell_type": "code",
   "execution_count": 75,
   "id": "1ff78393",
   "metadata": {},
   "outputs": [
    {
     "data": {
      "text/html": [
       "<table class=\"simpletable\">\n",
       "<caption>Generalized Linear Model Regression Results</caption>\n",
       "<tr>\n",
       "  <th>Dep. Variable:</th>       <td>Converted</td>    <th>  No. Observations:  </th>  <td>  6351</td> \n",
       "</tr>\n",
       "<tr>\n",
       "  <th>Model:</th>                  <td>GLM</td>       <th>  Df Residuals:      </th>  <td>  6307</td> \n",
       "</tr>\n",
       "<tr>\n",
       "  <th>Model Family:</th>        <td>Binomial</td>     <th>  Df Model:          </th>  <td>    43</td> \n",
       "</tr>\n",
       "<tr>\n",
       "  <th>Link Function:</th>         <td>logit</td>      <th>  Scale:             </th> <td>  1.0000</td>\n",
       "</tr>\n",
       "<tr>\n",
       "  <th>Method:</th>                <td>IRLS</td>       <th>  Log-Likelihood:    </th> <td> -1945.4</td>\n",
       "</tr>\n",
       "<tr>\n",
       "  <th>Date:</th>            <td>Tue, 13 Sep 2022</td> <th>  Deviance:          </th> <td>  3890.9</td>\n",
       "</tr>\n",
       "<tr>\n",
       "  <th>Time:</th>                <td>11:21:40</td>     <th>  Pearson chi2:      </th> <td>9.79e+03</td>\n",
       "</tr>\n",
       "<tr>\n",
       "  <th>No. Iterations:</th>          <td>8</td>        <th>                     </th>     <td> </td>   \n",
       "</tr>\n",
       "<tr>\n",
       "  <th>Covariance Type:</th>     <td>nonrobust</td>    <th>                     </th>     <td> </td>   \n",
       "</tr>\n",
       "</table>\n",
       "<table class=\"simpletable\">\n",
       "<tr>\n",
       "                            <td></td>                              <th>coef</th>     <th>std err</th>      <th>z</th>      <th>P>|z|</th>  <th>[0.025</th>    <th>0.975]</th>  \n",
       "</tr>\n",
       "<tr>\n",
       "  <th>const</th>                                                <td>   -4.5575</td> <td>    1.058</td> <td>   -4.306</td> <td> 0.000</td> <td>   -6.632</td> <td>   -2.483</td>\n",
       "</tr>\n",
       "<tr>\n",
       "  <th>TotalVisits</th>                                          <td>    0.2478</td> <td>    0.067</td> <td>    3.692</td> <td> 0.000</td> <td>    0.116</td> <td>    0.379</td>\n",
       "</tr>\n",
       "<tr>\n",
       "  <th>Total Time Spent on Website</th>                          <td>    1.1123</td> <td>    0.049</td> <td>   22.577</td> <td> 0.000</td> <td>    1.016</td> <td>    1.209</td>\n",
       "</tr>\n",
       "<tr>\n",
       "  <th>Page Views Per Visit</th>                                 <td>   -0.3131</td> <td>    0.074</td> <td>   -4.239</td> <td> 0.000</td> <td>   -0.458</td> <td>   -0.168</td>\n",
       "</tr>\n",
       "<tr>\n",
       "  <th>Lead Origin_Landing Page Submission</th>                  <td>   -0.9120</td> <td>    0.160</td> <td>   -5.702</td> <td> 0.000</td> <td>   -1.225</td> <td>   -0.599</td>\n",
       "</tr>\n",
       "<tr>\n",
       "  <th>Lead Origin_Lead Add Form</th>                            <td>    3.4859</td> <td>    0.315</td> <td>   11.052</td> <td> 0.000</td> <td>    2.868</td> <td>    4.104</td>\n",
       "</tr>\n",
       "<tr>\n",
       "  <th>Lead Origin_Lead Import</th>                              <td>    0.7778</td> <td>    0.696</td> <td>    1.117</td> <td> 0.264</td> <td>   -0.587</td> <td>    2.143</td>\n",
       "</tr>\n",
       "<tr>\n",
       "  <th>Lead Source_Google</th>                                   <td>   -0.0091</td> <td>    0.112</td> <td>   -0.081</td> <td> 0.935</td> <td>   -0.229</td> <td>    0.211</td>\n",
       "</tr>\n",
       "<tr>\n",
       "  <th>Lead Source_Olark Chat</th>                               <td>    0.6911</td> <td>    0.180</td> <td>    3.829</td> <td> 0.000</td> <td>    0.337</td> <td>    1.045</td>\n",
       "</tr>\n",
       "<tr>\n",
       "  <th>Lead Source_Organic Search</th>                           <td>    0.1208</td> <td>    0.152</td> <td>    0.796</td> <td> 0.426</td> <td>   -0.177</td> <td>    0.418</td>\n",
       "</tr>\n",
       "<tr>\n",
       "  <th>Last Activity_Email Bounced</th>                          <td>    0.0629</td> <td>    0.480</td> <td>    0.131</td> <td> 0.896</td> <td>   -0.878</td> <td>    1.004</td>\n",
       "</tr>\n",
       "<tr>\n",
       "  <th>Last Activity_Email Link Clicked</th>                     <td>    0.6450</td> <td>    0.333</td> <td>    1.935</td> <td> 0.053</td> <td>   -0.008</td> <td>    1.298</td>\n",
       "</tr>\n",
       "<tr>\n",
       "  <th>Last Activity_Email Opened</th>                           <td>    1.0944</td> <td>    0.243</td> <td>    4.498</td> <td> 0.000</td> <td>    0.618</td> <td>    1.571</td>\n",
       "</tr>\n",
       "<tr>\n",
       "  <th>Last Activity_Olark Chat Conversation</th>                <td>   -0.6693</td> <td>    0.298</td> <td>   -2.245</td> <td> 0.025</td> <td>   -1.253</td> <td>   -0.085</td>\n",
       "</tr>\n",
       "<tr>\n",
       "  <th>Last Activity_Other Activity</th>                         <td>    1.2757</td> <td>    0.321</td> <td>    3.973</td> <td> 0.000</td> <td>    0.646</td> <td>    1.905</td>\n",
       "</tr>\n",
       "<tr>\n",
       "  <th>Last Activity_Page Visited on Website</th>                <td>    0.2154</td> <td>    0.297</td> <td>    0.725</td> <td> 0.468</td> <td>   -0.367</td> <td>    0.798</td>\n",
       "</tr>\n",
       "<tr>\n",
       "  <th>Last Activity_SMS Sent</th>                               <td>    2.5314</td> <td>    0.247</td> <td>   10.249</td> <td> 0.000</td> <td>    2.047</td> <td>    3.015</td>\n",
       "</tr>\n",
       "<tr>\n",
       "  <th>Specialization_Business Administration</th>               <td>   -0.1102</td> <td>    0.293</td> <td>   -0.377</td> <td> 0.706</td> <td>   -0.684</td> <td>    0.463</td>\n",
       "</tr>\n",
       "<tr>\n",
       "  <th>Specialization_Extra Specialization</th>                  <td>   -0.4481</td> <td>    0.262</td> <td>   -1.711</td> <td> 0.087</td> <td>   -0.962</td> <td>    0.065</td>\n",
       "</tr>\n",
       "<tr>\n",
       "  <th>Specialization_Finance Management</th>                    <td>   -0.1975</td> <td>    0.253</td> <td>   -0.782</td> <td> 0.434</td> <td>   -0.693</td> <td>    0.298</td>\n",
       "</tr>\n",
       "<tr>\n",
       "  <th>Specialization_Human Resource Management</th>             <td>   -0.2374</td> <td>    0.261</td> <td>   -0.910</td> <td> 0.363</td> <td>   -0.749</td> <td>    0.274</td>\n",
       "</tr>\n",
       "<tr>\n",
       "  <th>Specialization_IT Projects Management</th>                <td>   -0.0939</td> <td>    0.305</td> <td>   -0.308</td> <td> 0.758</td> <td>   -0.691</td> <td>    0.503</td>\n",
       "</tr>\n",
       "<tr>\n",
       "  <th>Specialization_Marketing Management</th>                  <td>   -0.1478</td> <td>    0.259</td> <td>   -0.571</td> <td> 0.568</td> <td>   -0.655</td> <td>    0.359</td>\n",
       "</tr>\n",
       "<tr>\n",
       "  <th>Specialization_Media and Advertising</th>                 <td>   -0.7550</td> <td>    0.356</td> <td>   -2.123</td> <td> 0.034</td> <td>   -1.452</td> <td>   -0.058</td>\n",
       "</tr>\n",
       "<tr>\n",
       "  <th>Specialization_Operations Management</th>                 <td>   -0.2194</td> <td>    0.283</td> <td>   -0.774</td> <td> 0.439</td> <td>   -0.774</td> <td>    0.336</td>\n",
       "</tr>\n",
       "<tr>\n",
       "  <th>Specialization_Other_Specialization</th>                  <td>   -1.3020</td> <td>    0.262</td> <td>   -4.970</td> <td> 0.000</td> <td>   -1.815</td> <td>   -0.789</td>\n",
       "</tr>\n",
       "<tr>\n",
       "  <th>Specialization_Supply Chain Management</th>               <td>   -0.3864</td> <td>    0.307</td> <td>   -1.259</td> <td> 0.208</td> <td>   -0.988</td> <td>    0.215</td>\n",
       "</tr>\n",
       "<tr>\n",
       "  <th>Specialization_Travel and Tourism</th>                    <td>   -0.6195</td> <td>    0.345</td> <td>   -1.797</td> <td> 0.072</td> <td>   -1.295</td> <td>    0.056</td>\n",
       "</tr>\n",
       "<tr>\n",
       "  <th>What is your current occupation_Student</th>              <td>    0.5999</td> <td>    0.771</td> <td>    0.778</td> <td> 0.437</td> <td>   -0.912</td> <td>    2.112</td>\n",
       "</tr>\n",
       "<tr>\n",
       "  <th>What is your current occupation_Unemployed</th>           <td>   -0.8652</td> <td>    0.684</td> <td>   -1.266</td> <td> 0.206</td> <td>   -2.205</td> <td>    0.475</td>\n",
       "</tr>\n",
       "<tr>\n",
       "  <th>What is your current occupation_Working Professional</th> <td>    1.7464</td> <td>    0.724</td> <td>    2.411</td> <td> 0.016</td> <td>    0.327</td> <td>    3.166</td>\n",
       "</tr>\n",
       "<tr>\n",
       "  <th>Do Not Email_Yes</th>                                     <td>   -1.3090</td> <td>    0.226</td> <td>   -5.783</td> <td> 0.000</td> <td>   -1.753</td> <td>   -0.865</td>\n",
       "</tr>\n",
       "<tr>\n",
       "  <th>Tags_Busy</th>                                            <td>    4.6330</td> <td>    0.765</td> <td>    6.060</td> <td> 0.000</td> <td>    3.135</td> <td>    6.131</td>\n",
       "</tr>\n",
       "<tr>\n",
       "  <th>Tags_Closed by Horizzon</th>                              <td>    9.2650</td> <td>    1.038</td> <td>    8.930</td> <td> 0.000</td> <td>    7.231</td> <td>   11.299</td>\n",
       "</tr>\n",
       "<tr>\n",
       "  <th>Tags_Interested in other courses</th>                     <td>    1.3064</td> <td>    0.806</td> <td>    1.620</td> <td> 0.105</td> <td>   -0.274</td> <td>    2.887</td>\n",
       "</tr>\n",
       "<tr>\n",
       "  <th>Tags_Other_Tags</th>                                      <td>    3.6716</td> <td>    0.738</td> <td>    4.973</td> <td> 0.000</td> <td>    2.224</td> <td>    5.119</td>\n",
       "</tr>\n",
       "<tr>\n",
       "  <th>Tags_Ringing</th>                                         <td>    0.5675</td> <td>    0.766</td> <td>    0.741</td> <td> 0.459</td> <td>   -0.933</td> <td>    2.068</td>\n",
       "</tr>\n",
       "<tr>\n",
       "  <th>Tags_Will revert after reading the email</th>             <td>    4.8617</td> <td>    0.730</td> <td>    6.658</td> <td> 0.000</td> <td>    3.430</td> <td>    6.293</td>\n",
       "</tr>\n",
       "<tr>\n",
       "  <th>Tags_switched off</th>                                    <td>   -0.8670</td> <td>    1.255</td> <td>   -0.691</td> <td> 0.490</td> <td>   -3.328</td> <td>    1.594</td>\n",
       "</tr>\n",
       "<tr>\n",
       "  <th>City_Other Cities</th>                                    <td>    0.0978</td> <td>    0.163</td> <td>    0.601</td> <td> 0.548</td> <td>   -0.221</td> <td>    0.417</td>\n",
       "</tr>\n",
       "<tr>\n",
       "  <th>City_Other Cities of Maharashtra</th>                     <td>    0.1106</td> <td>    0.194</td> <td>    0.571</td> <td> 0.568</td> <td>   -0.269</td> <td>    0.490</td>\n",
       "</tr>\n",
       "<tr>\n",
       "  <th>City_Other Metro Cities</th>                              <td>    0.1651</td> <td>    0.204</td> <td>    0.810</td> <td> 0.418</td> <td>   -0.235</td> <td>    0.565</td>\n",
       "</tr>\n",
       "<tr>\n",
       "  <th>City_Thane & Outskirts</th>                               <td>    0.0872</td> <td>    0.156</td> <td>    0.558</td> <td> 0.577</td> <td>   -0.219</td> <td>    0.394</td>\n",
       "</tr>\n",
       "<tr>\n",
       "  <th>City_Tier II Cities</th>                                  <td>    0.4653</td> <td>    0.499</td> <td>    0.933</td> <td> 0.351</td> <td>   -0.512</td> <td>    1.443</td>\n",
       "</tr>\n",
       "</table>"
      ],
      "text/plain": [
       "<class 'statsmodels.iolib.summary.Summary'>\n",
       "\"\"\"\n",
       "                 Generalized Linear Model Regression Results                  \n",
       "==============================================================================\n",
       "Dep. Variable:              Converted   No. Observations:                 6351\n",
       "Model:                            GLM   Df Residuals:                     6307\n",
       "Model Family:                Binomial   Df Model:                           43\n",
       "Link Function:                  logit   Scale:                          1.0000\n",
       "Method:                          IRLS   Log-Likelihood:                -1945.4\n",
       "Date:                Tue, 13 Sep 2022   Deviance:                       3890.9\n",
       "Time:                        11:21:40   Pearson chi2:                 9.79e+03\n",
       "No. Iterations:                     8                                         \n",
       "Covariance Type:            nonrobust                                         \n",
       "========================================================================================================================\n",
       "                                                           coef    std err          z      P>|z|      [0.025      0.975]\n",
       "------------------------------------------------------------------------------------------------------------------------\n",
       "const                                                   -4.5575      1.058     -4.306      0.000      -6.632      -2.483\n",
       "TotalVisits                                              0.2478      0.067      3.692      0.000       0.116       0.379\n",
       "Total Time Spent on Website                              1.1123      0.049     22.577      0.000       1.016       1.209\n",
       "Page Views Per Visit                                    -0.3131      0.074     -4.239      0.000      -0.458      -0.168\n",
       "Lead Origin_Landing Page Submission                     -0.9120      0.160     -5.702      0.000      -1.225      -0.599\n",
       "Lead Origin_Lead Add Form                                3.4859      0.315     11.052      0.000       2.868       4.104\n",
       "Lead Origin_Lead Import                                  0.7778      0.696      1.117      0.264      -0.587       2.143\n",
       "Lead Source_Google                                      -0.0091      0.112     -0.081      0.935      -0.229       0.211\n",
       "Lead Source_Olark Chat                                   0.6911      0.180      3.829      0.000       0.337       1.045\n",
       "Lead Source_Organic Search                               0.1208      0.152      0.796      0.426      -0.177       0.418\n",
       "Last Activity_Email Bounced                              0.0629      0.480      0.131      0.896      -0.878       1.004\n",
       "Last Activity_Email Link Clicked                         0.6450      0.333      1.935      0.053      -0.008       1.298\n",
       "Last Activity_Email Opened                               1.0944      0.243      4.498      0.000       0.618       1.571\n",
       "Last Activity_Olark Chat Conversation                   -0.6693      0.298     -2.245      0.025      -1.253      -0.085\n",
       "Last Activity_Other Activity                             1.2757      0.321      3.973      0.000       0.646       1.905\n",
       "Last Activity_Page Visited on Website                    0.2154      0.297      0.725      0.468      -0.367       0.798\n",
       "Last Activity_SMS Sent                                   2.5314      0.247     10.249      0.000       2.047       3.015\n",
       "Specialization_Business Administration                  -0.1102      0.293     -0.377      0.706      -0.684       0.463\n",
       "Specialization_Extra Specialization                     -0.4481      0.262     -1.711      0.087      -0.962       0.065\n",
       "Specialization_Finance Management                       -0.1975      0.253     -0.782      0.434      -0.693       0.298\n",
       "Specialization_Human Resource Management                -0.2374      0.261     -0.910      0.363      -0.749       0.274\n",
       "Specialization_IT Projects Management                   -0.0939      0.305     -0.308      0.758      -0.691       0.503\n",
       "Specialization_Marketing Management                     -0.1478      0.259     -0.571      0.568      -0.655       0.359\n",
       "Specialization_Media and Advertising                    -0.7550      0.356     -2.123      0.034      -1.452      -0.058\n",
       "Specialization_Operations Management                    -0.2194      0.283     -0.774      0.439      -0.774       0.336\n",
       "Specialization_Other_Specialization                     -1.3020      0.262     -4.970      0.000      -1.815      -0.789\n",
       "Specialization_Supply Chain Management                  -0.3864      0.307     -1.259      0.208      -0.988       0.215\n",
       "Specialization_Travel and Tourism                       -0.6195      0.345     -1.797      0.072      -1.295       0.056\n",
       "What is your current occupation_Student                  0.5999      0.771      0.778      0.437      -0.912       2.112\n",
       "What is your current occupation_Unemployed              -0.8652      0.684     -1.266      0.206      -2.205       0.475\n",
       "What is your current occupation_Working Professional     1.7464      0.724      2.411      0.016       0.327       3.166\n",
       "Do Not Email_Yes                                        -1.3090      0.226     -5.783      0.000      -1.753      -0.865\n",
       "Tags_Busy                                                4.6330      0.765      6.060      0.000       3.135       6.131\n",
       "Tags_Closed by Horizzon                                  9.2650      1.038      8.930      0.000       7.231      11.299\n",
       "Tags_Interested in other courses                         1.3064      0.806      1.620      0.105      -0.274       2.887\n",
       "Tags_Other_Tags                                          3.6716      0.738      4.973      0.000       2.224       5.119\n",
       "Tags_Ringing                                             0.5675      0.766      0.741      0.459      -0.933       2.068\n",
       "Tags_Will revert after reading the email                 4.8617      0.730      6.658      0.000       3.430       6.293\n",
       "Tags_switched off                                       -0.8670      1.255     -0.691      0.490      -3.328       1.594\n",
       "City_Other Cities                                        0.0978      0.163      0.601      0.548      -0.221       0.417\n",
       "City_Other Cities of Maharashtra                         0.1106      0.194      0.571      0.568      -0.269       0.490\n",
       "City_Other Metro Cities                                  0.1651      0.204      0.810      0.418      -0.235       0.565\n",
       "City_Thane & Outskirts                                   0.0872      0.156      0.558      0.577      -0.219       0.394\n",
       "City_Tier II Cities                                      0.4653      0.499      0.933      0.351      -0.512       1.443\n",
       "========================================================================================================================\n",
       "\"\"\""
      ]
     },
     "execution_count": 75,
     "metadata": {},
     "output_type": "execute_result"
    }
   ],
   "source": [
    "logm1 = sm.GLM(y_train,(sm.add_constant(x_train)), family = sm.families.Binomial())\n",
    "logm1.fit().summary()"
   ]
  },
  {
   "cell_type": "markdown",
   "id": "611f2cac",
   "metadata": {},
   "source": [
    "### Model 1"
   ]
  },
  {
   "cell_type": "code",
   "execution_count": 76,
   "id": "436d7ae4",
   "metadata": {},
   "outputs": [],
   "source": [
    "# Starting with 15 features selected by RFE\n",
    "# We will then optimize the model further by inspecting VIF and p-value of the features\n",
    "\n",
    "logreg = LogisticRegression()\n",
    "rfe = RFE(logreg, 15)  \n",
    "rfe = rfe.fit(x_train, y_train)\n"
   ]
  },
  {
   "cell_type": "code",
   "execution_count": 77,
   "id": "e560e325",
   "metadata": {},
   "outputs": [
    {
     "data": {
      "text/plain": [
       "[('TotalVisits', False, 11),\n",
       " ('Total Time Spent on Website', False, 2),\n",
       " ('Page Views Per Visit', False, 10),\n",
       " ('Lead Origin_Landing Page Submission', True, 1),\n",
       " ('Lead Origin_Lead Add Form', True, 1),\n",
       " ('Lead Origin_Lead Import', False, 6),\n",
       " ('Lead Source_Google', False, 28),\n",
       " ('Lead Source_Olark Chat', False, 4),\n",
       " ('Lead Source_Organic Search', False, 17),\n",
       " ('Last Activity_Email Bounced', False, 15),\n",
       " ('Last Activity_Email Link Clicked', False, 8),\n",
       " ('Last Activity_Email Opened', True, 1),\n",
       " ('Last Activity_Olark Chat Conversation', False, 3),\n",
       " ('Last Activity_Other Activity', True, 1),\n",
       " ('Last Activity_Page Visited on Website', False, 26),\n",
       " ('Last Activity_SMS Sent', True, 1),\n",
       " ('Specialization_Business Administration', False, 27),\n",
       " ('Specialization_Extra Specialization', False, 13),\n",
       " ('Specialization_Finance Management', False, 24),\n",
       " ('Specialization_Human Resource Management', False, 23),\n",
       " ('Specialization_IT Projects Management', False, 25),\n",
       " ('Specialization_Marketing Management', False, 29),\n",
       " ('Specialization_Media and Advertising', False, 7),\n",
       " ('Specialization_Operations Management', False, 22),\n",
       " ('Specialization_Other_Specialization', True, 1),\n",
       " ('Specialization_Supply Chain Management', False, 14),\n",
       " ('Specialization_Travel and Tourism', False, 9),\n",
       " ('What is your current occupation_Student', False, 21),\n",
       " ('What is your current occupation_Unemployed', True, 1),\n",
       " ('What is your current occupation_Working Professional', True, 1),\n",
       " ('Do Not Email_Yes', True, 1),\n",
       " ('Tags_Busy', True, 1),\n",
       " ('Tags_Closed by Horizzon', True, 1),\n",
       " ('Tags_Interested in other courses', False, 5),\n",
       " ('Tags_Other_Tags', True, 1),\n",
       " ('Tags_Ringing', True, 1),\n",
       " ('Tags_Will revert after reading the email', True, 1),\n",
       " ('Tags_switched off', True, 1),\n",
       " ('City_Other Cities', False, 19),\n",
       " ('City_Other Cities of Maharashtra', False, 18),\n",
       " ('City_Other Metro Cities', False, 16),\n",
       " ('City_Thane & Outskirts', False, 20),\n",
       " ('City_Tier II Cities', False, 12)]"
      ]
     },
     "execution_count": 77,
     "metadata": {},
     "output_type": "execute_result"
    }
   ],
   "source": [
    "list(zip(x_train.columns, rfe.support_, rfe.ranking_))"
   ]
  },
  {
   "cell_type": "code",
   "execution_count": 78,
   "id": "16d44578",
   "metadata": {},
   "outputs": [
    {
     "data": {
      "text/plain": [
       "Index(['Lead Origin_Landing Page Submission', 'Lead Origin_Lead Add Form',\n",
       "       'Last Activity_Email Opened', 'Last Activity_Other Activity',\n",
       "       'Last Activity_SMS Sent', 'Specialization_Other_Specialization',\n",
       "       'What is your current occupation_Unemployed',\n",
       "       'What is your current occupation_Working Professional',\n",
       "       'Do Not Email_Yes', 'Tags_Busy', 'Tags_Closed by Horizzon',\n",
       "       'Tags_Other_Tags', 'Tags_Ringing',\n",
       "       'Tags_Will revert after reading the email', 'Tags_switched off'],\n",
       "      dtype='object')"
      ]
     },
     "execution_count": 78,
     "metadata": {},
     "output_type": "execute_result"
    }
   ],
   "source": [
    "col = x_train.columns[rfe.support_]\n",
    "col"
   ]
  },
  {
   "cell_type": "code",
   "execution_count": 79,
   "id": "ce24e08e",
   "metadata": {},
   "outputs": [
    {
     "data": {
      "text/html": [
       "<table class=\"simpletable\">\n",
       "<caption>Generalized Linear Model Regression Results</caption>\n",
       "<tr>\n",
       "  <th>Dep. Variable:</th>       <td>Converted</td>    <th>  No. Observations:  </th>  <td>  6351</td> \n",
       "</tr>\n",
       "<tr>\n",
       "  <th>Model:</th>                  <td>GLM</td>       <th>  Df Residuals:      </th>  <td>  6335</td> \n",
       "</tr>\n",
       "<tr>\n",
       "  <th>Model Family:</th>        <td>Binomial</td>     <th>  Df Model:          </th>  <td>    15</td> \n",
       "</tr>\n",
       "<tr>\n",
       "  <th>Link Function:</th>         <td>logit</td>      <th>  Scale:             </th> <td>  1.0000</td>\n",
       "</tr>\n",
       "<tr>\n",
       "  <th>Method:</th>                <td>IRLS</td>       <th>  Log-Likelihood:    </th> <td> -2296.9</td>\n",
       "</tr>\n",
       "<tr>\n",
       "  <th>Date:</th>            <td>Tue, 13 Sep 2022</td> <th>  Deviance:          </th> <td>  4593.7</td>\n",
       "</tr>\n",
       "<tr>\n",
       "  <th>Time:</th>                <td>11:21:45</td>     <th>  Pearson chi2:      </th> <td>9.01e+03</td>\n",
       "</tr>\n",
       "<tr>\n",
       "  <th>No. Iterations:</th>          <td>8</td>        <th>                     </th>     <td> </td>   \n",
       "</tr>\n",
       "<tr>\n",
       "  <th>Covariance Type:</th>     <td>nonrobust</td>    <th>                     </th>     <td> </td>   \n",
       "</tr>\n",
       "</table>\n",
       "<table class=\"simpletable\">\n",
       "<tr>\n",
       "                            <td></td>                              <th>coef</th>     <th>std err</th>      <th>z</th>      <th>P>|z|</th>  <th>[0.025</th>    <th>0.975]</th>  \n",
       "</tr>\n",
       "<tr>\n",
       "  <th>const</th>                                                <td>   -2.8234</td> <td>    0.400</td> <td>   -7.054</td> <td> 0.000</td> <td>   -3.608</td> <td>   -2.039</td>\n",
       "</tr>\n",
       "<tr>\n",
       "  <th>Lead Origin_Landing Page Submission</th>                  <td>   -1.0085</td> <td>    0.131</td> <td>   -7.682</td> <td> 0.000</td> <td>   -1.266</td> <td>   -0.751</td>\n",
       "</tr>\n",
       "<tr>\n",
       "  <th>Lead Origin_Lead Add Form</th>                            <td>    2.5261</td> <td>    0.276</td> <td>    9.157</td> <td> 0.000</td> <td>    1.985</td> <td>    3.067</td>\n",
       "</tr>\n",
       "<tr>\n",
       "  <th>Last Activity_Email Opened</th>                           <td>    1.1293</td> <td>    0.103</td> <td>   10.920</td> <td> 0.000</td> <td>    0.927</td> <td>    1.332</td>\n",
       "</tr>\n",
       "<tr>\n",
       "  <th>Last Activity_Other Activity</th>                         <td>    1.3255</td> <td>    0.215</td> <td>    6.159</td> <td> 0.000</td> <td>    0.904</td> <td>    1.747</td>\n",
       "</tr>\n",
       "<tr>\n",
       "  <th>Last Activity_SMS Sent</th>                               <td>    2.5356</td> <td>    0.110</td> <td>   23.052</td> <td> 0.000</td> <td>    2.320</td> <td>    2.751</td>\n",
       "</tr>\n",
       "<tr>\n",
       "  <th>Specialization_Other_Specialization</th>                  <td>   -1.4988</td> <td>    0.135</td> <td>  -11.128</td> <td> 0.000</td> <td>   -1.763</td> <td>   -1.235</td>\n",
       "</tr>\n",
       "<tr>\n",
       "  <th>What is your current occupation_Unemployed</th>           <td>   -1.4565</td> <td>    0.293</td> <td>   -4.966</td> <td> 0.000</td> <td>   -2.031</td> <td>   -0.882</td>\n",
       "</tr>\n",
       "<tr>\n",
       "  <th>What is your current occupation_Working Professional</th> <td>    1.1500</td> <td>    0.369</td> <td>    3.118</td> <td> 0.002</td> <td>    0.427</td> <td>    1.873</td>\n",
       "</tr>\n",
       "<tr>\n",
       "  <th>Do Not Email_Yes</th>                                     <td>   -1.2623</td> <td>    0.180</td> <td>   -7.008</td> <td> 0.000</td> <td>   -1.615</td> <td>   -0.909</td>\n",
       "</tr>\n",
       "<tr>\n",
       "  <th>Tags_Busy</th>                                            <td>    3.7881</td> <td>    0.373</td> <td>   10.150</td> <td> 0.000</td> <td>    3.057</td> <td>    4.520</td>\n",
       "</tr>\n",
       "<tr>\n",
       "  <th>Tags_Closed by Horizzon</th>                              <td>    8.4599</td> <td>    0.786</td> <td>   10.766</td> <td> 0.000</td> <td>    6.920</td> <td>   10.000</td>\n",
       "</tr>\n",
       "<tr>\n",
       "  <th>Tags_Other_Tags</th>                                      <td>    2.7600</td> <td>    0.330</td> <td>    8.353</td> <td> 0.000</td> <td>    2.112</td> <td>    3.408</td>\n",
       "</tr>\n",
       "<tr>\n",
       "  <th>Tags_Ringing</th>                                         <td>   -0.0986</td> <td>    0.382</td> <td>   -0.258</td> <td> 0.796</td> <td>   -0.848</td> <td>    0.651</td>\n",
       "</tr>\n",
       "<tr>\n",
       "  <th>Tags_Will revert after reading the email</th>             <td>    3.9637</td> <td>    0.313</td> <td>   12.671</td> <td> 0.000</td> <td>    3.351</td> <td>    4.577</td>\n",
       "</tr>\n",
       "<tr>\n",
       "  <th>Tags_switched off</th>                                    <td>   -1.6092</td> <td>    1.054</td> <td>   -1.527</td> <td> 0.127</td> <td>   -3.674</td> <td>    0.456</td>\n",
       "</tr>\n",
       "</table>"
      ],
      "text/plain": [
       "<class 'statsmodels.iolib.summary.Summary'>\n",
       "\"\"\"\n",
       "                 Generalized Linear Model Regression Results                  \n",
       "==============================================================================\n",
       "Dep. Variable:              Converted   No. Observations:                 6351\n",
       "Model:                            GLM   Df Residuals:                     6335\n",
       "Model Family:                Binomial   Df Model:                           15\n",
       "Link Function:                  logit   Scale:                          1.0000\n",
       "Method:                          IRLS   Log-Likelihood:                -2296.9\n",
       "Date:                Tue, 13 Sep 2022   Deviance:                       4593.7\n",
       "Time:                        11:21:45   Pearson chi2:                 9.01e+03\n",
       "No. Iterations:                     8                                         \n",
       "Covariance Type:            nonrobust                                         \n",
       "========================================================================================================================\n",
       "                                                           coef    std err          z      P>|z|      [0.025      0.975]\n",
       "------------------------------------------------------------------------------------------------------------------------\n",
       "const                                                   -2.8234      0.400     -7.054      0.000      -3.608      -2.039\n",
       "Lead Origin_Landing Page Submission                     -1.0085      0.131     -7.682      0.000      -1.266      -0.751\n",
       "Lead Origin_Lead Add Form                                2.5261      0.276      9.157      0.000       1.985       3.067\n",
       "Last Activity_Email Opened                               1.1293      0.103     10.920      0.000       0.927       1.332\n",
       "Last Activity_Other Activity                             1.3255      0.215      6.159      0.000       0.904       1.747\n",
       "Last Activity_SMS Sent                                   2.5356      0.110     23.052      0.000       2.320       2.751\n",
       "Specialization_Other_Specialization                     -1.4988      0.135    -11.128      0.000      -1.763      -1.235\n",
       "What is your current occupation_Unemployed              -1.4565      0.293     -4.966      0.000      -2.031      -0.882\n",
       "What is your current occupation_Working Professional     1.1500      0.369      3.118      0.002       0.427       1.873\n",
       "Do Not Email_Yes                                        -1.2623      0.180     -7.008      0.000      -1.615      -0.909\n",
       "Tags_Busy                                                3.7881      0.373     10.150      0.000       3.057       4.520\n",
       "Tags_Closed by Horizzon                                  8.4599      0.786     10.766      0.000       6.920      10.000\n",
       "Tags_Other_Tags                                          2.7600      0.330      8.353      0.000       2.112       3.408\n",
       "Tags_Ringing                                            -0.0986      0.382     -0.258      0.796      -0.848       0.651\n",
       "Tags_Will revert after reading the email                 3.9637      0.313     12.671      0.000       3.351       4.577\n",
       "Tags_switched off                                       -1.6092      1.054     -1.527      0.127      -3.674       0.456\n",
       "========================================================================================================================\n",
       "\"\"\""
      ]
     },
     "execution_count": 79,
     "metadata": {},
     "output_type": "execute_result"
    }
   ],
   "source": [
    "x_train_sm = sm.add_constant(x_train[col])\n",
    "logm2 = sm.GLM(y_train,x_train_sm, family = sm.families.Binomial())\n",
    "res = logm2.fit()\n",
    "res.summary()"
   ]
  },
  {
   "cell_type": "code",
   "execution_count": 80,
   "id": "c024f176",
   "metadata": {},
   "outputs": [
    {
     "data": {
      "text/plain": [
       "5191    0.140041\n",
       "6400    0.140041\n",
       "6058    0.054609\n",
       "2988    0.672739\n",
       "6352    0.001427\n",
       "3828    0.210041\n",
       "801     0.210041\n",
       "3999    0.069983\n",
       "7835    0.901671\n",
       "875     0.001009\n",
       "dtype: float64"
      ]
     },
     "execution_count": 80,
     "metadata": {},
     "output_type": "execute_result"
    }
   ],
   "source": [
    "# Getting the predicted values on the train set\n",
    "y_train_pred = res.predict(x_train_sm)\n",
    "y_train_pred[:10]"
   ]
  },
  {
   "cell_type": "code",
   "execution_count": 81,
   "id": "3aa7b0fc",
   "metadata": {},
   "outputs": [
    {
     "data": {
      "text/html": [
       "<div>\n",
       "<style scoped>\n",
       "    .dataframe tbody tr th:only-of-type {\n",
       "        vertical-align: middle;\n",
       "    }\n",
       "\n",
       "    .dataframe tbody tr th {\n",
       "        vertical-align: top;\n",
       "    }\n",
       "\n",
       "    .dataframe thead th {\n",
       "        text-align: right;\n",
       "    }\n",
       "</style>\n",
       "<table border=\"1\" class=\"dataframe\">\n",
       "  <thead>\n",
       "    <tr style=\"text-align: right;\">\n",
       "      <th></th>\n",
       "      <th>Convert</th>\n",
       "      <th>Convert_Prob</th>\n",
       "      <th>Pros_ID</th>\n",
       "    </tr>\n",
       "  </thead>\n",
       "  <tbody>\n",
       "    <tr>\n",
       "      <th>5191</th>\n",
       "      <td>0</td>\n",
       "      <td>0.140041</td>\n",
       "      <td>5191</td>\n",
       "    </tr>\n",
       "    <tr>\n",
       "      <th>6400</th>\n",
       "      <td>0</td>\n",
       "      <td>0.140041</td>\n",
       "      <td>6400</td>\n",
       "    </tr>\n",
       "    <tr>\n",
       "      <th>6058</th>\n",
       "      <td>0</td>\n",
       "      <td>0.054609</td>\n",
       "      <td>6058</td>\n",
       "    </tr>\n",
       "    <tr>\n",
       "      <th>2988</th>\n",
       "      <td>1</td>\n",
       "      <td>0.672739</td>\n",
       "      <td>2988</td>\n",
       "    </tr>\n",
       "    <tr>\n",
       "      <th>6352</th>\n",
       "      <td>0</td>\n",
       "      <td>0.001427</td>\n",
       "      <td>6352</td>\n",
       "    </tr>\n",
       "  </tbody>\n",
       "</table>\n",
       "</div>"
      ],
      "text/plain": [
       "      Convert  Convert_Prob  Pros_ID\n",
       "5191        0      0.140041     5191\n",
       "6400        0      0.140041     6400\n",
       "6058        0      0.054609     6058\n",
       "2988        1      0.672739     2988\n",
       "6352        0      0.001427     6352"
      ]
     },
     "execution_count": 81,
     "metadata": {},
     "output_type": "execute_result"
    }
   ],
   "source": [
    "y_train_pred_final = pd.DataFrame({'Convert':y_train.values, 'Convert_Prob':y_train_pred})\n",
    "y_train_pred_final['Pros_ID'] = y_train.index\n",
    "y_train_pred_final.head()"
   ]
  },
  {
   "cell_type": "code",
   "execution_count": 82,
   "id": "a642d827",
   "metadata": {},
   "outputs": [
    {
     "data": {
      "text/html": [
       "<div>\n",
       "<style scoped>\n",
       "    .dataframe tbody tr th:only-of-type {\n",
       "        vertical-align: middle;\n",
       "    }\n",
       "\n",
       "    .dataframe tbody tr th {\n",
       "        vertical-align: top;\n",
       "    }\n",
       "\n",
       "    .dataframe thead th {\n",
       "        text-align: right;\n",
       "    }\n",
       "</style>\n",
       "<table border=\"1\" class=\"dataframe\">\n",
       "  <thead>\n",
       "    <tr style=\"text-align: right;\">\n",
       "      <th></th>\n",
       "      <th>Convert</th>\n",
       "      <th>Convert_Prob</th>\n",
       "      <th>Pros_ID</th>\n",
       "      <th>predicted</th>\n",
       "    </tr>\n",
       "  </thead>\n",
       "  <tbody>\n",
       "    <tr>\n",
       "      <th>5191</th>\n",
       "      <td>0</td>\n",
       "      <td>0.140041</td>\n",
       "      <td>5191</td>\n",
       "      <td>0</td>\n",
       "    </tr>\n",
       "    <tr>\n",
       "      <th>6400</th>\n",
       "      <td>0</td>\n",
       "      <td>0.140041</td>\n",
       "      <td>6400</td>\n",
       "      <td>0</td>\n",
       "    </tr>\n",
       "    <tr>\n",
       "      <th>6058</th>\n",
       "      <td>0</td>\n",
       "      <td>0.054609</td>\n",
       "      <td>6058</td>\n",
       "      <td>0</td>\n",
       "    </tr>\n",
       "    <tr>\n",
       "      <th>2988</th>\n",
       "      <td>1</td>\n",
       "      <td>0.672739</td>\n",
       "      <td>2988</td>\n",
       "      <td>1</td>\n",
       "    </tr>\n",
       "    <tr>\n",
       "      <th>6352</th>\n",
       "      <td>0</td>\n",
       "      <td>0.001427</td>\n",
       "      <td>6352</td>\n",
       "      <td>0</td>\n",
       "    </tr>\n",
       "  </tbody>\n",
       "</table>\n",
       "</div>"
      ],
      "text/plain": [
       "      Convert  Convert_Prob  Pros_ID  predicted\n",
       "5191        0      0.140041     5191          0\n",
       "6400        0      0.140041     6400          0\n",
       "6058        0      0.054609     6058          0\n",
       "2988        1      0.672739     2988          1\n",
       "6352        0      0.001427     6352          0"
      ]
     },
     "execution_count": 82,
     "metadata": {},
     "output_type": "execute_result"
    }
   ],
   "source": [
    "# Creating new column 'predicted' with 1 if Convert_Prob > 0.5 else 0\n",
    "\n",
    "y_train_pred_final['predicted'] = y_train_pred_final.Convert_Prob.map(lambda x: 1 if x > 0.5 else 0)\n",
    "\n",
    "# Let's see the head\n",
    "y_train_pred_final.head()"
   ]
  },
  {
   "cell_type": "code",
   "execution_count": 83,
   "id": "48680fd2",
   "metadata": {},
   "outputs": [
    {
     "name": "stdout",
     "output_type": "stream",
     "text": [
      "                                             Features  \\\n",
      "10                            Tags_Closed by Horizzon   \n",
      "14                                  Tags_switched off   \n",
      "9                                           Tags_Busy   \n",
      "3                        Last Activity_Other Activity   \n",
      "7   What is your current occupation_Working Profes...   \n",
      "8                                    Do Not Email_Yes   \n",
      "1                           Lead Origin_Lead Add Form   \n",
      "13           Tags_Will revert after reading the email   \n",
      "11                                    Tags_Other_Tags   \n",
      "6          What is your current occupation_Unemployed   \n",
      "12                                       Tags_Ringing   \n",
      "2                          Last Activity_Email Opened   \n",
      "4                              Last Activity_SMS Sent   \n",
      "0                 Lead Origin_Landing Page Submission   \n",
      "5                 Specialization_Other_Specialization   \n",
      "\n",
      "    Variance Inflation Factor  \n",
      "10                       1.43  \n",
      "14                       1.29  \n",
      "9                        1.22  \n",
      "3                        1.14  \n",
      "7                        0.95  \n",
      "8                        0.58  \n",
      "1                        0.52  \n",
      "13                       0.32  \n",
      "11                       0.21  \n",
      "6                        0.20  \n",
      "12                       0.16  \n",
      "2                        0.14  \n",
      "4                        0.13  \n",
      "0                        0.11  \n",
      "5                        0.04  \n"
     ]
    }
   ],
   "source": [
    "def calculate_vif(x_train):\n",
    "    vif_df = pd.DataFrame()\n",
    "    vif_df['Features'] = x_train.columns\n",
    "    vif_df['Variance Inflation Factor'] = [variance_inflation_factor(x_train.values, i) for i in range(x_train.shape[1])]\n",
    "    vif_df['Variance Inflation Factor'] = round(vif_df['Variance Inflation Factor'], 2)\n",
    "    vif_df = vif_df.sort_values(by = 'Variance Inflation Factor', ascending = False)\n",
    "    print(vif_df)\n",
    "\n",
    "calculate_vif(x_train[col])"
   ]
  },
  {
   "cell_type": "code",
   "execution_count": 84,
   "id": "e11987d0",
   "metadata": {},
   "outputs": [
    {
     "data": {
      "text/plain": [
       "Index(['Lead Origin_Landing Page Submission', 'Lead Origin_Lead Add Form',\n",
       "       'Last Activity_Email Opened', 'Last Activity_Other Activity',\n",
       "       'Last Activity_SMS Sent', 'Specialization_Other_Specialization',\n",
       "       'What is your current occupation_Unemployed',\n",
       "       'What is your current occupation_Working Professional',\n",
       "       'Do Not Email_Yes', 'Tags_Busy', 'Tags_Closed by Horizzon',\n",
       "       'Tags_Other_Tags', 'Tags_Will revert after reading the email',\n",
       "       'Tags_switched off'],\n",
       "      dtype='object')"
      ]
     },
     "execution_count": 84,
     "metadata": {},
     "output_type": "execute_result"
    }
   ],
   "source": [
    "col=col.drop(\"Tags_Ringing\")\n",
    "col"
   ]
  },
  {
   "cell_type": "markdown",
   "id": "7d0b071d",
   "metadata": {},
   "source": [
    "### Model 2"
   ]
  },
  {
   "cell_type": "code",
   "execution_count": 85,
   "id": "0b5c1be1",
   "metadata": {},
   "outputs": [
    {
     "data": {
      "text/html": [
       "<table class=\"simpletable\">\n",
       "<caption>Generalized Linear Model Regression Results</caption>\n",
       "<tr>\n",
       "  <th>Dep. Variable:</th>       <td>Converted</td>    <th>  No. Observations:  </th>  <td>  6351</td> \n",
       "</tr>\n",
       "<tr>\n",
       "  <th>Model:</th>                  <td>GLM</td>       <th>  Df Residuals:      </th>  <td>  6336</td> \n",
       "</tr>\n",
       "<tr>\n",
       "  <th>Model Family:</th>        <td>Binomial</td>     <th>  Df Model:          </th>  <td>    14</td> \n",
       "</tr>\n",
       "<tr>\n",
       "  <th>Link Function:</th>         <td>logit</td>      <th>  Scale:             </th> <td>  1.0000</td>\n",
       "</tr>\n",
       "<tr>\n",
       "  <th>Method:</th>                <td>IRLS</td>       <th>  Log-Likelihood:    </th> <td> -2296.9</td>\n",
       "</tr>\n",
       "<tr>\n",
       "  <th>Date:</th>            <td>Tue, 13 Sep 2022</td> <th>  Deviance:          </th> <td>  4593.8</td>\n",
       "</tr>\n",
       "<tr>\n",
       "  <th>Time:</th>                <td>11:21:46</td>     <th>  Pearson chi2:      </th> <td>9.05e+03</td>\n",
       "</tr>\n",
       "<tr>\n",
       "  <th>No. Iterations:</th>          <td>8</td>        <th>                     </th>     <td> </td>   \n",
       "</tr>\n",
       "<tr>\n",
       "  <th>Covariance Type:</th>     <td>nonrobust</td>    <th>                     </th>     <td> </td>   \n",
       "</tr>\n",
       "</table>\n",
       "<table class=\"simpletable\">\n",
       "<tr>\n",
       "                            <td></td>                              <th>coef</th>     <th>std err</th>      <th>z</th>      <th>P>|z|</th>  <th>[0.025</th>    <th>0.975]</th>  \n",
       "</tr>\n",
       "<tr>\n",
       "  <th>const</th>                                                <td>   -2.8756</td> <td>    0.349</td> <td>   -8.234</td> <td> 0.000</td> <td>   -3.560</td> <td>   -2.191</td>\n",
       "</tr>\n",
       "<tr>\n",
       "  <th>Lead Origin_Landing Page Submission</th>                  <td>   -1.0102</td> <td>    0.131</td> <td>   -7.701</td> <td> 0.000</td> <td>   -1.267</td> <td>   -0.753</td>\n",
       "</tr>\n",
       "<tr>\n",
       "  <th>Lead Origin_Lead Add Form</th>                            <td>    2.5219</td> <td>    0.275</td> <td>    9.177</td> <td> 0.000</td> <td>    1.983</td> <td>    3.060</td>\n",
       "</tr>\n",
       "<tr>\n",
       "  <th>Last Activity_Email Opened</th>                           <td>    1.1297</td> <td>    0.103</td> <td>   10.922</td> <td> 0.000</td> <td>    0.927</td> <td>    1.332</td>\n",
       "</tr>\n",
       "<tr>\n",
       "  <th>Last Activity_Other Activity</th>                         <td>    1.3255</td> <td>    0.215</td> <td>    6.157</td> <td> 0.000</td> <td>    0.904</td> <td>    1.748</td>\n",
       "</tr>\n",
       "<tr>\n",
       "  <th>Last Activity_SMS Sent</th>                               <td>    2.5339</td> <td>    0.110</td> <td>   23.074</td> <td> 0.000</td> <td>    2.319</td> <td>    2.749</td>\n",
       "</tr>\n",
       "<tr>\n",
       "  <th>Specialization_Other_Specialization</th>                  <td>   -1.4998</td> <td>    0.135</td> <td>  -11.135</td> <td> 0.000</td> <td>   -1.764</td> <td>   -1.236</td>\n",
       "</tr>\n",
       "<tr>\n",
       "  <th>What is your current occupation_Unemployed</th>           <td>   -1.4688</td> <td>    0.291</td> <td>   -5.052</td> <td> 0.000</td> <td>   -2.039</td> <td>   -0.899</td>\n",
       "</tr>\n",
       "<tr>\n",
       "  <th>What is your current occupation_Working Professional</th> <td>    1.1446</td> <td>    0.370</td> <td>    3.094</td> <td> 0.002</td> <td>    0.420</td> <td>    1.870</td>\n",
       "</tr>\n",
       "<tr>\n",
       "  <th>Do Not Email_Yes</th>                                     <td>   -1.2617</td> <td>    0.180</td> <td>   -7.006</td> <td> 0.000</td> <td>   -1.615</td> <td>   -0.909</td>\n",
       "</tr>\n",
       "<tr>\n",
       "  <th>Tags_Busy</th>                                            <td>    3.8550</td> <td>    0.271</td> <td>   14.214</td> <td> 0.000</td> <td>    3.323</td> <td>    4.387</td>\n",
       "</tr>\n",
       "<tr>\n",
       "  <th>Tags_Closed by Horizzon</th>                              <td>    8.5257</td> <td>    0.744</td> <td>   11.454</td> <td> 0.000</td> <td>    7.067</td> <td>    9.985</td>\n",
       "</tr>\n",
       "<tr>\n",
       "  <th>Tags_Other_Tags</th>                                      <td>    2.8256</td> <td>    0.215</td> <td>   13.163</td> <td> 0.000</td> <td>    2.405</td> <td>    3.246</td>\n",
       "</tr>\n",
       "<tr>\n",
       "  <th>Tags_Will revert after reading the email</th>             <td>    4.0296</td> <td>    0.185</td> <td>   21.805</td> <td> 0.000</td> <td>    3.667</td> <td>    4.392</td>\n",
       "</tr>\n",
       "<tr>\n",
       "  <th>Tags_switched off</th>                                    <td>   -1.5424</td> <td>    1.022</td> <td>   -1.509</td> <td> 0.131</td> <td>   -3.546</td> <td>    0.461</td>\n",
       "</tr>\n",
       "</table>"
      ],
      "text/plain": [
       "<class 'statsmodels.iolib.summary.Summary'>\n",
       "\"\"\"\n",
       "                 Generalized Linear Model Regression Results                  \n",
       "==============================================================================\n",
       "Dep. Variable:              Converted   No. Observations:                 6351\n",
       "Model:                            GLM   Df Residuals:                     6336\n",
       "Model Family:                Binomial   Df Model:                           14\n",
       "Link Function:                  logit   Scale:                          1.0000\n",
       "Method:                          IRLS   Log-Likelihood:                -2296.9\n",
       "Date:                Tue, 13 Sep 2022   Deviance:                       4593.8\n",
       "Time:                        11:21:46   Pearson chi2:                 9.05e+03\n",
       "No. Iterations:                     8                                         \n",
       "Covariance Type:            nonrobust                                         \n",
       "========================================================================================================================\n",
       "                                                           coef    std err          z      P>|z|      [0.025      0.975]\n",
       "------------------------------------------------------------------------------------------------------------------------\n",
       "const                                                   -2.8756      0.349     -8.234      0.000      -3.560      -2.191\n",
       "Lead Origin_Landing Page Submission                     -1.0102      0.131     -7.701      0.000      -1.267      -0.753\n",
       "Lead Origin_Lead Add Form                                2.5219      0.275      9.177      0.000       1.983       3.060\n",
       "Last Activity_Email Opened                               1.1297      0.103     10.922      0.000       0.927       1.332\n",
       "Last Activity_Other Activity                             1.3255      0.215      6.157      0.000       0.904       1.748\n",
       "Last Activity_SMS Sent                                   2.5339      0.110     23.074      0.000       2.319       2.749\n",
       "Specialization_Other_Specialization                     -1.4998      0.135    -11.135      0.000      -1.764      -1.236\n",
       "What is your current occupation_Unemployed              -1.4688      0.291     -5.052      0.000      -2.039      -0.899\n",
       "What is your current occupation_Working Professional     1.1446      0.370      3.094      0.002       0.420       1.870\n",
       "Do Not Email_Yes                                        -1.2617      0.180     -7.006      0.000      -1.615      -0.909\n",
       "Tags_Busy                                                3.8550      0.271     14.214      0.000       3.323       4.387\n",
       "Tags_Closed by Horizzon                                  8.5257      0.744     11.454      0.000       7.067       9.985\n",
       "Tags_Other_Tags                                          2.8256      0.215     13.163      0.000       2.405       3.246\n",
       "Tags_Will revert after reading the email                 4.0296      0.185     21.805      0.000       3.667       4.392\n",
       "Tags_switched off                                       -1.5424      1.022     -1.509      0.131      -3.546       0.461\n",
       "========================================================================================================================\n",
       "\"\"\""
      ]
     },
     "execution_count": 85,
     "metadata": {},
     "output_type": "execute_result"
    }
   ],
   "source": [
    "# Let's re-run the model using the selected variables\n",
    "x_train_sm = sm.add_constant(x_train[col])\n",
    "logm = sm.GLM(y_train,x_train_sm, family = sm.families.Binomial())\n",
    "res = logm.fit()\n",
    "res.summary()"
   ]
  },
  {
   "cell_type": "code",
   "execution_count": 86,
   "id": "5d26103a",
   "metadata": {},
   "outputs": [
    {
     "data": {
      "text/plain": [
       "Index(['Lead Origin_Landing Page Submission', 'Lead Origin_Lead Add Form',\n",
       "       'Last Activity_Email Opened', 'Last Activity_Other Activity',\n",
       "       'Last Activity_SMS Sent', 'Specialization_Other_Specialization',\n",
       "       'What is your current occupation_Unemployed',\n",
       "       'What is your current occupation_Working Professional',\n",
       "       'Do Not Email_Yes', 'Tags_Busy', 'Tags_Closed by Horizzon',\n",
       "       'Tags_Other_Tags', 'Tags_Will revert after reading the email'],\n",
       "      dtype='object')"
      ]
     },
     "execution_count": 86,
     "metadata": {},
     "output_type": "execute_result"
    }
   ],
   "source": [
    "col=col.drop(\"Tags_switched off\")\n",
    "col"
   ]
  },
  {
   "cell_type": "markdown",
   "id": "1c702174",
   "metadata": {},
   "source": [
    "### Model 3"
   ]
  },
  {
   "cell_type": "code",
   "execution_count": 87,
   "id": "edc393dd",
   "metadata": {},
   "outputs": [
    {
     "data": {
      "text/html": [
       "<table class=\"simpletable\">\n",
       "<caption>Generalized Linear Model Regression Results</caption>\n",
       "<tr>\n",
       "  <th>Dep. Variable:</th>       <td>Converted</td>    <th>  No. Observations:  </th>  <td>  6351</td> \n",
       "</tr>\n",
       "<tr>\n",
       "  <th>Model:</th>                  <td>GLM</td>       <th>  Df Residuals:      </th>  <td>  6337</td> \n",
       "</tr>\n",
       "<tr>\n",
       "  <th>Model Family:</th>        <td>Binomial</td>     <th>  Df Model:          </th>  <td>    13</td> \n",
       "</tr>\n",
       "<tr>\n",
       "  <th>Link Function:</th>         <td>logit</td>      <th>  Scale:             </th> <td>  1.0000</td>\n",
       "</tr>\n",
       "<tr>\n",
       "  <th>Method:</th>                <td>IRLS</td>       <th>  Log-Likelihood:    </th> <td> -2298.8</td>\n",
       "</tr>\n",
       "<tr>\n",
       "  <th>Date:</th>            <td>Tue, 13 Sep 2022</td> <th>  Deviance:          </th> <td>  4597.5</td>\n",
       "</tr>\n",
       "<tr>\n",
       "  <th>Time:</th>                <td>11:21:46</td>     <th>  Pearson chi2:      </th> <td>9.29e+03</td>\n",
       "</tr>\n",
       "<tr>\n",
       "  <th>No. Iterations:</th>          <td>8</td>        <th>                     </th>     <td> </td>   \n",
       "</tr>\n",
       "<tr>\n",
       "  <th>Covariance Type:</th>     <td>nonrobust</td>    <th>                     </th>     <td> </td>   \n",
       "</tr>\n",
       "</table>\n",
       "<table class=\"simpletable\">\n",
       "<tr>\n",
       "                            <td></td>                              <th>coef</th>     <th>std err</th>      <th>z</th>      <th>P>|z|</th>  <th>[0.025</th>    <th>0.975]</th>  \n",
       "</tr>\n",
       "<tr>\n",
       "  <th>const</th>                                                <td>   -2.9579</td> <td>    0.351</td> <td>   -8.428</td> <td> 0.000</td> <td>   -3.646</td> <td>   -2.270</td>\n",
       "</tr>\n",
       "<tr>\n",
       "  <th>Lead Origin_Landing Page Submission</th>                  <td>   -1.0123</td> <td>    0.131</td> <td>   -7.713</td> <td> 0.000</td> <td>   -1.270</td> <td>   -0.755</td>\n",
       "</tr>\n",
       "<tr>\n",
       "  <th>Lead Origin_Lead Add Form</th>                            <td>    2.5417</td> <td>    0.277</td> <td>    9.174</td> <td> 0.000</td> <td>    1.999</td> <td>    3.085</td>\n",
       "</tr>\n",
       "<tr>\n",
       "  <th>Last Activity_Email Opened</th>                           <td>    1.1304</td> <td>    0.103</td> <td>   10.922</td> <td> 0.000</td> <td>    0.928</td> <td>    1.333</td>\n",
       "</tr>\n",
       "<tr>\n",
       "  <th>Last Activity_Other Activity</th>                         <td>    1.3245</td> <td>    0.215</td> <td>    6.153</td> <td> 0.000</td> <td>    0.903</td> <td>    1.746</td>\n",
       "</tr>\n",
       "<tr>\n",
       "  <th>Last Activity_SMS Sent</th>                               <td>    2.5307</td> <td>    0.110</td> <td>   23.041</td> <td> 0.000</td> <td>    2.315</td> <td>    2.746</td>\n",
       "</tr>\n",
       "<tr>\n",
       "  <th>Specialization_Other_Specialization</th>                  <td>   -1.5004</td> <td>    0.135</td> <td>  -11.134</td> <td> 0.000</td> <td>   -1.764</td> <td>   -1.236</td>\n",
       "</tr>\n",
       "<tr>\n",
       "  <th>What is your current occupation_Unemployed</th>           <td>   -1.4864</td> <td>    0.293</td> <td>   -5.075</td> <td> 0.000</td> <td>   -2.060</td> <td>   -0.912</td>\n",
       "</tr>\n",
       "<tr>\n",
       "  <th>What is your current occupation_Working Professional</th> <td>    1.1333</td> <td>    0.372</td> <td>    3.047</td> <td> 0.002</td> <td>    0.404</td> <td>    1.862</td>\n",
       "</tr>\n",
       "<tr>\n",
       "  <th>Do Not Email_Yes</th>                                     <td>   -1.2648</td> <td>    0.180</td> <td>   -7.030</td> <td> 0.000</td> <td>   -1.617</td> <td>   -0.912</td>\n",
       "</tr>\n",
       "<tr>\n",
       "  <th>Tags_Busy</th>                                            <td>    3.9585</td> <td>    0.269</td> <td>   14.734</td> <td> 0.000</td> <td>    3.432</td> <td>    4.485</td>\n",
       "</tr>\n",
       "<tr>\n",
       "  <th>Tags_Closed by Horizzon</th>                              <td>    8.6261</td> <td>    0.744</td> <td>   11.600</td> <td> 0.000</td> <td>    7.169</td> <td>   10.084</td>\n",
       "</tr>\n",
       "<tr>\n",
       "  <th>Tags_Other_Tags</th>                                      <td>    2.9267</td> <td>    0.212</td> <td>   13.814</td> <td> 0.000</td> <td>    2.511</td> <td>    3.342</td>\n",
       "</tr>\n",
       "<tr>\n",
       "  <th>Tags_Will revert after reading the email</th>             <td>    4.1309</td> <td>    0.181</td> <td>   22.763</td> <td> 0.000</td> <td>    3.775</td> <td>    4.487</td>\n",
       "</tr>\n",
       "</table>"
      ],
      "text/plain": [
       "<class 'statsmodels.iolib.summary.Summary'>\n",
       "\"\"\"\n",
       "                 Generalized Linear Model Regression Results                  \n",
       "==============================================================================\n",
       "Dep. Variable:              Converted   No. Observations:                 6351\n",
       "Model:                            GLM   Df Residuals:                     6337\n",
       "Model Family:                Binomial   Df Model:                           13\n",
       "Link Function:                  logit   Scale:                          1.0000\n",
       "Method:                          IRLS   Log-Likelihood:                -2298.8\n",
       "Date:                Tue, 13 Sep 2022   Deviance:                       4597.5\n",
       "Time:                        11:21:46   Pearson chi2:                 9.29e+03\n",
       "No. Iterations:                     8                                         \n",
       "Covariance Type:            nonrobust                                         \n",
       "========================================================================================================================\n",
       "                                                           coef    std err          z      P>|z|      [0.025      0.975]\n",
       "------------------------------------------------------------------------------------------------------------------------\n",
       "const                                                   -2.9579      0.351     -8.428      0.000      -3.646      -2.270\n",
       "Lead Origin_Landing Page Submission                     -1.0123      0.131     -7.713      0.000      -1.270      -0.755\n",
       "Lead Origin_Lead Add Form                                2.5417      0.277      9.174      0.000       1.999       3.085\n",
       "Last Activity_Email Opened                               1.1304      0.103     10.922      0.000       0.928       1.333\n",
       "Last Activity_Other Activity                             1.3245      0.215      6.153      0.000       0.903       1.746\n",
       "Last Activity_SMS Sent                                   2.5307      0.110     23.041      0.000       2.315       2.746\n",
       "Specialization_Other_Specialization                     -1.5004      0.135    -11.134      0.000      -1.764      -1.236\n",
       "What is your current occupation_Unemployed              -1.4864      0.293     -5.075      0.000      -2.060      -0.912\n",
       "What is your current occupation_Working Professional     1.1333      0.372      3.047      0.002       0.404       1.862\n",
       "Do Not Email_Yes                                        -1.2648      0.180     -7.030      0.000      -1.617      -0.912\n",
       "Tags_Busy                                                3.9585      0.269     14.734      0.000       3.432       4.485\n",
       "Tags_Closed by Horizzon                                  8.6261      0.744     11.600      0.000       7.169      10.084\n",
       "Tags_Other_Tags                                          2.9267      0.212     13.814      0.000       2.511       3.342\n",
       "Tags_Will revert after reading the email                 4.1309      0.181     22.763      0.000       3.775       4.487\n",
       "========================================================================================================================\n",
       "\"\"\""
      ]
     },
     "execution_count": 87,
     "metadata": {},
     "output_type": "execute_result"
    }
   ],
   "source": [
    "# Let's re-run the model using the selected variables\n",
    "x_train_sm = sm.add_constant(x_train[col])\n",
    "logm = sm.GLM(y_train,x_train_sm, family = sm.families.Binomial())\n",
    "res = logm.fit()\n",
    "res.summary()"
   ]
  },
  {
   "cell_type": "code",
   "execution_count": 88,
   "id": "74d28540",
   "metadata": {},
   "outputs": [
    {
     "data": {
      "text/html": [
       "<div>\n",
       "<style scoped>\n",
       "    .dataframe tbody tr th:only-of-type {\n",
       "        vertical-align: middle;\n",
       "    }\n",
       "\n",
       "    .dataframe tbody tr th {\n",
       "        vertical-align: top;\n",
       "    }\n",
       "\n",
       "    .dataframe thead th {\n",
       "        text-align: right;\n",
       "    }\n",
       "</style>\n",
       "<table border=\"1\" class=\"dataframe\">\n",
       "  <thead>\n",
       "    <tr style=\"text-align: right;\">\n",
       "      <th></th>\n",
       "      <th>Convert</th>\n",
       "      <th>Convert_Prob</th>\n",
       "      <th>Pros_ID</th>\n",
       "      <th>predicted</th>\n",
       "    </tr>\n",
       "  </thead>\n",
       "  <tbody>\n",
       "    <tr>\n",
       "      <th>5191</th>\n",
       "      <td>0</td>\n",
       "      <td>0.140190</td>\n",
       "      <td>5191</td>\n",
       "      <td>0</td>\n",
       "    </tr>\n",
       "    <tr>\n",
       "      <th>6400</th>\n",
       "      <td>0</td>\n",
       "      <td>0.140190</td>\n",
       "      <td>6400</td>\n",
       "      <td>0</td>\n",
       "    </tr>\n",
       "    <tr>\n",
       "      <th>6058</th>\n",
       "      <td>0</td>\n",
       "      <td>0.050888</td>\n",
       "      <td>6058</td>\n",
       "      <td>0</td>\n",
       "    </tr>\n",
       "    <tr>\n",
       "      <th>2988</th>\n",
       "      <td>1</td>\n",
       "      <td>0.671939</td>\n",
       "      <td>2988</td>\n",
       "      <td>1</td>\n",
       "    </tr>\n",
       "    <tr>\n",
       "      <th>6352</th>\n",
       "      <td>0</td>\n",
       "      <td>0.001203</td>\n",
       "      <td>6352</td>\n",
       "      <td>0</td>\n",
       "    </tr>\n",
       "  </tbody>\n",
       "</table>\n",
       "</div>"
      ],
      "text/plain": [
       "      Convert  Convert_Prob  Pros_ID  predicted\n",
       "5191        0      0.140190     5191          0\n",
       "6400        0      0.140190     6400          0\n",
       "6058        0      0.050888     6058          0\n",
       "2988        1      0.671939     2988          1\n",
       "6352        0      0.001203     6352          0"
      ]
     },
     "execution_count": 88,
     "metadata": {},
     "output_type": "execute_result"
    }
   ],
   "source": [
    "y_train_pred = res.predict(x_train_sm).values.reshape(-1)\n",
    "y_train_pred_final['Convert_Prob'] = y_train_pred\n",
    "\n",
    "# Creating new column 'predicted' with 1 if Convert_Prob > 0.5 else 0\n",
    "y_train_pred_final['predicted'] = y_train_pred_final.Convert_Prob.map(lambda x: 1 if x > 0.5 else 0)\n",
    "y_train_pred_final.head()"
   ]
  },
  {
   "cell_type": "code",
   "execution_count": 89,
   "id": "9c6fd6e8",
   "metadata": {},
   "outputs": [
    {
     "name": "stdout",
     "output_type": "stream",
     "text": [
      "Accuracy score 0.8378208156195874\n"
     ]
    }
   ],
   "source": [
    "print(\"Accuracy score\", metrics.accuracy_score(y_train_pred_final.Convert, y_train_pred_final.predicted))"
   ]
  },
  {
   "cell_type": "code",
   "execution_count": 90,
   "id": "f809172d",
   "metadata": {},
   "outputs": [
    {
     "name": "stdout",
     "output_type": "stream",
     "text": [
      "                                             Features  \\\n",
      "10                            Tags_Closed by Horizzon   \n",
      "3                        Last Activity_Other Activity   \n",
      "9                                           Tags_Busy   \n",
      "7   What is your current occupation_Working Profes...   \n",
      "8                                    Do Not Email_Yes   \n",
      "1                           Lead Origin_Lead Add Form   \n",
      "6          What is your current occupation_Unemployed   \n",
      "12           Tags_Will revert after reading the email   \n",
      "11                                    Tags_Other_Tags   \n",
      "2                          Last Activity_Email Opened   \n",
      "4                              Last Activity_SMS Sent   \n",
      "0                 Lead Origin_Landing Page Submission   \n",
      "5                 Specialization_Other_Specialization   \n",
      "\n",
      "    Variance Inflation Factor  \n",
      "10                       1.26  \n",
      "3                        1.14  \n",
      "9                        1.09  \n",
      "7                        0.86  \n",
      "8                        0.58  \n",
      "1                        0.52  \n",
      "6                        0.16  \n",
      "12                       0.16  \n",
      "11                       0.15  \n",
      "2                        0.14  \n",
      "4                        0.12  \n",
      "0                        0.11  \n",
      "5                        0.04  \n"
     ]
    }
   ],
   "source": [
    "calculate_vif(x_train[col])"
   ]
  },
  {
   "cell_type": "markdown",
   "id": "f43b6e77",
   "metadata": {},
   "source": [
    "###### Comment: All variables have a good value of VIF and p-values. So we need not drop any more variables and we can proceed with making predictions using this model only"
   ]
  },
  {
   "cell_type": "markdown",
   "id": "c9e78bbf",
   "metadata": {},
   "source": [
    "### Confision matrix evaluation"
   ]
  },
  {
   "cell_type": "code",
   "execution_count": 91,
   "id": "51579426",
   "metadata": {},
   "outputs": [],
   "source": [
    "def evaluate_model(y_true, y_predicted, print_score=False):\n",
    "    confusion = metrics.confusion_matrix(y_true, y_predicted)\n",
    "    \n",
    "    TP = confusion[1,1] # true positive \n",
    "    TN = confusion[0,0] # true negatives\n",
    "    FP = confusion[0,1] # false positives\n",
    "    FN = confusion[1,0] # false negatives\n",
    "    \n",
    "    accuracy_sc = metrics.accuracy_score(y_true, y_predicted)\n",
    "    sensitivity_score = TP / float(TP+FN)\n",
    "    specificity_score = TN / float(TN+FP)\n",
    "    precision_sc = precision_score(y_true, y_predicted)\n",
    "    \n",
    "    if print_score:\n",
    "        print(\"Confusion Matrix :\\n\", confusion)\n",
    "        print(\"Accuracy :\", accuracy_sc)\n",
    "        print(\"Sensitivity :\", sensitivity_score)\n",
    "        print(\"Specificity :\", specificity_score)\n",
    "        print(\"Precision :\", precision_sc)\n",
    "        \n",
    "    return accuracy_sc, sensitivity_score, specificity_score, precision_sc"
   ]
  },
  {
   "cell_type": "code",
   "execution_count": 92,
   "id": "5439c6af",
   "metadata": {},
   "outputs": [
    {
     "name": "stdout",
     "output_type": "stream",
     "text": [
      "Confusion Matrix :\n",
      " [[3625  322]\n",
      " [ 708 1696]]\n",
      "Accuracy : 0.8378208156195874\n",
      "Sensitivity : 0.7054908485856906\n",
      "Specificity : 0.9184190524448949\n",
      "Precision : 0.8404360753221011\n"
     ]
    },
    {
     "data": {
      "text/plain": [
       "(0.8378208156195874,\n",
       " 0.7054908485856906,\n",
       " 0.9184190524448949,\n",
       " 0.8404360753221011)"
      ]
     },
     "execution_count": 92,
     "metadata": {},
     "output_type": "execute_result"
    }
   ],
   "source": [
    "evaluate_model(y_train_pred_final.Convert, y_train_pred_final.predicted, print_score=True)"
   ]
  },
  {
   "cell_type": "markdown",
   "id": "ed877a27",
   "metadata": {},
   "source": [
    "## Plotting the ROC Curve"
   ]
  },
  {
   "cell_type": "code",
   "execution_count": 93,
   "id": "f6a78648",
   "metadata": {},
   "outputs": [],
   "source": [
    "def draw_roc( actual, probs ):\n",
    "    fpr, tpr, thresholds = metrics.roc_curve( actual, probs,\n",
    "                                              drop_intermediate = False )\n",
    "    auc_score = metrics.roc_auc_score( actual, probs )\n",
    "    plt.figure(figsize=(5, 5))\n",
    "    plt.plot( fpr, tpr, label='ROC curve (area = %0.2f)' % auc_score )\n",
    "    plt.plot([0, 1], [0, 1], 'k--')\n",
    "    plt.xlim([0.0, 1.0])\n",
    "    plt.ylim([0.0, 1.05])\n",
    "    plt.xlabel('False Positive Rate')\n",
    "    plt.ylabel('True Positive Rate')\n",
    "    plt.title('Receiver Operating Characteristic')\n",
    "    plt.legend(loc=\"lower right\")\n",
    "    plt.show()\n",
    "\n",
    "    return None"
   ]
  },
  {
   "cell_type": "code",
   "execution_count": 94,
   "id": "fda27659",
   "metadata": {},
   "outputs": [],
   "source": [
    "fpr, tpr, thresholds = metrics.roc_curve( y_train_pred_final.Convert, y_train_pred_final.Convert_Prob, drop_intermediate = False )"
   ]
  },
  {
   "cell_type": "code",
   "execution_count": 95,
   "id": "14d6aff6",
   "metadata": {},
   "outputs": [
    {
     "data": {
      "image/png": "[encoded data removed]",
      "text/plain": [
       "<Figure size 360x360 with 1 Axes>"
      ]
     },
     "metadata": {
      "needs_background": "light"
     },
     "output_type": "display_data"
    }
   ],
   "source": [
    "draw_roc(y_train_pred_final.Convert, y_train_pred_final.Convert_Prob)"
   ]
  },
  {
   "cell_type": "markdown",
   "id": "872d47cf",
   "metadata": {},
   "source": [
    "### Finding optimal value of the cut off"
   ]
  },
  {
   "cell_type": "code",
   "execution_count": 96,
   "id": "f568b38a",
   "metadata": {},
   "outputs": [
    {
     "data": {
      "text/html": [
       "<div>\n",
       "<style scoped>\n",
       "    .dataframe tbody tr th:only-of-type {\n",
       "        vertical-align: middle;\n",
       "    }\n",
       "\n",
       "    .dataframe tbody tr th {\n",
       "        vertical-align: top;\n",
       "    }\n",
       "\n",
       "    .dataframe thead th {\n",
       "        text-align: right;\n",
       "    }\n",
       "</style>\n",
       "<table border=\"1\" class=\"dataframe\">\n",
       "  <thead>\n",
       "    <tr style=\"text-align: right;\">\n",
       "      <th></th>\n",
       "      <th>Convert</th>\n",
       "      <th>Convert_Prob</th>\n",
       "      <th>Pros_ID</th>\n",
       "      <th>predicted</th>\n",
       "      <th>0.0</th>\n",
       "      <th>0.1</th>\n",
       "      <th>0.2</th>\n",
       "      <th>0.3</th>\n",
       "      <th>0.4</th>\n",
       "      <th>0.5</th>\n",
       "      <th>0.6</th>\n",
       "      <th>0.7</th>\n",
       "      <th>0.8</th>\n",
       "      <th>0.9</th>\n",
       "    </tr>\n",
       "  </thead>\n",
       "  <tbody>\n",
       "    <tr>\n",
       "      <th>5191</th>\n",
       "      <td>0</td>\n",
       "      <td>0.140190</td>\n",
       "      <td>5191</td>\n",
       "      <td>0</td>\n",
       "      <td>1</td>\n",
       "      <td>1</td>\n",
       "      <td>0</td>\n",
       "      <td>0</td>\n",
       "      <td>0</td>\n",
       "      <td>0</td>\n",
       "      <td>0</td>\n",
       "      <td>0</td>\n",
       "      <td>0</td>\n",
       "      <td>0</td>\n",
       "    </tr>\n",
       "    <tr>\n",
       "      <th>6400</th>\n",
       "      <td>0</td>\n",
       "      <td>0.140190</td>\n",
       "      <td>6400</td>\n",
       "      <td>0</td>\n",
       "      <td>1</td>\n",
       "      <td>1</td>\n",
       "      <td>0</td>\n",
       "      <td>0</td>\n",
       "      <td>0</td>\n",
       "      <td>0</td>\n",
       "      <td>0</td>\n",
       "      <td>0</td>\n",
       "      <td>0</td>\n",
       "      <td>0</td>\n",
       "    </tr>\n",
       "    <tr>\n",
       "      <th>6058</th>\n",
       "      <td>0</td>\n",
       "      <td>0.050888</td>\n",
       "      <td>6058</td>\n",
       "      <td>0</td>\n",
       "      <td>1</td>\n",
       "      <td>0</td>\n",
       "      <td>0</td>\n",
       "      <td>0</td>\n",
       "      <td>0</td>\n",
       "      <td>0</td>\n",
       "      <td>0</td>\n",
       "      <td>0</td>\n",
       "      <td>0</td>\n",
       "      <td>0</td>\n",
       "    </tr>\n",
       "    <tr>\n",
       "      <th>2988</th>\n",
       "      <td>1</td>\n",
       "      <td>0.671939</td>\n",
       "      <td>2988</td>\n",
       "      <td>1</td>\n",
       "      <td>1</td>\n",
       "      <td>1</td>\n",
       "      <td>1</td>\n",
       "      <td>1</td>\n",
       "      <td>1</td>\n",
       "      <td>1</td>\n",
       "      <td>1</td>\n",
       "      <td>0</td>\n",
       "      <td>0</td>\n",
       "      <td>0</td>\n",
       "    </tr>\n",
       "    <tr>\n",
       "      <th>6352</th>\n",
       "      <td>0</td>\n",
       "      <td>0.001203</td>\n",
       "      <td>6352</td>\n",
       "      <td>0</td>\n",
       "      <td>1</td>\n",
       "      <td>0</td>\n",
       "      <td>0</td>\n",
       "      <td>0</td>\n",
       "      <td>0</td>\n",
       "      <td>0</td>\n",
       "      <td>0</td>\n",
       "      <td>0</td>\n",
       "      <td>0</td>\n",
       "      <td>0</td>\n",
       "    </tr>\n",
       "  </tbody>\n",
       "</table>\n",
       "</div>"
      ],
      "text/plain": [
       "      Convert  Convert_Prob  Pros_ID  predicted  0.0  0.1  0.2  0.3  0.4  0.5  \\\n",
       "5191        0      0.140190     5191          0    1    1    0    0    0    0   \n",
       "6400        0      0.140190     6400          0    1    1    0    0    0    0   \n",
       "6058        0      0.050888     6058          0    1    0    0    0    0    0   \n",
       "2988        1      0.671939     2988          1    1    1    1    1    1    1   \n",
       "6352        0      0.001203     6352          0    1    0    0    0    0    0   \n",
       "\n",
       "      0.6  0.7  0.8  0.9  \n",
       "5191    0    0    0    0  \n",
       "6400    0    0    0    0  \n",
       "6058    0    0    0    0  \n",
       "2988    1    0    0    0  \n",
       "6352    0    0    0    0  "
      ]
     },
     "execution_count": 96,
     "metadata": {},
     "output_type": "execute_result"
    }
   ],
   "source": [
    "for i in [float(x)/10 for x in range(10)]:\n",
    "    y_train_pred_final[i]= y_train_pred_final.Convert_Prob.map(lambda x: 1 if x > i else 0)\n",
    "y_train_pred_final.head()"
   ]
  },
  {
   "cell_type": "code",
   "execution_count": 97,
   "id": "11a1b9a5",
   "metadata": {},
   "outputs": [
    {
     "data": {
      "text/html": [
       "<div>\n",
       "<style scoped>\n",
       "    .dataframe tbody tr th:only-of-type {\n",
       "        vertical-align: middle;\n",
       "    }\n",
       "\n",
       "    .dataframe tbody tr th {\n",
       "        vertical-align: top;\n",
       "    }\n",
       "\n",
       "    .dataframe thead th {\n",
       "        text-align: right;\n",
       "    }\n",
       "</style>\n",
       "<table border=\"1\" class=\"dataframe\">\n",
       "  <thead>\n",
       "    <tr style=\"text-align: right;\">\n",
       "      <th></th>\n",
       "      <th>probability_score</th>\n",
       "      <th>accuracy_score</th>\n",
       "      <th>sensitivity_score</th>\n",
       "      <th>specificity_score</th>\n",
       "      <th>precision_score</th>\n",
       "    </tr>\n",
       "  </thead>\n",
       "  <tbody>\n",
       "    <tr>\n",
       "      <th>0.0</th>\n",
       "      <td>0.0</td>\n",
       "      <td>0.378523</td>\n",
       "      <td>1.000000</td>\n",
       "      <td>0.000000</td>\n",
       "      <td>0.378523</td>\n",
       "    </tr>\n",
       "    <tr>\n",
       "      <th>0.1</th>\n",
       "      <td>0.1</td>\n",
       "      <td>0.677216</td>\n",
       "      <td>0.970882</td>\n",
       "      <td>0.498353</td>\n",
       "      <td>0.541029</td>\n",
       "    </tr>\n",
       "    <tr>\n",
       "      <th>0.2</th>\n",
       "      <td>0.2</td>\n",
       "      <td>0.770430</td>\n",
       "      <td>0.927621</td>\n",
       "      <td>0.674690</td>\n",
       "      <td>0.634604</td>\n",
       "    </tr>\n",
       "    <tr>\n",
       "      <th>0.3</th>\n",
       "      <td>0.3</td>\n",
       "      <td>0.789482</td>\n",
       "      <td>0.902662</td>\n",
       "      <td>0.720547</td>\n",
       "      <td>0.663000</td>\n",
       "    </tr>\n",
       "    <tr>\n",
       "      <th>0.4</th>\n",
       "      <td>0.4</td>\n",
       "      <td>0.819084</td>\n",
       "      <td>0.837354</td>\n",
       "      <td>0.807955</td>\n",
       "      <td>0.726453</td>\n",
       "    </tr>\n",
       "    <tr>\n",
       "      <th>0.5</th>\n",
       "      <td>0.5</td>\n",
       "      <td>0.837821</td>\n",
       "      <td>0.705491</td>\n",
       "      <td>0.918419</td>\n",
       "      <td>0.840436</td>\n",
       "    </tr>\n",
       "    <tr>\n",
       "      <th>0.6</th>\n",
       "      <td>0.6</td>\n",
       "      <td>0.842544</td>\n",
       "      <td>0.700499</td>\n",
       "      <td>0.929060</td>\n",
       "      <td>0.857434</td>\n",
       "    </tr>\n",
       "    <tr>\n",
       "      <th>0.7</th>\n",
       "      <td>0.7</td>\n",
       "      <td>0.805070</td>\n",
       "      <td>0.564892</td>\n",
       "      <td>0.951355</td>\n",
       "      <td>0.876129</td>\n",
       "    </tr>\n",
       "    <tr>\n",
       "      <th>0.8</th>\n",
       "      <td>0.8</td>\n",
       "      <td>0.755786</td>\n",
       "      <td>0.364393</td>\n",
       "      <td>0.994173</td>\n",
       "      <td>0.974416</td>\n",
       "    </tr>\n",
       "    <tr>\n",
       "      <th>0.9</th>\n",
       "      <td>0.9</td>\n",
       "      <td>0.748386</td>\n",
       "      <td>0.343594</td>\n",
       "      <td>0.994933</td>\n",
       "      <td>0.976359</td>\n",
       "    </tr>\n",
       "  </tbody>\n",
       "</table>\n",
       "</div>"
      ],
      "text/plain": [
       "     probability_score  accuracy_score  sensitivity_score  specificity_score  \\\n",
       "0.0                0.0        0.378523           1.000000           0.000000   \n",
       "0.1                0.1        0.677216           0.970882           0.498353   \n",
       "0.2                0.2        0.770430           0.927621           0.674690   \n",
       "0.3                0.3        0.789482           0.902662           0.720547   \n",
       "0.4                0.4        0.819084           0.837354           0.807955   \n",
       "0.5                0.5        0.837821           0.705491           0.918419   \n",
       "0.6                0.6        0.842544           0.700499           0.929060   \n",
       "0.7                0.7        0.805070           0.564892           0.951355   \n",
       "0.8                0.8        0.755786           0.364393           0.994173   \n",
       "0.9                0.9        0.748386           0.343594           0.994933   \n",
       "\n",
       "     precision_score  \n",
       "0.0         0.378523  \n",
       "0.1         0.541029  \n",
       "0.2         0.634604  \n",
       "0.3         0.663000  \n",
       "0.4         0.726453  \n",
       "0.5         0.840436  \n",
       "0.6         0.857434  \n",
       "0.7         0.876129  \n",
       "0.8         0.974416  \n",
       "0.9         0.976359  "
      ]
     },
     "execution_count": 97,
     "metadata": {},
     "output_type": "execute_result"
    }
   ],
   "source": [
    "df = pd.DataFrame(columns = ['probability_score','accuracy_score','sensitivity_score','specificity_score','precision_score'])\n",
    "\n",
    "for i in [float(x)/10 for x in range(10)]:\n",
    "    (accuracy_score,sensitivity_score,specificity_score,precision_sc) = evaluate_model(y_train_pred_final.Convert, y_train_pred_final[i])\n",
    "    df.loc[i] =[i,accuracy_score,sensitivity_score,specificity_score,precision_sc]\n",
    "\n",
    "df"
   ]
  },
  {
   "cell_type": "code",
   "execution_count": 98,
   "id": "b57b62f8",
   "metadata": {},
   "outputs": [
    {
     "data": {
      "image/png": "[encoded data removed]",
      "text/plain": [
       "<Figure size 432x288 with 1 Axes>"
      ]
     },
     "metadata": {
      "needs_background": "light"
     },
     "output_type": "display_data"
    }
   ],
   "source": [
    "df.plot.line(x='probability_score', y=['accuracy_score','sensitivity_score','specificity_score'])\n",
    "plt.show()"
   ]
  },
  {
   "cell_type": "markdown",
   "id": "d6b4e130",
   "metadata": {},
   "source": [
    "### Precision -Recall Trade off"
   ]
  },
  {
   "cell_type": "code",
   "execution_count": 99,
   "id": "051b87a8",
   "metadata": {},
   "outputs": [
    {
     "data": {
      "image/png": "[encoded data removed]",
      "text/plain": [
       "<Figure size 432x288 with 1 Axes>"
      ]
     },
     "metadata": {
      "needs_background": "light"
     },
     "output_type": "display_data"
    }
   ],
   "source": [
    "p, r, thresholds = precision_recall_curve(y_train_pred_final.Convert, y_train_pred_final.Convert_Prob)\n",
    "\n",
    "plt.plot(thresholds, p[:-1], \"g-\")\n",
    "plt.plot(thresholds, r[:-1], \"r-\")\n",
    "plt.xlabel(\"Probability\")\n",
    "plt.title(\"Precision-Recall Trade off\")\n",
    "plt.show()"
   ]
  },
  {
   "cell_type": "markdown",
   "id": "b186f5cf",
   "metadata": {},
   "source": [
    "#### In Sensitivity-Specificity-Accuracy plot 0.4 probability looks optimal. In Precision-Recall Curve 0.4 looks optimal."
   ]
  },
  {
   "cell_type": "code",
   "execution_count": 100,
   "id": "d5bb69f8",
   "metadata": {},
   "outputs": [
    {
     "data": {
      "text/html": [
       "<div>\n",
       "<style scoped>\n",
       "    .dataframe tbody tr th:only-of-type {\n",
       "        vertical-align: middle;\n",
       "    }\n",
       "\n",
       "    .dataframe tbody tr th {\n",
       "        vertical-align: top;\n",
       "    }\n",
       "\n",
       "    .dataframe thead th {\n",
       "        text-align: right;\n",
       "    }\n",
       "</style>\n",
       "<table border=\"1\" class=\"dataframe\">\n",
       "  <thead>\n",
       "    <tr style=\"text-align: right;\">\n",
       "      <th></th>\n",
       "      <th>Convert</th>\n",
       "      <th>Convert_Prob</th>\n",
       "      <th>Pros_ID</th>\n",
       "      <th>Convert_predicted</th>\n",
       "      <th>Lead_Score</th>\n",
       "    </tr>\n",
       "  </thead>\n",
       "  <tbody>\n",
       "    <tr>\n",
       "      <th>5191</th>\n",
       "      <td>0</td>\n",
       "      <td>0.140190</td>\n",
       "      <td>5191</td>\n",
       "      <td>0</td>\n",
       "      <td>14</td>\n",
       "    </tr>\n",
       "    <tr>\n",
       "      <th>6400</th>\n",
       "      <td>0</td>\n",
       "      <td>0.140190</td>\n",
       "      <td>6400</td>\n",
       "      <td>0</td>\n",
       "      <td>14</td>\n",
       "    </tr>\n",
       "    <tr>\n",
       "      <th>6058</th>\n",
       "      <td>0</td>\n",
       "      <td>0.050888</td>\n",
       "      <td>6058</td>\n",
       "      <td>0</td>\n",
       "      <td>5</td>\n",
       "    </tr>\n",
       "    <tr>\n",
       "      <th>2988</th>\n",
       "      <td>1</td>\n",
       "      <td>0.671939</td>\n",
       "      <td>2988</td>\n",
       "      <td>1</td>\n",
       "      <td>67</td>\n",
       "    </tr>\n",
       "    <tr>\n",
       "      <th>6352</th>\n",
       "      <td>0</td>\n",
       "      <td>0.001203</td>\n",
       "      <td>6352</td>\n",
       "      <td>0</td>\n",
       "      <td>0</td>\n",
       "    </tr>\n",
       "  </tbody>\n",
       "</table>\n",
       "</div>"
      ],
      "text/plain": [
       "      Convert  Convert_Prob  Pros_ID  Convert_predicted  Lead_Score\n",
       "5191        0      0.140190     5191                  0          14\n",
       "6400        0      0.140190     6400                  0          14\n",
       "6058        0      0.050888     6058                  0           5\n",
       "2988        1      0.671939     2988                  1          67\n",
       "6352        0      0.001203     6352                  0           0"
      ]
     },
     "execution_count": 100,
     "metadata": {},
     "output_type": "execute_result"
    }
   ],
   "source": [
    "y_train_pred_final = y_train_pred_final.iloc[:, :3]\n",
    "y_train_pred_final['Convert_predicted'] = y_train_pred_final.Convert_Prob.map(lambda x: 1 if x > 0.4 else 0)\n",
    "\n",
    "y_train_pred_final['Lead_Score'] = y_train_pred_final.Convert_Prob.map(lambda x: round(x*100))\n",
    "y_train_pred_final.head()"
   ]
  },
  {
   "cell_type": "code",
   "execution_count": 101,
   "id": "fd339c68",
   "metadata": {},
   "outputs": [
    {
     "name": "stdout",
     "output_type": "stream",
     "text": [
      "Confusion Matrix :\n",
      " [[3189  758]\n",
      " [ 391 2013]]\n",
      "Accuracy : 0.8190836088804913\n",
      "Sensitivity : 0.8373544093178037\n",
      "Specificity : 0.8079554091715226\n",
      "Precision : 0.7264525442078672\n"
     ]
    },
    {
     "data": {
      "text/plain": [
       "(0.8190836088804913,\n",
       " 0.8373544093178037,\n",
       " 0.8079554091715226,\n",
       " 0.7264525442078672)"
      ]
     },
     "execution_count": 101,
     "metadata": {},
     "output_type": "execute_result"
    }
   ],
   "source": [
    "evaluate_model(y_train_pred_final.Convert, y_train_pred_final.Convert_predicted, print_score=True)"
   ]
  },
  {
   "cell_type": "code",
   "execution_count": 102,
   "id": "4b284676",
   "metadata": {},
   "outputs": [
    {
     "data": {
      "text/html": [
       "<div>\n",
       "<style scoped>\n",
       "    .dataframe tbody tr th:only-of-type {\n",
       "        vertical-align: middle;\n",
       "    }\n",
       "\n",
       "    .dataframe tbody tr th {\n",
       "        vertical-align: top;\n",
       "    }\n",
       "\n",
       "    .dataframe thead th {\n",
       "        text-align: right;\n",
       "    }\n",
       "</style>\n",
       "<table border=\"1\" class=\"dataframe\">\n",
       "  <thead>\n",
       "    <tr style=\"text-align: right;\">\n",
       "      <th></th>\n",
       "      <th>Converted</th>\n",
       "      <th>Prospect ID</th>\n",
       "      <th>Converting_Probability</th>\n",
       "      <th>final_predicted</th>\n",
       "      <th>Lead_Score</th>\n",
       "    </tr>\n",
       "  </thead>\n",
       "  <tbody>\n",
       "    <tr>\n",
       "      <th>0</th>\n",
       "      <td>1</td>\n",
       "      <td>9192</td>\n",
       "      <td>0.540092</td>\n",
       "      <td>1</td>\n",
       "      <td>54</td>\n",
       "    </tr>\n",
       "    <tr>\n",
       "      <th>1</th>\n",
       "      <td>1</td>\n",
       "      <td>901</td>\n",
       "      <td>0.769421</td>\n",
       "      <td>1</td>\n",
       "      <td>77</td>\n",
       "    </tr>\n",
       "    <tr>\n",
       "      <th>2</th>\n",
       "      <td>1</td>\n",
       "      <td>3710</td>\n",
       "      <td>0.909162</td>\n",
       "      <td>1</td>\n",
       "      <td>91</td>\n",
       "    </tr>\n",
       "    <tr>\n",
       "      <th>3</th>\n",
       "      <td>1</td>\n",
       "      <td>7452</td>\n",
       "      <td>0.451353</td>\n",
       "      <td>1</td>\n",
       "      <td>45</td>\n",
       "    </tr>\n",
       "    <tr>\n",
       "      <th>4</th>\n",
       "      <td>0</td>\n",
       "      <td>3418</td>\n",
       "      <td>0.004250</td>\n",
       "      <td>0</td>\n",
       "      <td>0</td>\n",
       "    </tr>\n",
       "  </tbody>\n",
       "</table>\n",
       "</div>"
      ],
      "text/plain": [
       "   Converted  Prospect ID  Converting_Probability  final_predicted  Lead_Score\n",
       "0          1         9192                0.540092                1          54\n",
       "1          1          901                0.769421                1          77\n",
       "2          1         3710                0.909162                1          91\n",
       "3          1         7452                0.451353                1          45\n",
       "4          0         3418                0.004250                0           0"
      ]
     },
     "execution_count": 102,
     "metadata": {},
     "output_type": "execute_result"
    }
   ],
   "source": [
    "# Getting the predicted values on the train set\n",
    "x_test_sm = sm.add_constant(x_test[col])\n",
    "y_test_pred = res.predict(x_test_sm)\n",
    "\n",
    "y_test_df = pd.DataFrame(y_test)\n",
    "y_test_pred_df = pd.DataFrame(y_test_pred, columns=[\"Converting_Probability\"])\n",
    "y_test_df['Prospect ID'] = y_test_df.index\n",
    "\n",
    "y_predicted_final = pd.concat([y_test_df.reset_index(drop=True), y_test_pred_df.reset_index(drop=True)],axis=1)\n",
    "y_predicted_final['final_predicted'] = y_predicted_final.Converting_Probability.map(lambda x: 1 if x > 0.4 else 0)\n",
    "y_predicted_final['Lead_Score'] = y_predicted_final.Converting_Probability.map(lambda x: round(x*100))\n",
    "\n",
    "y_predicted_final.head()"
   ]
  },
  {
   "cell_type": "code",
   "execution_count": 103,
   "id": "2ee7def7",
   "metadata": {},
   "outputs": [
    {
     "name": "stdout",
     "output_type": "stream",
     "text": [
      "Confusion Matrix :\n",
      " [[1366  326]\n",
      " [ 170  861]]\n",
      "Accuracy : 0.8178479618068307\n",
      "Sensitivity : 0.8351115421920465\n",
      "Specificity : 0.8073286052009456\n",
      "Precision : 0.7253580454928391\n"
     ]
    },
    {
     "data": {
      "text/plain": [
       "(0.8178479618068307,\n",
       " 0.8351115421920465,\n",
       " 0.8073286052009456,\n",
       " 0.7253580454928391)"
      ]
     },
     "execution_count": 103,
     "metadata": {},
     "output_type": "execute_result"
    }
   ],
   "source": [
    "evaluate_model(y_predicted_final.Converted, y_predicted_final.final_predicted, print_score=True)"
   ]
  },
  {
   "cell_type": "code",
   "execution_count": 104,
   "id": "ffee0326",
   "metadata": {},
   "outputs": [
    {
     "name": "stdout",
     "output_type": "stream",
     "text": [
      "Index(['Lead Origin_Landing Page Submission', 'Lead Origin_Lead Add Form',\n",
      "       'Last Activity_Email Opened', 'Last Activity_Other Activity',\n",
      "       'Last Activity_SMS Sent', 'Specialization_Other_Specialization',\n",
      "       'What is your current occupation_Unemployed',\n",
      "       'What is your current occupation_Working Professional',\n",
      "       'Do Not Email_Yes', 'Tags_Busy', 'Tags_Closed by Horizzon',\n",
      "       'Tags_Other_Tags', 'Tags_Will revert after reading the email'],\n",
      "      dtype='object')\n",
      "const                                                  -2.957924\n",
      "Lead Origin_Landing Page Submission                    -1.012302\n",
      "Lead Origin_Lead Add Form                               2.541726\n",
      "Last Activity_Email Opened                              1.130430\n",
      "Last Activity_Other Activity                            1.324519\n",
      "Last Activity_SMS Sent                                  2.530683\n",
      "Specialization_Other_Specialization                    -1.500381\n",
      "What is your current occupation_Unemployed             -1.486350\n",
      "What is your current occupation_Working Professional    1.133282\n",
      "Do Not Email_Yes                                       -1.264782\n",
      "Tags_Busy                                               3.958520\n",
      "Tags_Closed by Horizzon                                 8.626064\n",
      "Tags_Other_Tags                                         2.926701\n",
      "Tags_Will revert after reading the email                4.130941\n",
      "dtype: float64\n"
     ]
    }
   ],
   "source": [
    "print( col)\n",
    "print(res.params)"
   ]
  },
  {
   "cell_type": "markdown",
   "id": "4241cdc9",
   "metadata": {},
   "source": [
    "## Conclusion"
   ]
  },
  {
   "cell_type": "markdown",
   "id": "649ad6e9",
   "metadata": {},
   "source": [
    "1. The logistic regression model is used to predict the probabilty of conversion of a customer.\n",
    "2. Optimum cut off is chosen to be 0.4\n",
    "3. Our final Logistic Regression Model is built with 15 features.\n",
    "4. Final model Sensitivity of train and test : 84%\n",
    "5. Final mode Specificity of train and test : 81%\n",
    "6. Final model Accuracy of train and test : 82%\n",
    "7. Final mode Precision of train and test : 73%\n",
    "8. Features used in final model are ['Lead Origin_Landing Page Submission', 'Lead Origin_Lead Add Form',\n",
    "       'Last Activity_Email Opened', 'Last Activity_Other Activity',\n",
    "       'Last Activity_SMS Sent', 'Specialization_Other_Specialization',\n",
    "       'What is your current occupation_Unemployed',\n",
    "       'What is your current occupation_Working Professional',\n",
    "       'Do Not Email_Yes', 'Tags_Busy', 'Tags_Closed by Horizzon',\n",
    "       'Tags_Other_Tags', 'Tags_Will revert after reading the email']   "
   ]
  },
  {
   "cell_type": "markdown",
   "id": "9e33f807",
   "metadata": {},
   "source": [
    "---end---"
   ]
  }
 ],
 "metadata": {
  "kernelspec": {
   "display_name": "Python 3 (ipykernel)",
   "language": "python",
   "name": "python3"
  },
  "language_info": {
   "codemirror_mode": {
    "name": "ipython",
    "version": 3
   },
   "file_extension": ".py",
   "mimetype": "text/x-python",
   "name": "python",
   "nbconvert_exporter": "python",
   "pygments_lexer": "ipython3",
   "version": "3.9.7"
  }
 },
 "nbformat": 4,
 "nbformat_minor": 5
}
